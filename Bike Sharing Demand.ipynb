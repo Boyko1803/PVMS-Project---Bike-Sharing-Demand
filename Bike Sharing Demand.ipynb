{
 "cells": [
  {
   "cell_type": "markdown",
   "id": "2970090c",
   "metadata": {
    "slideshow": {
     "slide_type": "-"
    }
   },
   "source": [
    "# Предвиждане на търсенето на споделени велосипеди"
   ]
  },
  {
   "cell_type": "markdown",
   "id": "ec76f1dc",
   "metadata": {
    "slideshow": {
     "slide_type": "slide"
    }
   },
   "source": [
    "## Увод\n",
    "\n",
    "Системите за споделяне на велосипеди са средство за наемане на велосипеди, при което процесът на получаване на членство, наемане и връщане на велосипеди е автоматизиран чрез мрежа от специално означени местоположения в рамките на даден град. Използвайки тези системи, хората имат възможност да наемат велосипед от едно място и да го върнат на друго място в зависимост от нуждите им. В момента има над 500 програми за споделяне на велосипеди по света.\n",
    "\n",
    "В този проект ще използваме исторически данни за търсенето на споделени велосипеди в съчетание с метеорологични данни, за да предвидим какво ще бъде търсенето на споделени велосипеди в даден момент от време."
   ]
  },
  {
   "cell_type": "markdown",
   "id": "39b51a4b",
   "metadata": {},
   "source": [
    "## Преглед на данните\n",
    "\n",
    "За реализирането на проекта ще използваме следните данни от състезание в Kaggle:\n",
    "https://www.kaggle.com/competitions/bike-sharing-demand/overview\n",
    "\n",
    "Те представляват данни за търсенето на споделени велосипеди за периода 2011-2012 година в град Вашингтон за \"Capital Bikeshare\" програмата. Ето кратко описание на наличните характеристики:\n",
    "\n",
    "`datetime` – Низ, съдържащ датата и часа с точност до секунда на наблюдението.\n",
    "\n",
    "`season` – Сезон, когато е направено наблюдението. Индексирани са от 1 за пролет до 4 за зима.\n",
    "\n",
    "`holiday` – Булева стойност, която показва дали денят е празник.\n",
    "\n",
    "`workingday` – Булева стойност, която показва дали денят е работен.\n",
    "\n",
    "`weather` – Променлива, показваща какво е било времето. Индексирана от 1 до 4 като 1 е за слънчево, 2 е за облачно, 3 е за лек дъжд и 4 е за тежък дъжд.\n",
    "\n",
    "`temp` – Температура на въздуха в Целзий.\n",
    "\n",
    "`atemp` – “Усещана” температура в Целзий.\n",
    "\n",
    "`humidity` – Относителна влажност на въздуха в интервала от 0 до 100.\n",
    "\n",
    "`windspeed` – Скорост на вятъра.\n",
    "\n",
    "`casual` - Брой на наеманията от нерегистрирани потребители за съответния час.\n",
    "\n",
    "`registered` - Брой на наемания от регистрирани потребители за съответния час.\n",
    "\n",
    "`count` - Общ брой на наемания от потребители за съответния час.\n",
    "\n",
    "Да обърнем внимание, че характеристиките `casual`, `registered` и `count` присъстват само в тренировъчните данни за модела, но не и тестовите. Те са свързани със зависимостта $ count = casual + registered $.\n",
    "\n",
    "Като крайна цел се стремим да предскажем единствено величината `count`."
   ]
  },
  {
   "cell_type": "markdown",
   "id": "6d89b5c5",
   "metadata": {},
   "source": [
    "Нека да заредим нужните библиотеки за проекта и да прегледаме данните:"
   ]
  },
  {
   "cell_type": "code",
   "execution_count": 1,
   "id": "44b6bcfd",
   "metadata": {},
   "outputs": [],
   "source": [
    "import sys\n",
    "import numpy as np\n",
    "import sklearn\n",
    "import pandas as pd\n",
    "import matplotlib as mpl\n",
    "import matplotlib.pyplot as plt\n",
    "import seaborn as sns\n",
    "import warnings\n",
    "warnings.simplefilter(action='ignore', category=FutureWarning)\n",
    "\n",
    "%matplotlib inline"
   ]
  },
  {
   "cell_type": "markdown",
   "id": "b10c3d47",
   "metadata": {},
   "source": [
    "Зареждаме данните, с които ще обучаваме модели:"
   ]
  },
  {
   "cell_type": "code",
   "execution_count": 2,
   "id": "680e6b90",
   "metadata": {},
   "outputs": [
    {
     "data": {
      "text/html": [
       "<div>\n",
       "<style scoped>\n",
       "    .dataframe tbody tr th:only-of-type {\n",
       "        vertical-align: middle;\n",
       "    }\n",
       "\n",
       "    .dataframe tbody tr th {\n",
       "        vertical-align: top;\n",
       "    }\n",
       "\n",
       "    .dataframe thead th {\n",
       "        text-align: right;\n",
       "    }\n",
       "</style>\n",
       "<table border=\"1\" class=\"dataframe\">\n",
       "  <thead>\n",
       "    <tr style=\"text-align: right;\">\n",
       "      <th></th>\n",
       "      <th>datetime</th>\n",
       "      <th>season</th>\n",
       "      <th>holiday</th>\n",
       "      <th>workingday</th>\n",
       "      <th>weather</th>\n",
       "      <th>temp</th>\n",
       "      <th>atemp</th>\n",
       "      <th>humidity</th>\n",
       "      <th>windspeed</th>\n",
       "      <th>casual</th>\n",
       "      <th>registered</th>\n",
       "      <th>count</th>\n",
       "    </tr>\n",
       "  </thead>\n",
       "  <tbody>\n",
       "    <tr>\n",
       "      <th>0</th>\n",
       "      <td>2011-01-01 00:00:00</td>\n",
       "      <td>1</td>\n",
       "      <td>0</td>\n",
       "      <td>0</td>\n",
       "      <td>1</td>\n",
       "      <td>9.84</td>\n",
       "      <td>14.395</td>\n",
       "      <td>81</td>\n",
       "      <td>0.0000</td>\n",
       "      <td>3</td>\n",
       "      <td>13</td>\n",
       "      <td>16</td>\n",
       "    </tr>\n",
       "    <tr>\n",
       "      <th>1</th>\n",
       "      <td>2011-01-01 01:00:00</td>\n",
       "      <td>1</td>\n",
       "      <td>0</td>\n",
       "      <td>0</td>\n",
       "      <td>1</td>\n",
       "      <td>9.02</td>\n",
       "      <td>13.635</td>\n",
       "      <td>80</td>\n",
       "      <td>0.0000</td>\n",
       "      <td>8</td>\n",
       "      <td>32</td>\n",
       "      <td>40</td>\n",
       "    </tr>\n",
       "    <tr>\n",
       "      <th>2</th>\n",
       "      <td>2011-01-01 02:00:00</td>\n",
       "      <td>1</td>\n",
       "      <td>0</td>\n",
       "      <td>0</td>\n",
       "      <td>1</td>\n",
       "      <td>9.02</td>\n",
       "      <td>13.635</td>\n",
       "      <td>80</td>\n",
       "      <td>0.0000</td>\n",
       "      <td>5</td>\n",
       "      <td>27</td>\n",
       "      <td>32</td>\n",
       "    </tr>\n",
       "    <tr>\n",
       "      <th>3</th>\n",
       "      <td>2011-01-01 03:00:00</td>\n",
       "      <td>1</td>\n",
       "      <td>0</td>\n",
       "      <td>0</td>\n",
       "      <td>1</td>\n",
       "      <td>9.84</td>\n",
       "      <td>14.395</td>\n",
       "      <td>75</td>\n",
       "      <td>0.0000</td>\n",
       "      <td>3</td>\n",
       "      <td>10</td>\n",
       "      <td>13</td>\n",
       "    </tr>\n",
       "    <tr>\n",
       "      <th>4</th>\n",
       "      <td>2011-01-01 04:00:00</td>\n",
       "      <td>1</td>\n",
       "      <td>0</td>\n",
       "      <td>0</td>\n",
       "      <td>1</td>\n",
       "      <td>9.84</td>\n",
       "      <td>14.395</td>\n",
       "      <td>75</td>\n",
       "      <td>0.0000</td>\n",
       "      <td>0</td>\n",
       "      <td>1</td>\n",
       "      <td>1</td>\n",
       "    </tr>\n",
       "    <tr>\n",
       "      <th>5</th>\n",
       "      <td>2011-01-01 05:00:00</td>\n",
       "      <td>1</td>\n",
       "      <td>0</td>\n",
       "      <td>0</td>\n",
       "      <td>2</td>\n",
       "      <td>9.84</td>\n",
       "      <td>12.880</td>\n",
       "      <td>75</td>\n",
       "      <td>6.0032</td>\n",
       "      <td>0</td>\n",
       "      <td>1</td>\n",
       "      <td>1</td>\n",
       "    </tr>\n",
       "    <tr>\n",
       "      <th>6</th>\n",
       "      <td>2011-01-01 06:00:00</td>\n",
       "      <td>1</td>\n",
       "      <td>0</td>\n",
       "      <td>0</td>\n",
       "      <td>1</td>\n",
       "      <td>9.02</td>\n",
       "      <td>13.635</td>\n",
       "      <td>80</td>\n",
       "      <td>0.0000</td>\n",
       "      <td>2</td>\n",
       "      <td>0</td>\n",
       "      <td>2</td>\n",
       "    </tr>\n",
       "    <tr>\n",
       "      <th>7</th>\n",
       "      <td>2011-01-01 07:00:00</td>\n",
       "      <td>1</td>\n",
       "      <td>0</td>\n",
       "      <td>0</td>\n",
       "      <td>1</td>\n",
       "      <td>8.20</td>\n",
       "      <td>12.880</td>\n",
       "      <td>86</td>\n",
       "      <td>0.0000</td>\n",
       "      <td>1</td>\n",
       "      <td>2</td>\n",
       "      <td>3</td>\n",
       "    </tr>\n",
       "    <tr>\n",
       "      <th>8</th>\n",
       "      <td>2011-01-01 08:00:00</td>\n",
       "      <td>1</td>\n",
       "      <td>0</td>\n",
       "      <td>0</td>\n",
       "      <td>1</td>\n",
       "      <td>9.84</td>\n",
       "      <td>14.395</td>\n",
       "      <td>75</td>\n",
       "      <td>0.0000</td>\n",
       "      <td>1</td>\n",
       "      <td>7</td>\n",
       "      <td>8</td>\n",
       "    </tr>\n",
       "    <tr>\n",
       "      <th>9</th>\n",
       "      <td>2011-01-01 09:00:00</td>\n",
       "      <td>1</td>\n",
       "      <td>0</td>\n",
       "      <td>0</td>\n",
       "      <td>1</td>\n",
       "      <td>13.12</td>\n",
       "      <td>17.425</td>\n",
       "      <td>76</td>\n",
       "      <td>0.0000</td>\n",
       "      <td>8</td>\n",
       "      <td>6</td>\n",
       "      <td>14</td>\n",
       "    </tr>\n",
       "    <tr>\n",
       "      <th>10</th>\n",
       "      <td>2011-01-01 10:00:00</td>\n",
       "      <td>1</td>\n",
       "      <td>0</td>\n",
       "      <td>0</td>\n",
       "      <td>1</td>\n",
       "      <td>15.58</td>\n",
       "      <td>19.695</td>\n",
       "      <td>76</td>\n",
       "      <td>16.9979</td>\n",
       "      <td>12</td>\n",
       "      <td>24</td>\n",
       "      <td>36</td>\n",
       "    </tr>\n",
       "    <tr>\n",
       "      <th>11</th>\n",
       "      <td>2011-01-01 11:00:00</td>\n",
       "      <td>1</td>\n",
       "      <td>0</td>\n",
       "      <td>0</td>\n",
       "      <td>1</td>\n",
       "      <td>14.76</td>\n",
       "      <td>16.665</td>\n",
       "      <td>81</td>\n",
       "      <td>19.0012</td>\n",
       "      <td>26</td>\n",
       "      <td>30</td>\n",
       "      <td>56</td>\n",
       "    </tr>\n",
       "    <tr>\n",
       "      <th>12</th>\n",
       "      <td>2011-01-01 12:00:00</td>\n",
       "      <td>1</td>\n",
       "      <td>0</td>\n",
       "      <td>0</td>\n",
       "      <td>1</td>\n",
       "      <td>17.22</td>\n",
       "      <td>21.210</td>\n",
       "      <td>77</td>\n",
       "      <td>19.0012</td>\n",
       "      <td>29</td>\n",
       "      <td>55</td>\n",
       "      <td>84</td>\n",
       "    </tr>\n",
       "    <tr>\n",
       "      <th>13</th>\n",
       "      <td>2011-01-01 13:00:00</td>\n",
       "      <td>1</td>\n",
       "      <td>0</td>\n",
       "      <td>0</td>\n",
       "      <td>2</td>\n",
       "      <td>18.86</td>\n",
       "      <td>22.725</td>\n",
       "      <td>72</td>\n",
       "      <td>19.9995</td>\n",
       "      <td>47</td>\n",
       "      <td>47</td>\n",
       "      <td>94</td>\n",
       "    </tr>\n",
       "    <tr>\n",
       "      <th>14</th>\n",
       "      <td>2011-01-01 14:00:00</td>\n",
       "      <td>1</td>\n",
       "      <td>0</td>\n",
       "      <td>0</td>\n",
       "      <td>2</td>\n",
       "      <td>18.86</td>\n",
       "      <td>22.725</td>\n",
       "      <td>72</td>\n",
       "      <td>19.0012</td>\n",
       "      <td>35</td>\n",
       "      <td>71</td>\n",
       "      <td>106</td>\n",
       "    </tr>\n",
       "    <tr>\n",
       "      <th>15</th>\n",
       "      <td>2011-01-01 15:00:00</td>\n",
       "      <td>1</td>\n",
       "      <td>0</td>\n",
       "      <td>0</td>\n",
       "      <td>2</td>\n",
       "      <td>18.04</td>\n",
       "      <td>21.970</td>\n",
       "      <td>77</td>\n",
       "      <td>19.9995</td>\n",
       "      <td>40</td>\n",
       "      <td>70</td>\n",
       "      <td>110</td>\n",
       "    </tr>\n",
       "    <tr>\n",
       "      <th>16</th>\n",
       "      <td>2011-01-01 16:00:00</td>\n",
       "      <td>1</td>\n",
       "      <td>0</td>\n",
       "      <td>0</td>\n",
       "      <td>2</td>\n",
       "      <td>17.22</td>\n",
       "      <td>21.210</td>\n",
       "      <td>82</td>\n",
       "      <td>19.9995</td>\n",
       "      <td>41</td>\n",
       "      <td>52</td>\n",
       "      <td>93</td>\n",
       "    </tr>\n",
       "    <tr>\n",
       "      <th>17</th>\n",
       "      <td>2011-01-01 17:00:00</td>\n",
       "      <td>1</td>\n",
       "      <td>0</td>\n",
       "      <td>0</td>\n",
       "      <td>2</td>\n",
       "      <td>18.04</td>\n",
       "      <td>21.970</td>\n",
       "      <td>82</td>\n",
       "      <td>19.0012</td>\n",
       "      <td>15</td>\n",
       "      <td>52</td>\n",
       "      <td>67</td>\n",
       "    </tr>\n",
       "    <tr>\n",
       "      <th>18</th>\n",
       "      <td>2011-01-01 18:00:00</td>\n",
       "      <td>1</td>\n",
       "      <td>0</td>\n",
       "      <td>0</td>\n",
       "      <td>3</td>\n",
       "      <td>17.22</td>\n",
       "      <td>21.210</td>\n",
       "      <td>88</td>\n",
       "      <td>16.9979</td>\n",
       "      <td>9</td>\n",
       "      <td>26</td>\n",
       "      <td>35</td>\n",
       "    </tr>\n",
       "    <tr>\n",
       "      <th>19</th>\n",
       "      <td>2011-01-01 19:00:00</td>\n",
       "      <td>1</td>\n",
       "      <td>0</td>\n",
       "      <td>0</td>\n",
       "      <td>3</td>\n",
       "      <td>17.22</td>\n",
       "      <td>21.210</td>\n",
       "      <td>88</td>\n",
       "      <td>16.9979</td>\n",
       "      <td>6</td>\n",
       "      <td>31</td>\n",
       "      <td>37</td>\n",
       "    </tr>\n",
       "    <tr>\n",
       "      <th>20</th>\n",
       "      <td>2011-01-01 20:00:00</td>\n",
       "      <td>1</td>\n",
       "      <td>0</td>\n",
       "      <td>0</td>\n",
       "      <td>2</td>\n",
       "      <td>16.40</td>\n",
       "      <td>20.455</td>\n",
       "      <td>87</td>\n",
       "      <td>16.9979</td>\n",
       "      <td>11</td>\n",
       "      <td>25</td>\n",
       "      <td>36</td>\n",
       "    </tr>\n",
       "    <tr>\n",
       "      <th>21</th>\n",
       "      <td>2011-01-01 21:00:00</td>\n",
       "      <td>1</td>\n",
       "      <td>0</td>\n",
       "      <td>0</td>\n",
       "      <td>2</td>\n",
       "      <td>16.40</td>\n",
       "      <td>20.455</td>\n",
       "      <td>87</td>\n",
       "      <td>12.9980</td>\n",
       "      <td>3</td>\n",
       "      <td>31</td>\n",
       "      <td>34</td>\n",
       "    </tr>\n",
       "    <tr>\n",
       "      <th>22</th>\n",
       "      <td>2011-01-01 22:00:00</td>\n",
       "      <td>1</td>\n",
       "      <td>0</td>\n",
       "      <td>0</td>\n",
       "      <td>2</td>\n",
       "      <td>16.40</td>\n",
       "      <td>20.455</td>\n",
       "      <td>94</td>\n",
       "      <td>15.0013</td>\n",
       "      <td>11</td>\n",
       "      <td>17</td>\n",
       "      <td>28</td>\n",
       "    </tr>\n",
       "    <tr>\n",
       "      <th>23</th>\n",
       "      <td>2011-01-01 23:00:00</td>\n",
       "      <td>1</td>\n",
       "      <td>0</td>\n",
       "      <td>0</td>\n",
       "      <td>2</td>\n",
       "      <td>18.86</td>\n",
       "      <td>22.725</td>\n",
       "      <td>88</td>\n",
       "      <td>19.9995</td>\n",
       "      <td>15</td>\n",
       "      <td>24</td>\n",
       "      <td>39</td>\n",
       "    </tr>\n",
       "  </tbody>\n",
       "</table>\n",
       "</div>"
      ],
      "text/plain": [
       "               datetime  season  holiday  workingday  weather   temp   atemp  \\\n",
       "0   2011-01-01 00:00:00       1        0           0        1   9.84  14.395   \n",
       "1   2011-01-01 01:00:00       1        0           0        1   9.02  13.635   \n",
       "2   2011-01-01 02:00:00       1        0           0        1   9.02  13.635   \n",
       "3   2011-01-01 03:00:00       1        0           0        1   9.84  14.395   \n",
       "4   2011-01-01 04:00:00       1        0           0        1   9.84  14.395   \n",
       "5   2011-01-01 05:00:00       1        0           0        2   9.84  12.880   \n",
       "6   2011-01-01 06:00:00       1        0           0        1   9.02  13.635   \n",
       "7   2011-01-01 07:00:00       1        0           0        1   8.20  12.880   \n",
       "8   2011-01-01 08:00:00       1        0           0        1   9.84  14.395   \n",
       "9   2011-01-01 09:00:00       1        0           0        1  13.12  17.425   \n",
       "10  2011-01-01 10:00:00       1        0           0        1  15.58  19.695   \n",
       "11  2011-01-01 11:00:00       1        0           0        1  14.76  16.665   \n",
       "12  2011-01-01 12:00:00       1        0           0        1  17.22  21.210   \n",
       "13  2011-01-01 13:00:00       1        0           0        2  18.86  22.725   \n",
       "14  2011-01-01 14:00:00       1        0           0        2  18.86  22.725   \n",
       "15  2011-01-01 15:00:00       1        0           0        2  18.04  21.970   \n",
       "16  2011-01-01 16:00:00       1        0           0        2  17.22  21.210   \n",
       "17  2011-01-01 17:00:00       1        0           0        2  18.04  21.970   \n",
       "18  2011-01-01 18:00:00       1        0           0        3  17.22  21.210   \n",
       "19  2011-01-01 19:00:00       1        0           0        3  17.22  21.210   \n",
       "20  2011-01-01 20:00:00       1        0           0        2  16.40  20.455   \n",
       "21  2011-01-01 21:00:00       1        0           0        2  16.40  20.455   \n",
       "22  2011-01-01 22:00:00       1        0           0        2  16.40  20.455   \n",
       "23  2011-01-01 23:00:00       1        0           0        2  18.86  22.725   \n",
       "\n",
       "    humidity  windspeed  casual  registered  count  \n",
       "0         81     0.0000       3          13     16  \n",
       "1         80     0.0000       8          32     40  \n",
       "2         80     0.0000       5          27     32  \n",
       "3         75     0.0000       3          10     13  \n",
       "4         75     0.0000       0           1      1  \n",
       "5         75     6.0032       0           1      1  \n",
       "6         80     0.0000       2           0      2  \n",
       "7         86     0.0000       1           2      3  \n",
       "8         75     0.0000       1           7      8  \n",
       "9         76     0.0000       8           6     14  \n",
       "10        76    16.9979      12          24     36  \n",
       "11        81    19.0012      26          30     56  \n",
       "12        77    19.0012      29          55     84  \n",
       "13        72    19.9995      47          47     94  \n",
       "14        72    19.0012      35          71    106  \n",
       "15        77    19.9995      40          70    110  \n",
       "16        82    19.9995      41          52     93  \n",
       "17        82    19.0012      15          52     67  \n",
       "18        88    16.9979       9          26     35  \n",
       "19        88    16.9979       6          31     37  \n",
       "20        87    16.9979      11          25     36  \n",
       "21        87    12.9980       3          31     34  \n",
       "22        94    15.0013      11          17     28  \n",
       "23        88    19.9995      15          24     39  "
      ]
     },
     "execution_count": 2,
     "metadata": {},
     "output_type": "execute_result"
    }
   ],
   "source": [
    "original = pd.read_csv('data/train.csv')\n",
    "original.head(24)"
   ]
  },
  {
   "cell_type": "markdown",
   "id": "9de38591",
   "metadata": {},
   "source": [
    "Да погледнем размера на данните:"
   ]
  },
  {
   "cell_type": "code",
   "execution_count": 3,
   "id": "60c4cfdf",
   "metadata": {},
   "outputs": [
    {
     "name": "stdout",
     "output_type": "stream",
     "text": [
      "(10886, 12)\n"
     ]
    }
   ],
   "source": [
    "print(original.shape)"
   ]
  },
  {
   "cell_type": "markdown",
   "id": "b15a54b8",
   "metadata": {},
   "source": [
    "Имаме много на брой инстанции и не много характеристики. Това най-вероятно ще ни предпази от появата на underfit или overfit.\n",
    "\n",
    "Да видим малко повече информация за тях:"
   ]
  },
  {
   "cell_type": "code",
   "execution_count": 4,
   "id": "f67230d2",
   "metadata": {},
   "outputs": [
    {
     "name": "stdout",
     "output_type": "stream",
     "text": [
      "<class 'pandas.core.frame.DataFrame'>\n",
      "RangeIndex: 10886 entries, 0 to 10885\n",
      "Data columns (total 12 columns):\n",
      " #   Column      Non-Null Count  Dtype  \n",
      "---  ------      --------------  -----  \n",
      " 0   datetime    10886 non-null  object \n",
      " 1   season      10886 non-null  int64  \n",
      " 2   holiday     10886 non-null  int64  \n",
      " 3   workingday  10886 non-null  int64  \n",
      " 4   weather     10886 non-null  int64  \n",
      " 5   temp        10886 non-null  float64\n",
      " 6   atemp       10886 non-null  float64\n",
      " 7   humidity    10886 non-null  int64  \n",
      " 8   windspeed   10886 non-null  float64\n",
      " 9   casual      10886 non-null  int64  \n",
      " 10  registered  10886 non-null  int64  \n",
      " 11  count       10886 non-null  int64  \n",
      "dtypes: float64(3), int64(8), object(1)\n",
      "memory usage: 1020.7+ KB\n"
     ]
    }
   ],
   "source": [
    "original.info()"
   ]
  },
  {
   "cell_type": "markdown",
   "id": "ba4c1649",
   "metadata": {},
   "source": [
    "Виждаме, че всички всички колони за числови с изключение на `datetime`. Ще трябва тази колона допълнително да я обработим, за да изкараме информация, която е подходяща за обучение на модели.\n",
    "\n",
    "Да погледнем също така дали имаме липсващи стойности в данните:"
   ]
  },
  {
   "cell_type": "code",
   "execution_count": 5,
   "id": "2f2c1706",
   "metadata": {},
   "outputs": [
    {
     "data": {
      "text/plain": [
       "datetime      0\n",
       "season        0\n",
       "holiday       0\n",
       "workingday    0\n",
       "weather       0\n",
       "temp          0\n",
       "atemp         0\n",
       "humidity      0\n",
       "windspeed     0\n",
       "casual        0\n",
       "registered    0\n",
       "count         0\n",
       "dtype: int64"
      ]
     },
     "execution_count": 5,
     "metadata": {},
     "output_type": "execute_result"
    }
   ],
   "source": [
    "original.isnull().sum().sort_values()"
   ]
  },
  {
   "cell_type": "markdown",
   "id": "76727a79",
   "metadata": {},
   "source": [
    "Нямаме липсващи стойности. Съответно това е един проблем по-малко, за който да се тревожим.\n",
    "\n",
    "Нека да погледнем малко информация за числовите характеристики и да начертаем хистограми:"
   ]
  },
  {
   "cell_type": "code",
   "execution_count": 6,
   "id": "2773966d",
   "metadata": {},
   "outputs": [
    {
     "data": {
      "text/html": [
       "<div>\n",
       "<style scoped>\n",
       "    .dataframe tbody tr th:only-of-type {\n",
       "        vertical-align: middle;\n",
       "    }\n",
       "\n",
       "    .dataframe tbody tr th {\n",
       "        vertical-align: top;\n",
       "    }\n",
       "\n",
       "    .dataframe thead th {\n",
       "        text-align: right;\n",
       "    }\n",
       "</style>\n",
       "<table border=\"1\" class=\"dataframe\">\n",
       "  <thead>\n",
       "    <tr style=\"text-align: right;\">\n",
       "      <th></th>\n",
       "      <th>season</th>\n",
       "      <th>holiday</th>\n",
       "      <th>workingday</th>\n",
       "      <th>weather</th>\n",
       "      <th>temp</th>\n",
       "      <th>atemp</th>\n",
       "      <th>humidity</th>\n",
       "      <th>windspeed</th>\n",
       "      <th>casual</th>\n",
       "      <th>registered</th>\n",
       "      <th>count</th>\n",
       "    </tr>\n",
       "  </thead>\n",
       "  <tbody>\n",
       "    <tr>\n",
       "      <th>count</th>\n",
       "      <td>10886.000000</td>\n",
       "      <td>10886.000000</td>\n",
       "      <td>10886.000000</td>\n",
       "      <td>10886.000000</td>\n",
       "      <td>10886.00000</td>\n",
       "      <td>10886.000000</td>\n",
       "      <td>10886.000000</td>\n",
       "      <td>10886.000000</td>\n",
       "      <td>10886.000000</td>\n",
       "      <td>10886.000000</td>\n",
       "      <td>10886.000000</td>\n",
       "    </tr>\n",
       "    <tr>\n",
       "      <th>mean</th>\n",
       "      <td>2.506614</td>\n",
       "      <td>0.028569</td>\n",
       "      <td>0.680875</td>\n",
       "      <td>1.418427</td>\n",
       "      <td>20.23086</td>\n",
       "      <td>23.655084</td>\n",
       "      <td>61.886460</td>\n",
       "      <td>12.799395</td>\n",
       "      <td>36.021955</td>\n",
       "      <td>155.552177</td>\n",
       "      <td>191.574132</td>\n",
       "    </tr>\n",
       "    <tr>\n",
       "      <th>std</th>\n",
       "      <td>1.116174</td>\n",
       "      <td>0.166599</td>\n",
       "      <td>0.466159</td>\n",
       "      <td>0.633839</td>\n",
       "      <td>7.79159</td>\n",
       "      <td>8.474601</td>\n",
       "      <td>19.245033</td>\n",
       "      <td>8.164537</td>\n",
       "      <td>49.960477</td>\n",
       "      <td>151.039033</td>\n",
       "      <td>181.144454</td>\n",
       "    </tr>\n",
       "    <tr>\n",
       "      <th>min</th>\n",
       "      <td>1.000000</td>\n",
       "      <td>0.000000</td>\n",
       "      <td>0.000000</td>\n",
       "      <td>1.000000</td>\n",
       "      <td>0.82000</td>\n",
       "      <td>0.760000</td>\n",
       "      <td>0.000000</td>\n",
       "      <td>0.000000</td>\n",
       "      <td>0.000000</td>\n",
       "      <td>0.000000</td>\n",
       "      <td>1.000000</td>\n",
       "    </tr>\n",
       "    <tr>\n",
       "      <th>25%</th>\n",
       "      <td>2.000000</td>\n",
       "      <td>0.000000</td>\n",
       "      <td>0.000000</td>\n",
       "      <td>1.000000</td>\n",
       "      <td>13.94000</td>\n",
       "      <td>16.665000</td>\n",
       "      <td>47.000000</td>\n",
       "      <td>7.001500</td>\n",
       "      <td>4.000000</td>\n",
       "      <td>36.000000</td>\n",
       "      <td>42.000000</td>\n",
       "    </tr>\n",
       "    <tr>\n",
       "      <th>50%</th>\n",
       "      <td>3.000000</td>\n",
       "      <td>0.000000</td>\n",
       "      <td>1.000000</td>\n",
       "      <td>1.000000</td>\n",
       "      <td>20.50000</td>\n",
       "      <td>24.240000</td>\n",
       "      <td>62.000000</td>\n",
       "      <td>12.998000</td>\n",
       "      <td>17.000000</td>\n",
       "      <td>118.000000</td>\n",
       "      <td>145.000000</td>\n",
       "    </tr>\n",
       "    <tr>\n",
       "      <th>75%</th>\n",
       "      <td>4.000000</td>\n",
       "      <td>0.000000</td>\n",
       "      <td>1.000000</td>\n",
       "      <td>2.000000</td>\n",
       "      <td>26.24000</td>\n",
       "      <td>31.060000</td>\n",
       "      <td>77.000000</td>\n",
       "      <td>16.997900</td>\n",
       "      <td>49.000000</td>\n",
       "      <td>222.000000</td>\n",
       "      <td>284.000000</td>\n",
       "    </tr>\n",
       "    <tr>\n",
       "      <th>max</th>\n",
       "      <td>4.000000</td>\n",
       "      <td>1.000000</td>\n",
       "      <td>1.000000</td>\n",
       "      <td>4.000000</td>\n",
       "      <td>41.00000</td>\n",
       "      <td>45.455000</td>\n",
       "      <td>100.000000</td>\n",
       "      <td>56.996900</td>\n",
       "      <td>367.000000</td>\n",
       "      <td>886.000000</td>\n",
       "      <td>977.000000</td>\n",
       "    </tr>\n",
       "  </tbody>\n",
       "</table>\n",
       "</div>"
      ],
      "text/plain": [
       "             season       holiday    workingday       weather         temp  \\\n",
       "count  10886.000000  10886.000000  10886.000000  10886.000000  10886.00000   \n",
       "mean       2.506614      0.028569      0.680875      1.418427     20.23086   \n",
       "std        1.116174      0.166599      0.466159      0.633839      7.79159   \n",
       "min        1.000000      0.000000      0.000000      1.000000      0.82000   \n",
       "25%        2.000000      0.000000      0.000000      1.000000     13.94000   \n",
       "50%        3.000000      0.000000      1.000000      1.000000     20.50000   \n",
       "75%        4.000000      0.000000      1.000000      2.000000     26.24000   \n",
       "max        4.000000      1.000000      1.000000      4.000000     41.00000   \n",
       "\n",
       "              atemp      humidity     windspeed        casual    registered  \\\n",
       "count  10886.000000  10886.000000  10886.000000  10886.000000  10886.000000   \n",
       "mean      23.655084     61.886460     12.799395     36.021955    155.552177   \n",
       "std        8.474601     19.245033      8.164537     49.960477    151.039033   \n",
       "min        0.760000      0.000000      0.000000      0.000000      0.000000   \n",
       "25%       16.665000     47.000000      7.001500      4.000000     36.000000   \n",
       "50%       24.240000     62.000000     12.998000     17.000000    118.000000   \n",
       "75%       31.060000     77.000000     16.997900     49.000000    222.000000   \n",
       "max       45.455000    100.000000     56.996900    367.000000    886.000000   \n",
       "\n",
       "              count  \n",
       "count  10886.000000  \n",
       "mean     191.574132  \n",
       "std      181.144454  \n",
       "min        1.000000  \n",
       "25%       42.000000  \n",
       "50%      145.000000  \n",
       "75%      284.000000  \n",
       "max      977.000000  "
      ]
     },
     "execution_count": 6,
     "metadata": {},
     "output_type": "execute_result"
    }
   ],
   "source": [
    "original.describe()"
   ]
  },
  {
   "cell_type": "code",
   "execution_count": 7,
   "id": "083cfa6c",
   "metadata": {},
   "outputs": [
    {
     "data": {
      "image/png": "[encoded data removed]",
      "text/plain": [
       "<Figure size 432x288 with 1 Axes>"
      ]
     },
     "metadata": {
      "needs_background": "light"
     },
     "output_type": "display_data"
    }
   ],
   "source": [
    "sns.countplot(original[\"season\"]);"
   ]
  },
  {
   "cell_type": "code",
   "execution_count": 8,
   "id": "c59b7168",
   "metadata": {},
   "outputs": [
    {
     "data": {
      "image/png": "[encoded data removed]",
      "text/plain": [
       "<Figure size 432x288 with 1 Axes>"
      ]
     },
     "metadata": {
      "needs_background": "light"
     },
     "output_type": "display_data"
    }
   ],
   "source": [
    "sns.countplot(original[\"holiday\"]);"
   ]
  },
  {
   "cell_type": "code",
   "execution_count": 9,
   "id": "dcf5f1dd",
   "metadata": {},
   "outputs": [
    {
     "data": {
      "image/png": "[encoded data removed]",
      "text/plain": [
       "<Figure size 432x288 with 1 Axes>"
      ]
     },
     "metadata": {
      "needs_background": "light"
     },
     "output_type": "display_data"
    }
   ],
   "source": [
    "sns.countplot(original[\"workingday\"]);"
   ]
  },
  {
   "cell_type": "code",
   "execution_count": 10,
   "id": "c10012de",
   "metadata": {},
   "outputs": [
    {
     "data": {
      "image/png": "[encoded data removed]",
      "text/plain": [
       "<Figure size 432x288 with 1 Axes>"
      ]
     },
     "metadata": {
      "needs_background": "light"
     },
     "output_type": "display_data"
    }
   ],
   "source": [
    "sns.countplot(original[\"weather\"]);"
   ]
  },
  {
   "cell_type": "code",
   "execution_count": 11,
   "id": "3d9e8ed7",
   "metadata": {},
   "outputs": [
    {
     "data": {
      "image/png": "[encoded data removed]",
      "text/plain": [
       "<Figure size 432x288 with 1 Axes>"
      ]
     },
     "metadata": {
      "needs_background": "light"
     },
     "output_type": "display_data"
    }
   ],
   "source": [
    "sns.distplot(original[\"temp\"]);"
   ]
  },
  {
   "cell_type": "code",
   "execution_count": 12,
   "id": "98e6b3f2",
   "metadata": {},
   "outputs": [
    {
     "data": {
      "image/png": "[encoded data removed]",
      "text/plain": [
       "<Figure size 432x288 with 1 Axes>"
      ]
     },
     "metadata": {
      "needs_background": "light"
     },
     "output_type": "display_data"
    }
   ],
   "source": [
    "sns.distplot(original[\"atemp\"]);"
   ]
  },
  {
   "cell_type": "code",
   "execution_count": 13,
   "id": "5df927fc",
   "metadata": {},
   "outputs": [
    {
     "data": {
      "image/png": "[encoded data removed]",
      "text/plain": [
       "<Figure size 432x288 with 1 Axes>"
      ]
     },
     "metadata": {
      "needs_background": "light"
     },
     "output_type": "display_data"
    }
   ],
   "source": [
    "sns.distplot(original[\"windspeed\"]);"
   ]
  },
  {
   "cell_type": "markdown",
   "id": "d72ba16e",
   "metadata": {},
   "source": [
    "Виждаме, че повечето от тях са разпределени сравнително равномерно. Изключение са `holiday` и `weather` при които има доста сериозна асиметрия на данните.\n",
    "\n",
    "Няма да разглеждаме `casual` и `registered`. Те може да са от полза, ако искаме да обучим два отделни модела и да събираме резултата от тях, за да получим `count`. Това обаче усложнява задачата. За целите на проекта е достатъчно да обучим един модел, които да предсказва директно `count`.\n",
    "\n",
    "Нека да резгледаме величината `count`, която ще предсказваме. "
   ]
  },
  {
   "cell_type": "code",
   "execution_count": 14,
   "id": "7c7cdb8a",
   "metadata": {},
   "outputs": [
    {
     "data": {
      "image/png": "[encoded data removed]",
      "text/plain": [
       "<Figure size 432x288 with 1 Axes>"
      ]
     },
     "metadata": {
      "needs_background": "light"
     },
     "output_type": "display_data"
    }
   ],
   "source": [
    "sns.distplot(original[\"count\"]);"
   ]
  },
  {
   "cell_type": "markdown",
   "id": "92a9f811",
   "metadata": {},
   "source": [
    "Изглежда има сериозна асиметрия, тъй като много стойности са концентрирани около нулата. Да пробваме да преобразуваме величината."
   ]
  },
  {
   "cell_type": "markdown",
   "id": "ab612b3a",
   "metadata": {},
   "source": [
    "Първо да пробваме да я логаритмуваме:"
   ]
  },
  {
   "cell_type": "code",
   "execution_count": 15,
   "id": "c338bfbd",
   "metadata": {},
   "outputs": [
    {
     "data": {
      "image/png": "[encoded data removed]",
      "text/plain": [
       "<Figure size 432x288 with 1 Axes>"
      ]
     },
     "metadata": {
      "needs_background": "light"
     },
     "output_type": "display_data"
    }
   ],
   "source": [
    "sns.distplot(np.log(original[\"count\"]));"
   ]
  },
  {
   "cell_type": "markdown",
   "id": "cc1fc189",
   "metadata": {},
   "source": [
    "Вече изглежда по-равномерно разпределена.\n",
    "\n",
    "Да пробваме и с коренуване:"
   ]
  },
  {
   "cell_type": "code",
   "execution_count": 16,
   "id": "7edcf229",
   "metadata": {},
   "outputs": [
    {
     "data": {
      "image/png": "[encoded data removed]",
      "text/plain": [
       "<Figure size 432x288 with 1 Axes>"
      ]
     },
     "metadata": {
      "needs_background": "light"
     },
     "output_type": "display_data"
    }
   ],
   "source": [
    "sns.distplot(np.sqrt(original[\"count\"]));"
   ]
  },
  {
   "cell_type": "markdown",
   "id": "ade3204c",
   "metadata": {},
   "source": [
    "Тези графики изглеждат по-равномерни. Може да се опитаме да предскажем тях вместо оригиналната стойност и да видим дали ще получим по-добри резултати."
   ]
  },
  {
   "cell_type": "code",
   "execution_count": 17,
   "id": "7e5912cf",
   "metadata": {},
   "outputs": [],
   "source": [
    "target = original[\"count\"]\n",
    "target_log = np.log(original[\"count\"])\n",
    "target_sqrt = np.sqrt(original[\"count\"])"
   ]
  },
  {
   "cell_type": "markdown",
   "id": "05c42a4c",
   "metadata": {},
   "source": [
    "## Метрики за оценка на моделите\n",
    "\n",
    "Сега трябва да изберем метрика, по която ще оценяваме колко добри са моделите.\n",
    "\n",
    "Основно ще използваме `R-squared` метриката, която е стандартна при регресия. Освен това може да пробваме и с `Root Mean Squared Logarithmic Error (RMSLE)`, тъй като тази метрика се използва при оценките на заданието в Kaggle.\n",
    "\n",
    "Освен това ще си дефинираме вариаци на тях, които допълнително преобразуват данните в случай, че използваме логаритмуване или коренуване на очаквания резултат. При RMSLE е задължително да бъдат подавани неотрицателни стойности при оценка на грешката. Поради тази причина в дефинираните оценки за стандартна и коренувана версия автоматично ще преобразуваме отрицателните стойности до 0.\n",
    "\n",
    "Също така за RMSLE искаме по-малките стойности да са по-добри. Затова имаме параметър $ greater\\_is\\_better=False $, който ги взима с отрицателна стойност (тоест ги разглежда като загуба - loss)."
   ]
  },
  {
   "cell_type": "code",
   "execution_count": 18,
   "id": "5f744477",
   "metadata": {},
   "outputs": [],
   "source": [
    "from sklearn.metrics import r2_score, mean_squared_log_error, make_scorer\n",
    "\n",
    "r2 = make_scorer(lambda y_true, y_pred, **kwargs: r2_score(y_true, y_pred))\n",
    "r2_log = make_scorer(lambda y_true, y_pred, **kwargs: r2_score(np.exp(y_true), np.exp(y_pred)))\n",
    "r2_sqrt = make_scorer(lambda y_true, y_pred, **kwargs: r2_score(np.power(y_true, 2), np.power(np.maximum(y_pred, 0), 2)))\n",
    "\n",
    "rmsle = make_scorer(lambda y_true, y_pred, **kwargs: np.sqrt(mean_squared_log_error(y_true, np.maximum(y_pred, 0))), greater_is_better=False)\n",
    "rmsle_log = make_scorer(lambda y_true, y_pred, **kwargs: np.sqrt(mean_squared_log_error(np.exp(y_true), np.exp(y_pred))), greater_is_better=False)\n",
    "rmsle_sqrt = make_scorer(lambda y_true, y_pred, **kwargs: np.sqrt(mean_squared_log_error(np.power(y_true, 2), np.power(np.maximum(y_pred, 0), 2))), greater_is_better=False)"
   ]
  },
  {
   "cell_type": "markdown",
   "id": "2e64717c",
   "metadata": {},
   "source": [
    "## Инжинерство на характеристиките"
   ]
  },
  {
   "cell_type": "markdown",
   "id": "6e78c09a",
   "metadata": {},
   "source": [
    "Трябва да проебразуваме характеристиките до вид, в който може моделите да извлекат полезна информация от тях. Нека да си отделим тези характеристики, по които ще тренираме моделите."
   ]
  },
  {
   "cell_type": "code",
   "execution_count": 19,
   "id": "e21dd4c5",
   "metadata": {},
   "outputs": [],
   "source": [
    "train = original.drop(columns=[\"count\", \"casual\", \"registered\"])"
   ]
  },
  {
   "cell_type": "markdown",
   "id": "6c08c3b1",
   "metadata": {},
   "source": [
    "Единствената нечислова характеристика е `datetime`. Засега ще я оставим настрани и после ще видим как може да извлечем информация от нея."
   ]
  },
  {
   "cell_type": "code",
   "execution_count": 20,
   "id": "bdbfe6e1",
   "metadata": {},
   "outputs": [],
   "source": [
    "train_without_datetime = train.drop(columns=[\"datetime\"])"
   ]
  },
  {
   "cell_type": "markdown",
   "id": "a8ee3858",
   "metadata": {},
   "source": [
    "Да разделим данните на тренировъчни и тестови и да видим как се спрамя базов линеен модел с числовите характеристики засега."
   ]
  },
  {
   "cell_type": "code",
   "execution_count": 21,
   "id": "a28d13a7",
   "metadata": {},
   "outputs": [],
   "source": [
    "from sklearn.model_selection import train_test_split\n",
    "\n",
    "x_train, x_test, y_train, y_test = train_test_split(train_without_datetime, \n",
    "                                                    target, \n",
    "                                                    test_size=0.25, \n",
    "                                                    random_state=0)\n",
    "\n",
    "y_train_log = np.log(y_train)\n",
    "y_test_log = np.log(y_test)\n",
    "\n",
    "y_train_sqrt = np.sqrt(y_train)\n",
    "y_test_sqrt = np.sqrt(y_test)"
   ]
  },
  {
   "cell_type": "code",
   "execution_count": 22,
   "id": "7518099d",
   "metadata": {},
   "outputs": [],
   "source": [
    "from sklearn.linear_model import LinearRegression\n",
    "linear_regressor = LinearRegression()"
   ]
  },
  {
   "cell_type": "code",
   "execution_count": 23,
   "id": "9e3533f1",
   "metadata": {},
   "outputs": [
    {
     "name": "stdout",
     "output_type": "stream",
     "text": [
      "R-squared score:  0.26553301207099445\n",
      "R-squared score with log:  0.08291262349745832\n",
      "R-squared score with sqrt:  0.23794496363577222\n"
     ]
    }
   ],
   "source": [
    "linear_regressor.fit(x_train, y_train)\n",
    "print(\"R-squared score: \", r2(linear_regressor, x_test, y_test))\n",
    "\n",
    "linear_regressor.fit(x_train, y_train_log)\n",
    "print(\"R-squared score with log: \", r2_log(linear_regressor, x_test, y_test_log))\n",
    "\n",
    "linear_regressor.fit(x_train, y_train_sqrt)\n",
    "print(\"R-squared score with sqrt: \", r2_sqrt(linear_regressor, x_test, y_test_sqrt))"
   ]
  },
  {
   "cell_type": "markdown",
   "id": "b8f6ea3f",
   "metadata": {},
   "source": [
    "Оценките са ниски. Това е очаквано, понеже напълно игнорираме часа, което е доста значима характеристика. Все пак резултатите са по-големи от 0, което означава, че се намира някаква зависимост в данните. Да разгледаме и RMSLE оценките:"
   ]
  },
  {
   "cell_type": "code",
   "execution_count": 24,
   "id": "aba83639",
   "metadata": {},
   "outputs": [
    {
     "name": "stdout",
     "output_type": "stream",
     "text": [
      "RMSLE score:  -1.4489640897383254\n",
      "RMSLE score with log:  -1.2207378392178587\n",
      "RMSLE score with sqrt:  -1.2758765282079028\n"
     ]
    }
   ],
   "source": [
    "linear_regressor.fit(x_train, y_train)\n",
    "print(\"RMSLE score: \", rmsle(linear_regressor, x_test, y_test))\n",
    "\n",
    "linear_regressor.fit(x_train, y_train_log)\n",
    "print(\"RMSLE score with log: \", rmsle_log(linear_regressor, x_test, y_test_log))\n",
    "\n",
    "linear_regressor.fit(x_train, y_train_sqrt)\n",
    "print(\"RMSLE score with sqrt: \", rmsle_sqrt(linear_regressor, x_test, y_test_sqrt))"
   ]
  },
  {
   "cell_type": "markdown",
   "id": "516aaa7a",
   "metadata": {},
   "source": [
    "Нека направим помощтна функция, която да ни показва тази информация за произволни регресори. Тя използва подадените train характеристики и глобалната target целева стойност, на които автоматично им прави `train_test_split`. Идеята зад това е, че ще ни се наложи да пробваме няколко различни представяния на характеристиките и ни трябва лесен начин да сменяме представянето."
   ]
  },
  {
   "cell_type": "code",
   "execution_count": 25,
   "id": "e08ba318",
   "metadata": {},
   "outputs": [],
   "source": [
    "def score_regressor(regressor, trainData):\n",
    "    x_train, x_test, y_train, y_test = train_test_split(trainData, \n",
    "                                                    target, \n",
    "                                                    test_size=0.25, \n",
    "                                                    random_state=0)\n",
    "\n",
    "    y_train_log = np.log(y_train)\n",
    "    y_test_log = np.log(y_test)\n",
    "    \n",
    "    y_train_sqrt = np.sqrt(y_train)\n",
    "    y_test_sqrt = np.sqrt(y_test)\n",
    "    \n",
    "    regressor.fit(x_train, y_train)\n",
    "    print(\"R-squared score: \", r2(regressor, x_test, y_test))\n",
    "    print(\"RMSLE score: \", rmsle(regressor, x_test, y_test))\n",
    "\n",
    "    regressor.fit(x_train, y_train_log)\n",
    "    print(\"R-squared score with log: \", r2_log(regressor, x_test, y_test_log))\n",
    "    print(\"RMSLE score with log: \", rmsle_log(regressor, x_test, y_test_log))\n",
    "\n",
    "    regressor.fit(x_train, y_train_sqrt)\n",
    "    print(\"R-squared score with sqrt: \", r2_sqrt(regressor, x_test, y_test_sqrt))\n",
    "    print(\"RMSLE score with sqrt: \", rmsle_sqrt(regressor, x_test, y_test_sqrt))"
   ]
  },
  {
   "cell_type": "code",
   "execution_count": 26,
   "id": "6c97e6a1",
   "metadata": {},
   "outputs": [
    {
     "name": "stdout",
     "output_type": "stream",
     "text": [
      "Linear regressor:\n",
      "\n",
      "R-squared score:  0.26553301207099445\n",
      "RMSLE score:  -1.4489640897383254\n",
      "R-squared score with log:  0.08291262349745832\n",
      "RMSLE score with log:  -1.2207378392178587\n",
      "R-squared score with sqrt:  0.23794496363577222\n",
      "RMSLE score with sqrt:  -1.2758765282079028\n"
     ]
    }
   ],
   "source": [
    "print(\"Linear regressor:\\n\")\n",
    "score_regressor(linear_regressor, train_without_datetime)"
   ]
  },
  {
   "cell_type": "raw",
   "id": "d5c9fbb7",
   "metadata": {},
   "source": [
    "Да пробваме и със случайна гора като другия базов модел."
   ]
  },
  {
   "cell_type": "code",
   "execution_count": 27,
   "id": "06fe7eb4",
   "metadata": {},
   "outputs": [],
   "source": [
    "from sklearn.ensemble import RandomForestRegressor\n",
    "\n",
    "forest_regressor = RandomForestRegressor(random_state = 1, n_estimators = 100, min_samples_split = 10, max_depth = 40)"
   ]
  },
  {
   "cell_type": "code",
   "execution_count": 28,
   "id": "34ac943b",
   "metadata": {},
   "outputs": [
    {
     "name": "stdout",
     "output_type": "stream",
     "text": [
      "Forest regressor:\n",
      "\n",
      "R-squared score:  0.34194194264824995\n",
      "RMSLE score:  -1.2682355396351437\n",
      "R-squared score with log:  0.24485096443466192\n",
      "RMSLE score with log:  -1.1541489427769875\n",
      "R-squared score with sqrt:  0.33116046867119797\n",
      "RMSLE score with sqrt:  -1.1803316795960686\n"
     ]
    }
   ],
   "source": [
    "print(\"Forest regressor:\\n\")\n",
    "score_regressor(forest_regressor, train_without_datetime)"
   ]
  },
  {
   "cell_type": "markdown",
   "id": "699b76da",
   "metadata": {},
   "source": [
    "Получаваме малко по-добри резултати, но пак са зле като цяло. Нека да започнем с обработката на характеристиките."
   ]
  },
  {
   "cell_type": "markdown",
   "id": "b70cf8e1",
   "metadata": {},
   "source": [
    "### Season и Weather\n",
    "\n",
    "Един от проблемите е, че `season` и `weather` са въведени като числови характеристики, но смисъла им е на категорийни. Това не е особен проблем за алгоритми като дърветата, но за линейната регресия и сродните ѝ е проблем. Поради тази причина ще направим `One Hot Encoding` на тези две характеристики."
   ]
  },
  {
   "cell_type": "code",
   "execution_count": 29,
   "id": "ddd385a7",
   "metadata": {},
   "outputs": [],
   "source": [
    "from sklearn.preprocessing import OneHotEncoder"
   ]
  },
  {
   "cell_type": "code",
   "execution_count": 30,
   "id": "17c5cf27",
   "metadata": {},
   "outputs": [],
   "source": [
    "encoder = OneHotEncoder()\n",
    "data = encoder.fit_transform(train[[\"season\", \"weather\"]])\n",
    "train[[\"spring\", \"summer\", \"autumn\", \"winter\", \"clear\", \"cloudy\", \"lightRain\", \"heavyRain\"]] = data.todense()\n",
    "train.drop(columns=[\"season\", \"weather\"], inplace=True)\n",
    "train_without_datetime = train.drop(columns=[\"datetime\"])"
   ]
  },
  {
   "cell_type": "code",
   "execution_count": 31,
   "id": "1a86cee6",
   "metadata": {},
   "outputs": [
    {
     "data": {
      "text/html": [
       "<div>\n",
       "<style scoped>\n",
       "    .dataframe tbody tr th:only-of-type {\n",
       "        vertical-align: middle;\n",
       "    }\n",
       "\n",
       "    .dataframe tbody tr th {\n",
       "        vertical-align: top;\n",
       "    }\n",
       "\n",
       "    .dataframe thead th {\n",
       "        text-align: right;\n",
       "    }\n",
       "</style>\n",
       "<table border=\"1\" class=\"dataframe\">\n",
       "  <thead>\n",
       "    <tr style=\"text-align: right;\">\n",
       "      <th></th>\n",
       "      <th>datetime</th>\n",
       "      <th>holiday</th>\n",
       "      <th>workingday</th>\n",
       "      <th>temp</th>\n",
       "      <th>atemp</th>\n",
       "      <th>humidity</th>\n",
       "      <th>windspeed</th>\n",
       "      <th>spring</th>\n",
       "      <th>summer</th>\n",
       "      <th>autumn</th>\n",
       "      <th>winter</th>\n",
       "      <th>clear</th>\n",
       "      <th>cloudy</th>\n",
       "      <th>lightRain</th>\n",
       "      <th>heavyRain</th>\n",
       "    </tr>\n",
       "  </thead>\n",
       "  <tbody>\n",
       "    <tr>\n",
       "      <th>0</th>\n",
       "      <td>2011-01-01 00:00:00</td>\n",
       "      <td>0</td>\n",
       "      <td>0</td>\n",
       "      <td>9.84</td>\n",
       "      <td>14.395</td>\n",
       "      <td>81</td>\n",
       "      <td>0.0000</td>\n",
       "      <td>1.0</td>\n",
       "      <td>0.0</td>\n",
       "      <td>0.0</td>\n",
       "      <td>0.0</td>\n",
       "      <td>1.0</td>\n",
       "      <td>0.0</td>\n",
       "      <td>0.0</td>\n",
       "      <td>0.0</td>\n",
       "    </tr>\n",
       "    <tr>\n",
       "      <th>1</th>\n",
       "      <td>2011-01-01 01:00:00</td>\n",
       "      <td>0</td>\n",
       "      <td>0</td>\n",
       "      <td>9.02</td>\n",
       "      <td>13.635</td>\n",
       "      <td>80</td>\n",
       "      <td>0.0000</td>\n",
       "      <td>1.0</td>\n",
       "      <td>0.0</td>\n",
       "      <td>0.0</td>\n",
       "      <td>0.0</td>\n",
       "      <td>1.0</td>\n",
       "      <td>0.0</td>\n",
       "      <td>0.0</td>\n",
       "      <td>0.0</td>\n",
       "    </tr>\n",
       "    <tr>\n",
       "      <th>2</th>\n",
       "      <td>2011-01-01 02:00:00</td>\n",
       "      <td>0</td>\n",
       "      <td>0</td>\n",
       "      <td>9.02</td>\n",
       "      <td>13.635</td>\n",
       "      <td>80</td>\n",
       "      <td>0.0000</td>\n",
       "      <td>1.0</td>\n",
       "      <td>0.0</td>\n",
       "      <td>0.0</td>\n",
       "      <td>0.0</td>\n",
       "      <td>1.0</td>\n",
       "      <td>0.0</td>\n",
       "      <td>0.0</td>\n",
       "      <td>0.0</td>\n",
       "    </tr>\n",
       "    <tr>\n",
       "      <th>3</th>\n",
       "      <td>2011-01-01 03:00:00</td>\n",
       "      <td>0</td>\n",
       "      <td>0</td>\n",
       "      <td>9.84</td>\n",
       "      <td>14.395</td>\n",
       "      <td>75</td>\n",
       "      <td>0.0000</td>\n",
       "      <td>1.0</td>\n",
       "      <td>0.0</td>\n",
       "      <td>0.0</td>\n",
       "      <td>0.0</td>\n",
       "      <td>1.0</td>\n",
       "      <td>0.0</td>\n",
       "      <td>0.0</td>\n",
       "      <td>0.0</td>\n",
       "    </tr>\n",
       "    <tr>\n",
       "      <th>4</th>\n",
       "      <td>2011-01-01 04:00:00</td>\n",
       "      <td>0</td>\n",
       "      <td>0</td>\n",
       "      <td>9.84</td>\n",
       "      <td>14.395</td>\n",
       "      <td>75</td>\n",
       "      <td>0.0000</td>\n",
       "      <td>1.0</td>\n",
       "      <td>0.0</td>\n",
       "      <td>0.0</td>\n",
       "      <td>0.0</td>\n",
       "      <td>1.0</td>\n",
       "      <td>0.0</td>\n",
       "      <td>0.0</td>\n",
       "      <td>0.0</td>\n",
       "    </tr>\n",
       "    <tr>\n",
       "      <th>...</th>\n",
       "      <td>...</td>\n",
       "      <td>...</td>\n",
       "      <td>...</td>\n",
       "      <td>...</td>\n",
       "      <td>...</td>\n",
       "      <td>...</td>\n",
       "      <td>...</td>\n",
       "      <td>...</td>\n",
       "      <td>...</td>\n",
       "      <td>...</td>\n",
       "      <td>...</td>\n",
       "      <td>...</td>\n",
       "      <td>...</td>\n",
       "      <td>...</td>\n",
       "      <td>...</td>\n",
       "    </tr>\n",
       "    <tr>\n",
       "      <th>10881</th>\n",
       "      <td>2012-12-19 19:00:00</td>\n",
       "      <td>0</td>\n",
       "      <td>1</td>\n",
       "      <td>15.58</td>\n",
       "      <td>19.695</td>\n",
       "      <td>50</td>\n",
       "      <td>26.0027</td>\n",
       "      <td>0.0</td>\n",
       "      <td>0.0</td>\n",
       "      <td>0.0</td>\n",
       "      <td>1.0</td>\n",
       "      <td>1.0</td>\n",
       "      <td>0.0</td>\n",
       "      <td>0.0</td>\n",
       "      <td>0.0</td>\n",
       "    </tr>\n",
       "    <tr>\n",
       "      <th>10882</th>\n",
       "      <td>2012-12-19 20:00:00</td>\n",
       "      <td>0</td>\n",
       "      <td>1</td>\n",
       "      <td>14.76</td>\n",
       "      <td>17.425</td>\n",
       "      <td>57</td>\n",
       "      <td>15.0013</td>\n",
       "      <td>0.0</td>\n",
       "      <td>0.0</td>\n",
       "      <td>0.0</td>\n",
       "      <td>1.0</td>\n",
       "      <td>1.0</td>\n",
       "      <td>0.0</td>\n",
       "      <td>0.0</td>\n",
       "      <td>0.0</td>\n",
       "    </tr>\n",
       "    <tr>\n",
       "      <th>10883</th>\n",
       "      <td>2012-12-19 21:00:00</td>\n",
       "      <td>0</td>\n",
       "      <td>1</td>\n",
       "      <td>13.94</td>\n",
       "      <td>15.910</td>\n",
       "      <td>61</td>\n",
       "      <td>15.0013</td>\n",
       "      <td>0.0</td>\n",
       "      <td>0.0</td>\n",
       "      <td>0.0</td>\n",
       "      <td>1.0</td>\n",
       "      <td>1.0</td>\n",
       "      <td>0.0</td>\n",
       "      <td>0.0</td>\n",
       "      <td>0.0</td>\n",
       "    </tr>\n",
       "    <tr>\n",
       "      <th>10884</th>\n",
       "      <td>2012-12-19 22:00:00</td>\n",
       "      <td>0</td>\n",
       "      <td>1</td>\n",
       "      <td>13.94</td>\n",
       "      <td>17.425</td>\n",
       "      <td>61</td>\n",
       "      <td>6.0032</td>\n",
       "      <td>0.0</td>\n",
       "      <td>0.0</td>\n",
       "      <td>0.0</td>\n",
       "      <td>1.0</td>\n",
       "      <td>1.0</td>\n",
       "      <td>0.0</td>\n",
       "      <td>0.0</td>\n",
       "      <td>0.0</td>\n",
       "    </tr>\n",
       "    <tr>\n",
       "      <th>10885</th>\n",
       "      <td>2012-12-19 23:00:00</td>\n",
       "      <td>0</td>\n",
       "      <td>1</td>\n",
       "      <td>13.12</td>\n",
       "      <td>16.665</td>\n",
       "      <td>66</td>\n",
       "      <td>8.9981</td>\n",
       "      <td>0.0</td>\n",
       "      <td>0.0</td>\n",
       "      <td>0.0</td>\n",
       "      <td>1.0</td>\n",
       "      <td>1.0</td>\n",
       "      <td>0.0</td>\n",
       "      <td>0.0</td>\n",
       "      <td>0.0</td>\n",
       "    </tr>\n",
       "  </tbody>\n",
       "</table>\n",
       "<p>10886 rows × 15 columns</p>\n",
       "</div>"
      ],
      "text/plain": [
       "                  datetime  holiday  workingday   temp   atemp  humidity  \\\n",
       "0      2011-01-01 00:00:00        0           0   9.84  14.395        81   \n",
       "1      2011-01-01 01:00:00        0           0   9.02  13.635        80   \n",
       "2      2011-01-01 02:00:00        0           0   9.02  13.635        80   \n",
       "3      2011-01-01 03:00:00        0           0   9.84  14.395        75   \n",
       "4      2011-01-01 04:00:00        0           0   9.84  14.395        75   \n",
       "...                    ...      ...         ...    ...     ...       ...   \n",
       "10881  2012-12-19 19:00:00        0           1  15.58  19.695        50   \n",
       "10882  2012-12-19 20:00:00        0           1  14.76  17.425        57   \n",
       "10883  2012-12-19 21:00:00        0           1  13.94  15.910        61   \n",
       "10884  2012-12-19 22:00:00        0           1  13.94  17.425        61   \n",
       "10885  2012-12-19 23:00:00        0           1  13.12  16.665        66   \n",
       "\n",
       "       windspeed  spring  summer  autumn  winter  clear  cloudy  lightRain  \\\n",
       "0         0.0000     1.0     0.0     0.0     0.0    1.0     0.0        0.0   \n",
       "1         0.0000     1.0     0.0     0.0     0.0    1.0     0.0        0.0   \n",
       "2         0.0000     1.0     0.0     0.0     0.0    1.0     0.0        0.0   \n",
       "3         0.0000     1.0     0.0     0.0     0.0    1.0     0.0        0.0   \n",
       "4         0.0000     1.0     0.0     0.0     0.0    1.0     0.0        0.0   \n",
       "...          ...     ...     ...     ...     ...    ...     ...        ...   \n",
       "10881    26.0027     0.0     0.0     0.0     1.0    1.0     0.0        0.0   \n",
       "10882    15.0013     0.0     0.0     0.0     1.0    1.0     0.0        0.0   \n",
       "10883    15.0013     0.0     0.0     0.0     1.0    1.0     0.0        0.0   \n",
       "10884     6.0032     0.0     0.0     0.0     1.0    1.0     0.0        0.0   \n",
       "10885     8.9981     0.0     0.0     0.0     1.0    1.0     0.0        0.0   \n",
       "\n",
       "       heavyRain  \n",
       "0            0.0  \n",
       "1            0.0  \n",
       "2            0.0  \n",
       "3            0.0  \n",
       "4            0.0  \n",
       "...          ...  \n",
       "10881        0.0  \n",
       "10882        0.0  \n",
       "10883        0.0  \n",
       "10884        0.0  \n",
       "10885        0.0  \n",
       "\n",
       "[10886 rows x 15 columns]"
      ]
     },
     "execution_count": 31,
     "metadata": {},
     "output_type": "execute_result"
    }
   ],
   "source": [
    "train"
   ]
  },
  {
   "cell_type": "markdown",
   "id": "69e62df9",
   "metadata": {},
   "source": [
    "Да направим ново разделение на данните и да видим дали има подобрение в моделите:"
   ]
  },
  {
   "cell_type": "code",
   "execution_count": 32,
   "id": "32af3591",
   "metadata": {},
   "outputs": [
    {
     "name": "stdout",
     "output_type": "stream",
     "text": [
      "Linear regressor:\n",
      "\n",
      "R-squared score:  0.2761448609990269\n",
      "RMSLE score:  -1.4402780883063537\n",
      "R-squared score with log:  0.0905762944021109\n",
      "RMSLE score with log:  -1.208367278700933\n",
      "R-squared score with sqrt:  0.2503093437388223\n",
      "RMSLE score with sqrt:  -1.2645266072154573\n"
     ]
    }
   ],
   "source": [
    "print(\"Linear regressor:\\n\")\n",
    "score_regressor(linear_regressor, train_without_datetime)"
   ]
  },
  {
   "cell_type": "code",
   "execution_count": 33,
   "id": "96bf5927",
   "metadata": {},
   "outputs": [
    {
     "name": "stdout",
     "output_type": "stream",
     "text": [
      "Forest regressor:\n",
      "\n",
      "R-squared score:  0.34219589071063183\n",
      "RMSLE score:  -1.2685339651002228\n",
      "R-squared score with log:  0.2481628031434583\n",
      "RMSLE score with log:  -1.153377994735968\n",
      "R-squared score with sqrt:  0.3314871683566488\n",
      "RMSLE score with sqrt:  -1.180541259329425\n"
     ]
    }
   ],
   "source": [
    "print(\"Forest regressor:\\n\")\n",
    "score_regressor(forest_regressor, train_without_datetime)"
   ]
  },
  {
   "cell_type": "markdown",
   "id": "d74cc353",
   "metadata": {},
   "source": [
    "Очаквано за линейната регресия има малко подобрение, докато за гората изглежда няма подобрение след `One Hot Encoding`."
   ]
  },
  {
   "cell_type": "markdown",
   "id": "5fe55398",
   "metadata": {},
   "source": [
    "### Datetime\n",
    "\n",
    "Остава да извлечем полезна информация от `datetime` характеристиката. За целта трябва по някакъв начин да я преобразуваме в числови характеристики, които да използваме.\n",
    "\n",
    "Да забележим, че имаме 2 вида периодичност, които можем да извлечем. Единият е часът, които циклично се променя от 00:00:00 до 23:59:59. Другият вид периодичност е денят от годината, който циклично се променя от 01.01 до 31.12. Накрая остава и годината. Нея има смисъл да я отделим като отделна характеристика, понеже е възможно в различните години търсенето на велосипеди постепенно да се е променило.\n",
    "\n",
    "Ще пробваме няколко начина да преобразуваме `datetime` в смислени числени характеристики."
   ]
  },
  {
   "cell_type": "markdown",
   "id": "9c4be4f4",
   "metadata": {},
   "source": [
    "#### Линейна трансформация в интервала [0,1]\n",
    "\n",
    "Идеята е проста. Ще транформираме датата до число в интервала [0,1] в зависимост от това кога през годината е и ще направим същото и за часа. За целта си съставяме помощна функция:"
   ]
  },
  {
   "cell_type": "code",
   "execution_count": 34,
   "id": "6ffb5e53",
   "metadata": {},
   "outputs": [],
   "source": [
    "def transform_datetime_to_intervals_01(datetime):\n",
    "    splitDateTime = datetime.apply(lambda x: x.split(\" \"))\n",
    "    splitDate = splitDateTime.apply(lambda x: x[0])\n",
    "    splitDate = splitDate.apply(lambda x: x.split(\"-\"))\n",
    "    splitTime = splitDateTime.apply(lambda x: x[1])\n",
    "    splitTime = splitTime.apply(lambda x: x.split(\":\"))\n",
    "    \n",
    "    month = np.array(pd.to_numeric(splitDate.apply(lambda x: x[1])))\n",
    "    day = np.array(pd.to_numeric(splitDate.apply(lambda x: x[2])))\n",
    "    hour = np.array(pd.to_numeric(splitTime.apply(lambda x: x[0])))\n",
    "    minute = np.array(pd.to_numeric(splitTime.apply(lambda x: x[1])))\n",
    "    second = np.array(pd.to_numeric(splitTime.apply(lambda x: x[2])))\n",
    "    \n",
    "    dateInterval = (month - 1) / 12 + (day - 1) / 365\n",
    "    timeInterval = hour / 24 + minute / 1440 + second / 86400\n",
    "    \n",
    "    df = pd.DataFrame()\n",
    "    df[\"year\"] = pd.to_numeric(splitDate.apply(lambda x: x[0]))\n",
    "    df[\"dayInterval\"] = dateInterval\n",
    "    df[\"timeInterval\"] = timeInterval\n",
    "    \n",
    "    return df"
   ]
  },
  {
   "cell_type": "code",
   "execution_count": 35,
   "id": "62a10db7",
   "metadata": {},
   "outputs": [
    {
     "data": {
      "text/html": [
       "<div>\n",
       "<style scoped>\n",
       "    .dataframe tbody tr th:only-of-type {\n",
       "        vertical-align: middle;\n",
       "    }\n",
       "\n",
       "    .dataframe tbody tr th {\n",
       "        vertical-align: top;\n",
       "    }\n",
       "\n",
       "    .dataframe thead th {\n",
       "        text-align: right;\n",
       "    }\n",
       "</style>\n",
       "<table border=\"1\" class=\"dataframe\">\n",
       "  <thead>\n",
       "    <tr style=\"text-align: right;\">\n",
       "      <th></th>\n",
       "      <th>year</th>\n",
       "      <th>dayInterval</th>\n",
       "      <th>timeInterval</th>\n",
       "    </tr>\n",
       "  </thead>\n",
       "  <tbody>\n",
       "    <tr>\n",
       "      <th>0</th>\n",
       "      <td>2011</td>\n",
       "      <td>0.000000</td>\n",
       "      <td>0.000000</td>\n",
       "    </tr>\n",
       "    <tr>\n",
       "      <th>1</th>\n",
       "      <td>2011</td>\n",
       "      <td>0.000000</td>\n",
       "      <td>0.041667</td>\n",
       "    </tr>\n",
       "    <tr>\n",
       "      <th>2</th>\n",
       "      <td>2011</td>\n",
       "      <td>0.000000</td>\n",
       "      <td>0.083333</td>\n",
       "    </tr>\n",
       "    <tr>\n",
       "      <th>3</th>\n",
       "      <td>2011</td>\n",
       "      <td>0.000000</td>\n",
       "      <td>0.125000</td>\n",
       "    </tr>\n",
       "    <tr>\n",
       "      <th>4</th>\n",
       "      <td>2011</td>\n",
       "      <td>0.000000</td>\n",
       "      <td>0.166667</td>\n",
       "    </tr>\n",
       "    <tr>\n",
       "      <th>...</th>\n",
       "      <td>...</td>\n",
       "      <td>...</td>\n",
       "      <td>...</td>\n",
       "    </tr>\n",
       "    <tr>\n",
       "      <th>10881</th>\n",
       "      <td>2012</td>\n",
       "      <td>0.965982</td>\n",
       "      <td>0.791667</td>\n",
       "    </tr>\n",
       "    <tr>\n",
       "      <th>10882</th>\n",
       "      <td>2012</td>\n",
       "      <td>0.965982</td>\n",
       "      <td>0.833333</td>\n",
       "    </tr>\n",
       "    <tr>\n",
       "      <th>10883</th>\n",
       "      <td>2012</td>\n",
       "      <td>0.965982</td>\n",
       "      <td>0.875000</td>\n",
       "    </tr>\n",
       "    <tr>\n",
       "      <th>10884</th>\n",
       "      <td>2012</td>\n",
       "      <td>0.965982</td>\n",
       "      <td>0.916667</td>\n",
       "    </tr>\n",
       "    <tr>\n",
       "      <th>10885</th>\n",
       "      <td>2012</td>\n",
       "      <td>0.965982</td>\n",
       "      <td>0.958333</td>\n",
       "    </tr>\n",
       "  </tbody>\n",
       "</table>\n",
       "<p>10886 rows × 3 columns</p>\n",
       "</div>"
      ],
      "text/plain": [
       "       year  dayInterval  timeInterval\n",
       "0      2011     0.000000      0.000000\n",
       "1      2011     0.000000      0.041667\n",
       "2      2011     0.000000      0.083333\n",
       "3      2011     0.000000      0.125000\n",
       "4      2011     0.000000      0.166667\n",
       "...     ...          ...           ...\n",
       "10881  2012     0.965982      0.791667\n",
       "10882  2012     0.965982      0.833333\n",
       "10883  2012     0.965982      0.875000\n",
       "10884  2012     0.965982      0.916667\n",
       "10885  2012     0.965982      0.958333\n",
       "\n",
       "[10886 rows x 3 columns]"
      ]
     },
     "execution_count": 35,
     "metadata": {},
     "output_type": "execute_result"
    }
   ],
   "source": [
    "transform_datetime_to_intervals_01(train[\"datetime\"])"
   ]
  },
  {
   "cell_type": "markdown",
   "id": "f91b627d",
   "metadata": {},
   "source": [
    "Обновяваме характеристиките:"
   ]
  },
  {
   "cell_type": "code",
   "execution_count": 36,
   "id": "aab63ea7",
   "metadata": {},
   "outputs": [],
   "source": [
    "train_01 = train.drop(columns=[\"datetime\"])\n",
    "train_01[[\"year\", \"dayInterval\", \"timeInterval\"]] = transform_datetime_to_intervals_01(train[\"datetime\"])"
   ]
  },
  {
   "cell_type": "markdown",
   "id": "30602235",
   "metadata": {},
   "source": [
    "Да изпробваме дали има подобрение на оценките:"
   ]
  },
  {
   "cell_type": "code",
   "execution_count": 37,
   "id": "558c5e8b",
   "metadata": {},
   "outputs": [
    {
     "name": "stdout",
     "output_type": "stream",
     "text": [
      "Linear regressor:\n",
      "\n",
      "R-squared score:  0.4026882245979858\n",
      "RMSLE score:  -1.2911979076375095\n",
      "R-squared score with log:  0.19543065199372878\n",
      "RMSLE score with log:  -1.0071576051940139\n",
      "R-squared score with sqrt:  0.3847534601905671\n",
      "RMSLE score with sqrt:  -1.0593849586640256\n"
     ]
    }
   ],
   "source": [
    "print(\"Linear regressor:\\n\")\n",
    "score_regressor(linear_regressor, train_01)"
   ]
  },
  {
   "cell_type": "code",
   "execution_count": 38,
   "id": "eaf241e8",
   "metadata": {},
   "outputs": [
    {
     "name": "stdout",
     "output_type": "stream",
     "text": [
      "Forest regressor:\n",
      "\n",
      "R-squared score:  0.9394447637697447\n",
      "RMSLE score:  -0.35325606792603365\n",
      "R-squared score with log:  0.9305560380333141\n",
      "RMSLE score with log:  -0.337280215057499\n",
      "R-squared score with sqrt:  0.9362345945929514\n",
      "RMSLE score with sqrt:  -0.3422837922464613\n"
     ]
    }
   ],
   "source": [
    "print(\"Forest regressor:\\n\")\n",
    "score_regressor(forest_regressor, train_01)"
   ]
  },
  {
   "cell_type": "markdown",
   "id": "239b3ee8",
   "metadata": {},
   "source": [
    "Виждаме, че при гората вече имаме много добри резултати. При линейната регресия също имаме малко подобрение, но резултатите все още са лоши. Това може да се дължи на факта, че представянето не отразява цикличността на деня. Например часовете 00:00:00 и 23:00:00 са много близко един до друг, но при тази трансформация те попадат около 0 и съответно около 1, което означава, че са много раздалечени. Освен това и двете са около полунощ, докато най-натоварените часове се падат някъде около средата на интервала. В тази ситуация линейната регресия се озовава в дилема - ако даде ниско тегло на `dayInterval`, за да запази часовете около полунощ с малко търсене, то няма да предскаже правилно часовете около пладне. Ако пък даде голямо тегло, за да предвиди правилно часовете около пладне, то часовете точно преди полунощ ще получат твърде голяма оценка. За решаването на този проблем трябва да пробваме други трансформации на `datetime`."
   ]
  },
  {
   "cell_type": "markdown",
   "id": "2306918e",
   "metadata": {},
   "source": [
    "#### Циклична трансформация в единичната окръжност\n",
    "\n",
    "Тук идеята е да трансформираме денят от годината и часа линейно до ъгъл в единичната окръжност. След това да вземем X и Y координатите на получената точка и да ги използваме като характеристики. Чрез това представяне вече близките часове и дати винаги се трансформират до близки точки.\n",
    "\n",
    "Да пробваме тази трансформация:"
   ]
  },
  {
   "cell_type": "code",
   "execution_count": 39,
   "id": "4d9cc999",
   "metadata": {},
   "outputs": [],
   "source": [
    "def transform_datetime_to_cycles(datetime):\n",
    "    splitDateTime = datetime.apply(lambda x: x.split(\" \"))\n",
    "    splitDate = splitDateTime.apply(lambda x: x[0])\n",
    "    splitDate = splitDate.apply(lambda x: x.split(\"-\"))\n",
    "    splitTime = splitDateTime.apply(lambda x: x[1])\n",
    "    splitTime = splitTime.apply(lambda x: x.split(\":\"))\n",
    "    \n",
    "    month = np.array(pd.to_numeric(splitDate.apply(lambda x: x[1])))\n",
    "    day = np.array(pd.to_numeric(splitDate.apply(lambda x: x[2])))\n",
    "    hour = np.array(pd.to_numeric(splitTime.apply(lambda x: x[0])))\n",
    "    minute = np.array(pd.to_numeric(splitTime.apply(lambda x: x[1])))\n",
    "    second = np.array(pd.to_numeric(splitTime.apply(lambda x: x[2])))\n",
    "    \n",
    "    dateInterval = (month - 1) / 12 + (day - 1) / 365\n",
    "    timeInterval = hour / 24 + minute / 1440 + second / 86400\n",
    "    \n",
    "    xDate = np.cos(dateInterval * 2 * np.pi)\n",
    "    yDate = np.sin(dateInterval * 2 * np.pi)\n",
    "    xTime = np.cos(timeInterval * 2 * np.pi)\n",
    "    yTime = np.sin(timeInterval * 2 * np.pi)\n",
    "    \n",
    "    df = pd.DataFrame()\n",
    "    df[\"year\"] = pd.to_numeric(splitDate.apply(lambda x: x[0]))\n",
    "    df[\"xDate\"] = xDate\n",
    "    df[\"yDate\"] = yDate\n",
    "    df[\"xTime\"] = xTime\n",
    "    df[\"yTime\"] = yTime\n",
    "    \n",
    "    return df"
   ]
  },
  {
   "cell_type": "code",
   "execution_count": 40,
   "id": "3f11eeca",
   "metadata": {},
   "outputs": [
    {
     "data": {
      "text/html": [
       "<div>\n",
       "<style scoped>\n",
       "    .dataframe tbody tr th:only-of-type {\n",
       "        vertical-align: middle;\n",
       "    }\n",
       "\n",
       "    .dataframe tbody tr th {\n",
       "        vertical-align: top;\n",
       "    }\n",
       "\n",
       "    .dataframe thead th {\n",
       "        text-align: right;\n",
       "    }\n",
       "</style>\n",
       "<table border=\"1\" class=\"dataframe\">\n",
       "  <thead>\n",
       "    <tr style=\"text-align: right;\">\n",
       "      <th></th>\n",
       "      <th>year</th>\n",
       "      <th>xDate</th>\n",
       "      <th>yDate</th>\n",
       "      <th>xTime</th>\n",
       "      <th>yTime</th>\n",
       "    </tr>\n",
       "  </thead>\n",
       "  <tbody>\n",
       "    <tr>\n",
       "      <th>0</th>\n",
       "      <td>2011</td>\n",
       "      <td>1.000000</td>\n",
       "      <td>0.000000</td>\n",
       "      <td>1.000000</td>\n",
       "      <td>0.000000</td>\n",
       "    </tr>\n",
       "    <tr>\n",
       "      <th>1</th>\n",
       "      <td>2011</td>\n",
       "      <td>1.000000</td>\n",
       "      <td>0.000000</td>\n",
       "      <td>0.965926</td>\n",
       "      <td>0.258819</td>\n",
       "    </tr>\n",
       "    <tr>\n",
       "      <th>2</th>\n",
       "      <td>2011</td>\n",
       "      <td>1.000000</td>\n",
       "      <td>0.000000</td>\n",
       "      <td>0.866025</td>\n",
       "      <td>0.500000</td>\n",
       "    </tr>\n",
       "    <tr>\n",
       "      <th>3</th>\n",
       "      <td>2011</td>\n",
       "      <td>1.000000</td>\n",
       "      <td>0.000000</td>\n",
       "      <td>0.707107</td>\n",
       "      <td>0.707107</td>\n",
       "    </tr>\n",
       "    <tr>\n",
       "      <th>4</th>\n",
       "      <td>2011</td>\n",
       "      <td>1.000000</td>\n",
       "      <td>0.000000</td>\n",
       "      <td>0.500000</td>\n",
       "      <td>0.866025</td>\n",
       "    </tr>\n",
       "    <tr>\n",
       "      <th>...</th>\n",
       "      <td>...</td>\n",
       "      <td>...</td>\n",
       "      <td>...</td>\n",
       "      <td>...</td>\n",
       "      <td>...</td>\n",
       "    </tr>\n",
       "    <tr>\n",
       "      <th>10881</th>\n",
       "      <td>2012</td>\n",
       "      <td>0.977244</td>\n",
       "      <td>-0.212119</td>\n",
       "      <td>0.258819</td>\n",
       "      <td>-0.965926</td>\n",
       "    </tr>\n",
       "    <tr>\n",
       "      <th>10882</th>\n",
       "      <td>2012</td>\n",
       "      <td>0.977244</td>\n",
       "      <td>-0.212119</td>\n",
       "      <td>0.500000</td>\n",
       "      <td>-0.866025</td>\n",
       "    </tr>\n",
       "    <tr>\n",
       "      <th>10883</th>\n",
       "      <td>2012</td>\n",
       "      <td>0.977244</td>\n",
       "      <td>-0.212119</td>\n",
       "      <td>0.707107</td>\n",
       "      <td>-0.707107</td>\n",
       "    </tr>\n",
       "    <tr>\n",
       "      <th>10884</th>\n",
       "      <td>2012</td>\n",
       "      <td>0.977244</td>\n",
       "      <td>-0.212119</td>\n",
       "      <td>0.866025</td>\n",
       "      <td>-0.500000</td>\n",
       "    </tr>\n",
       "    <tr>\n",
       "      <th>10885</th>\n",
       "      <td>2012</td>\n",
       "      <td>0.977244</td>\n",
       "      <td>-0.212119</td>\n",
       "      <td>0.965926</td>\n",
       "      <td>-0.258819</td>\n",
       "    </tr>\n",
       "  </tbody>\n",
       "</table>\n",
       "<p>10886 rows × 5 columns</p>\n",
       "</div>"
      ],
      "text/plain": [
       "       year     xDate     yDate     xTime     yTime\n",
       "0      2011  1.000000  0.000000  1.000000  0.000000\n",
       "1      2011  1.000000  0.000000  0.965926  0.258819\n",
       "2      2011  1.000000  0.000000  0.866025  0.500000\n",
       "3      2011  1.000000  0.000000  0.707107  0.707107\n",
       "4      2011  1.000000  0.000000  0.500000  0.866025\n",
       "...     ...       ...       ...       ...       ...\n",
       "10881  2012  0.977244 -0.212119  0.258819 -0.965926\n",
       "10882  2012  0.977244 -0.212119  0.500000 -0.866025\n",
       "10883  2012  0.977244 -0.212119  0.707107 -0.707107\n",
       "10884  2012  0.977244 -0.212119  0.866025 -0.500000\n",
       "10885  2012  0.977244 -0.212119  0.965926 -0.258819\n",
       "\n",
       "[10886 rows x 5 columns]"
      ]
     },
     "execution_count": 40,
     "metadata": {},
     "output_type": "execute_result"
    }
   ],
   "source": [
    "transform_datetime_to_cycles(train[\"datetime\"])"
   ]
  },
  {
   "cell_type": "markdown",
   "id": "f6e0b8cf",
   "metadata": {},
   "source": [
    "Обновяваме характеристиките:"
   ]
  },
  {
   "cell_type": "code",
   "execution_count": 41,
   "id": "c9fac4d0",
   "metadata": {},
   "outputs": [],
   "source": [
    "train_cycles = train.drop(columns=[\"datetime\"])\n",
    "train_cycles[[\"year\", \"xDate\", \"yDate\", \"xTime\", \"yTime\"]] = transform_datetime_to_cycles(train[\"datetime\"])"
   ]
  },
  {
   "cell_type": "markdown",
   "id": "2be9ce57",
   "metadata": {},
   "source": [
    "Да проверим дали има подобрение:"
   ]
  },
  {
   "cell_type": "code",
   "execution_count": 42,
   "id": "6e53cf8c",
   "metadata": {},
   "outputs": [
    {
     "name": "stdout",
     "output_type": "stream",
     "text": [
      "Linear regressor:\n",
      "\n",
      "R-squared score:  0.5154777456416313\n",
      "RMSLE score:  -1.1435688490206029\n",
      "R-squared score with log:  0.2561029026416112\n",
      "RMSLE score with log:  -0.8798684927521476\n",
      "R-squared score with sqrt:  0.5034428311020753\n",
      "RMSLE score with sqrt:  -0.8801303804382692\n"
     ]
    }
   ],
   "source": [
    "print(\"Linear regressor:\\n\")\n",
    "score_regressor(linear_regressor, train_cycles)"
   ]
  },
  {
   "cell_type": "code",
   "execution_count": 43,
   "id": "b59d88a6",
   "metadata": {},
   "outputs": [
    {
     "name": "stdout",
     "output_type": "stream",
     "text": [
      "Forest regressor:\n",
      "\n",
      "R-squared score:  0.9392519562068566\n",
      "RMSLE score:  -0.35596945228238447\n",
      "R-squared score with log:  0.9318627400305983\n",
      "RMSLE score with log:  -0.3394595731092309\n",
      "R-squared score with sqrt:  0.9366245628273621\n",
      "RMSLE score with sqrt:  -0.347894420636454\n"
     ]
    }
   ],
   "source": [
    "print(\"Forest regressor:\\n\")\n",
    "score_regressor(forest_regressor, train_cycles)"
   ]
  },
  {
   "cell_type": "markdown",
   "id": "a7a00963",
   "metadata": {},
   "source": [
    "Виждаме, че при линейната регресия има известно подобрение. Оценката при гората не се е променила особено, тъй като пак получаваме много подобни резултати. Изглежда това представяне е за предпочитане пред вкарването в интервали [0,1]."
   ]
  },
  {
   "cell_type": "markdown",
   "id": "562cfaf8",
   "metadata": {},
   "source": [
    "#### Групиране на данните в интервали"
   ]
  },
  {
   "cell_type": "code",
   "execution_count": 44,
   "id": "cffe2694",
   "metadata": {},
   "outputs": [],
   "source": [
    "train_binned = train_01.copy()\n",
    "\n",
    "for i in range(1, 13):\n",
    "    name = \"month \" + str(i)\n",
    "    train_binned[name] = (train_binned[\"dayInterval\"] < i / 12) & (train_binned[\"dayInterval\"] >= (i-1) / 12)\n",
    "\n",
    "for i in range(0, 24):\n",
    "    name = str(i) + \"-\" + str(i + 1) + \"h\"\n",
    "    train_binned[name] = (train_binned[\"timeInterval\"] < (i+1) / 24) & (train_binned[\"timeInterval\"] >= i / 24)\n",
    "    \n",
    "train_binned.drop(columns=[\"dayInterval\", \"timeInterval\"], inplace = True)"
   ]
  },
  {
   "cell_type": "code",
   "execution_count": 45,
   "id": "a0aa47f0",
   "metadata": {},
   "outputs": [
    {
     "data": {
      "text/html": [
       "<div>\n",
       "<style scoped>\n",
       "    .dataframe tbody tr th:only-of-type {\n",
       "        vertical-align: middle;\n",
       "    }\n",
       "\n",
       "    .dataframe tbody tr th {\n",
       "        vertical-align: top;\n",
       "    }\n",
       "\n",
       "    .dataframe thead th {\n",
       "        text-align: right;\n",
       "    }\n",
       "</style>\n",
       "<table border=\"1\" class=\"dataframe\">\n",
       "  <thead>\n",
       "    <tr style=\"text-align: right;\">\n",
       "      <th></th>\n",
       "      <th>holiday</th>\n",
       "      <th>workingday</th>\n",
       "      <th>temp</th>\n",
       "      <th>atemp</th>\n",
       "      <th>humidity</th>\n",
       "      <th>windspeed</th>\n",
       "      <th>spring</th>\n",
       "      <th>summer</th>\n",
       "      <th>autumn</th>\n",
       "      <th>winter</th>\n",
       "      <th>...</th>\n",
       "      <th>14-15h</th>\n",
       "      <th>15-16h</th>\n",
       "      <th>16-17h</th>\n",
       "      <th>17-18h</th>\n",
       "      <th>18-19h</th>\n",
       "      <th>19-20h</th>\n",
       "      <th>20-21h</th>\n",
       "      <th>21-22h</th>\n",
       "      <th>22-23h</th>\n",
       "      <th>23-24h</th>\n",
       "    </tr>\n",
       "  </thead>\n",
       "  <tbody>\n",
       "    <tr>\n",
       "      <th>0</th>\n",
       "      <td>0</td>\n",
       "      <td>0</td>\n",
       "      <td>9.84</td>\n",
       "      <td>14.395</td>\n",
       "      <td>81</td>\n",
       "      <td>0.0000</td>\n",
       "      <td>1.0</td>\n",
       "      <td>0.0</td>\n",
       "      <td>0.0</td>\n",
       "      <td>0.0</td>\n",
       "      <td>...</td>\n",
       "      <td>False</td>\n",
       "      <td>False</td>\n",
       "      <td>False</td>\n",
       "      <td>False</td>\n",
       "      <td>False</td>\n",
       "      <td>False</td>\n",
       "      <td>False</td>\n",
       "      <td>False</td>\n",
       "      <td>False</td>\n",
       "      <td>False</td>\n",
       "    </tr>\n",
       "    <tr>\n",
       "      <th>1</th>\n",
       "      <td>0</td>\n",
       "      <td>0</td>\n",
       "      <td>9.02</td>\n",
       "      <td>13.635</td>\n",
       "      <td>80</td>\n",
       "      <td>0.0000</td>\n",
       "      <td>1.0</td>\n",
       "      <td>0.0</td>\n",
       "      <td>0.0</td>\n",
       "      <td>0.0</td>\n",
       "      <td>...</td>\n",
       "      <td>False</td>\n",
       "      <td>False</td>\n",
       "      <td>False</td>\n",
       "      <td>False</td>\n",
       "      <td>False</td>\n",
       "      <td>False</td>\n",
       "      <td>False</td>\n",
       "      <td>False</td>\n",
       "      <td>False</td>\n",
       "      <td>False</td>\n",
       "    </tr>\n",
       "    <tr>\n",
       "      <th>2</th>\n",
       "      <td>0</td>\n",
       "      <td>0</td>\n",
       "      <td>9.02</td>\n",
       "      <td>13.635</td>\n",
       "      <td>80</td>\n",
       "      <td>0.0000</td>\n",
       "      <td>1.0</td>\n",
       "      <td>0.0</td>\n",
       "      <td>0.0</td>\n",
       "      <td>0.0</td>\n",
       "      <td>...</td>\n",
       "      <td>False</td>\n",
       "      <td>False</td>\n",
       "      <td>False</td>\n",
       "      <td>False</td>\n",
       "      <td>False</td>\n",
       "      <td>False</td>\n",
       "      <td>False</td>\n",
       "      <td>False</td>\n",
       "      <td>False</td>\n",
       "      <td>False</td>\n",
       "    </tr>\n",
       "    <tr>\n",
       "      <th>3</th>\n",
       "      <td>0</td>\n",
       "      <td>0</td>\n",
       "      <td>9.84</td>\n",
       "      <td>14.395</td>\n",
       "      <td>75</td>\n",
       "      <td>0.0000</td>\n",
       "      <td>1.0</td>\n",
       "      <td>0.0</td>\n",
       "      <td>0.0</td>\n",
       "      <td>0.0</td>\n",
       "      <td>...</td>\n",
       "      <td>False</td>\n",
       "      <td>False</td>\n",
       "      <td>False</td>\n",
       "      <td>False</td>\n",
       "      <td>False</td>\n",
       "      <td>False</td>\n",
       "      <td>False</td>\n",
       "      <td>False</td>\n",
       "      <td>False</td>\n",
       "      <td>False</td>\n",
       "    </tr>\n",
       "    <tr>\n",
       "      <th>4</th>\n",
       "      <td>0</td>\n",
       "      <td>0</td>\n",
       "      <td>9.84</td>\n",
       "      <td>14.395</td>\n",
       "      <td>75</td>\n",
       "      <td>0.0000</td>\n",
       "      <td>1.0</td>\n",
       "      <td>0.0</td>\n",
       "      <td>0.0</td>\n",
       "      <td>0.0</td>\n",
       "      <td>...</td>\n",
       "      <td>False</td>\n",
       "      <td>False</td>\n",
       "      <td>False</td>\n",
       "      <td>False</td>\n",
       "      <td>False</td>\n",
       "      <td>False</td>\n",
       "      <td>False</td>\n",
       "      <td>False</td>\n",
       "      <td>False</td>\n",
       "      <td>False</td>\n",
       "    </tr>\n",
       "    <tr>\n",
       "      <th>...</th>\n",
       "      <td>...</td>\n",
       "      <td>...</td>\n",
       "      <td>...</td>\n",
       "      <td>...</td>\n",
       "      <td>...</td>\n",
       "      <td>...</td>\n",
       "      <td>...</td>\n",
       "      <td>...</td>\n",
       "      <td>...</td>\n",
       "      <td>...</td>\n",
       "      <td>...</td>\n",
       "      <td>...</td>\n",
       "      <td>...</td>\n",
       "      <td>...</td>\n",
       "      <td>...</td>\n",
       "      <td>...</td>\n",
       "      <td>...</td>\n",
       "      <td>...</td>\n",
       "      <td>...</td>\n",
       "      <td>...</td>\n",
       "      <td>...</td>\n",
       "    </tr>\n",
       "    <tr>\n",
       "      <th>10881</th>\n",
       "      <td>0</td>\n",
       "      <td>1</td>\n",
       "      <td>15.58</td>\n",
       "      <td>19.695</td>\n",
       "      <td>50</td>\n",
       "      <td>26.0027</td>\n",
       "      <td>0.0</td>\n",
       "      <td>0.0</td>\n",
       "      <td>0.0</td>\n",
       "      <td>1.0</td>\n",
       "      <td>...</td>\n",
       "      <td>False</td>\n",
       "      <td>False</td>\n",
       "      <td>False</td>\n",
       "      <td>False</td>\n",
       "      <td>False</td>\n",
       "      <td>True</td>\n",
       "      <td>False</td>\n",
       "      <td>False</td>\n",
       "      <td>False</td>\n",
       "      <td>False</td>\n",
       "    </tr>\n",
       "    <tr>\n",
       "      <th>10882</th>\n",
       "      <td>0</td>\n",
       "      <td>1</td>\n",
       "      <td>14.76</td>\n",
       "      <td>17.425</td>\n",
       "      <td>57</td>\n",
       "      <td>15.0013</td>\n",
       "      <td>0.0</td>\n",
       "      <td>0.0</td>\n",
       "      <td>0.0</td>\n",
       "      <td>1.0</td>\n",
       "      <td>...</td>\n",
       "      <td>False</td>\n",
       "      <td>False</td>\n",
       "      <td>False</td>\n",
       "      <td>False</td>\n",
       "      <td>False</td>\n",
       "      <td>False</td>\n",
       "      <td>True</td>\n",
       "      <td>False</td>\n",
       "      <td>False</td>\n",
       "      <td>False</td>\n",
       "    </tr>\n",
       "    <tr>\n",
       "      <th>10883</th>\n",
       "      <td>0</td>\n",
       "      <td>1</td>\n",
       "      <td>13.94</td>\n",
       "      <td>15.910</td>\n",
       "      <td>61</td>\n",
       "      <td>15.0013</td>\n",
       "      <td>0.0</td>\n",
       "      <td>0.0</td>\n",
       "      <td>0.0</td>\n",
       "      <td>1.0</td>\n",
       "      <td>...</td>\n",
       "      <td>False</td>\n",
       "      <td>False</td>\n",
       "      <td>False</td>\n",
       "      <td>False</td>\n",
       "      <td>False</td>\n",
       "      <td>False</td>\n",
       "      <td>False</td>\n",
       "      <td>True</td>\n",
       "      <td>False</td>\n",
       "      <td>False</td>\n",
       "    </tr>\n",
       "    <tr>\n",
       "      <th>10884</th>\n",
       "      <td>0</td>\n",
       "      <td>1</td>\n",
       "      <td>13.94</td>\n",
       "      <td>17.425</td>\n",
       "      <td>61</td>\n",
       "      <td>6.0032</td>\n",
       "      <td>0.0</td>\n",
       "      <td>0.0</td>\n",
       "      <td>0.0</td>\n",
       "      <td>1.0</td>\n",
       "      <td>...</td>\n",
       "      <td>False</td>\n",
       "      <td>False</td>\n",
       "      <td>False</td>\n",
       "      <td>False</td>\n",
       "      <td>False</td>\n",
       "      <td>False</td>\n",
       "      <td>False</td>\n",
       "      <td>False</td>\n",
       "      <td>True</td>\n",
       "      <td>False</td>\n",
       "    </tr>\n",
       "    <tr>\n",
       "      <th>10885</th>\n",
       "      <td>0</td>\n",
       "      <td>1</td>\n",
       "      <td>13.12</td>\n",
       "      <td>16.665</td>\n",
       "      <td>66</td>\n",
       "      <td>8.9981</td>\n",
       "      <td>0.0</td>\n",
       "      <td>0.0</td>\n",
       "      <td>0.0</td>\n",
       "      <td>1.0</td>\n",
       "      <td>...</td>\n",
       "      <td>False</td>\n",
       "      <td>False</td>\n",
       "      <td>False</td>\n",
       "      <td>False</td>\n",
       "      <td>False</td>\n",
       "      <td>False</td>\n",
       "      <td>False</td>\n",
       "      <td>False</td>\n",
       "      <td>False</td>\n",
       "      <td>True</td>\n",
       "    </tr>\n",
       "  </tbody>\n",
       "</table>\n",
       "<p>10886 rows × 51 columns</p>\n",
       "</div>"
      ],
      "text/plain": [
       "       holiday  workingday   temp   atemp  humidity  windspeed  spring  \\\n",
       "0            0           0   9.84  14.395        81     0.0000     1.0   \n",
       "1            0           0   9.02  13.635        80     0.0000     1.0   \n",
       "2            0           0   9.02  13.635        80     0.0000     1.0   \n",
       "3            0           0   9.84  14.395        75     0.0000     1.0   \n",
       "4            0           0   9.84  14.395        75     0.0000     1.0   \n",
       "...        ...         ...    ...     ...       ...        ...     ...   \n",
       "10881        0           1  15.58  19.695        50    26.0027     0.0   \n",
       "10882        0           1  14.76  17.425        57    15.0013     0.0   \n",
       "10883        0           1  13.94  15.910        61    15.0013     0.0   \n",
       "10884        0           1  13.94  17.425        61     6.0032     0.0   \n",
       "10885        0           1  13.12  16.665        66     8.9981     0.0   \n",
       "\n",
       "       summer  autumn  winter  ...  14-15h  15-16h  16-17h  17-18h  18-19h  \\\n",
       "0         0.0     0.0     0.0  ...   False   False   False   False   False   \n",
       "1         0.0     0.0     0.0  ...   False   False   False   False   False   \n",
       "2         0.0     0.0     0.0  ...   False   False   False   False   False   \n",
       "3         0.0     0.0     0.0  ...   False   False   False   False   False   \n",
       "4         0.0     0.0     0.0  ...   False   False   False   False   False   \n",
       "...       ...     ...     ...  ...     ...     ...     ...     ...     ...   \n",
       "10881     0.0     0.0     1.0  ...   False   False   False   False   False   \n",
       "10882     0.0     0.0     1.0  ...   False   False   False   False   False   \n",
       "10883     0.0     0.0     1.0  ...   False   False   False   False   False   \n",
       "10884     0.0     0.0     1.0  ...   False   False   False   False   False   \n",
       "10885     0.0     0.0     1.0  ...   False   False   False   False   False   \n",
       "\n",
       "       19-20h  20-21h  21-22h  22-23h  23-24h  \n",
       "0       False   False   False   False   False  \n",
       "1       False   False   False   False   False  \n",
       "2       False   False   False   False   False  \n",
       "3       False   False   False   False   False  \n",
       "4       False   False   False   False   False  \n",
       "...       ...     ...     ...     ...     ...  \n",
       "10881    True   False   False   False   False  \n",
       "10882   False    True   False   False   False  \n",
       "10883   False   False    True   False   False  \n",
       "10884   False   False   False    True   False  \n",
       "10885   False   False   False   False    True  \n",
       "\n",
       "[10886 rows x 51 columns]"
      ]
     },
     "execution_count": 45,
     "metadata": {},
     "output_type": "execute_result"
    }
   ],
   "source": [
    "train_binned"
   ]
  },
  {
   "cell_type": "markdown",
   "id": "46102cb4",
   "metadata": {},
   "source": [
    "Да проверим дали има подобрение:"
   ]
  },
  {
   "cell_type": "code",
   "execution_count": 46,
   "id": "42bb95a8",
   "metadata": {},
   "outputs": [
    {
     "name": "stdout",
     "output_type": "stream",
     "text": [
      "Linear regressor:\n",
      "\n",
      "R-squared score:  0.6852680416391386\n",
      "RMSLE score:  -1.0904384823719377\n",
      "R-squared score with log:  0.7079043433726253\n",
      "RMSLE score with log:  -0.5933815237697706\n",
      "R-squared score with sqrt:  0.7304034010572924\n",
      "RMSLE score with sqrt:  -0.740703699235039\n"
     ]
    }
   ],
   "source": [
    "print(\"Linear regressor:\\n\")\n",
    "score_regressor(linear_regressor, train_binned)"
   ]
  },
  {
   "cell_type": "code",
   "execution_count": 47,
   "id": "6865c74a",
   "metadata": {},
   "outputs": [
    {
     "name": "stdout",
     "output_type": "stream",
     "text": [
      "Forest regressor:\n",
      "\n",
      "R-squared score:  0.9098899672634994\n",
      "RMSLE score:  -0.49201367435843313\n",
      "R-squared score with log:  0.9191293009096748\n",
      "RMSLE score with log:  -0.3605471439376388\n",
      "R-squared score with sqrt:  0.916006600991015\n",
      "RMSLE score with sqrt:  -0.38456164141423577\n"
     ]
    }
   ],
   "source": [
    "print(\"Forest regressor:\\n\")\n",
    "score_regressor(forest_regressor, train_binned)"
   ]
  },
  {
   "cell_type": "markdown",
   "id": "e871b96e",
   "metadata": {},
   "source": [
    "При линейната регресия имаме подобрение. За сметка на това обаче при гората имаме известно влошаване. Това най-вероятно се дължи на факта, че имаме твърде много загуба на информация, тъй като нямаме ясна подредба на отделните времеви интервали. Например при представянията с интервал [0,1] и единична окръжност месеците януари и февруари са много близко един до друг и при необходимост може да се прави екстраполация между тях, особено ако датата е на границата между двата месеца. При разделянето на групи обаче те ще съответстват на съвсем различни стойности. Януари ще е толкова близо до февруари, колкото до юни. Това може да попречи на моделите да направят достатъчно добра оценка."
   ]
  },
  {
   "cell_type": "markdown",
   "id": "f06c0473",
   "metadata": {},
   "source": [
    "#### Заключение\n",
    "\n",
    "Като заключение може да се каже, че трансформацията в единичната окръжност и групирането в интервали са две подходящи представяния. Видяхме, че всяко от тях може да има предимство пред другото в зависимост от това кой алгоритъм използваме. Поради тази причина ще пробваме и двете представяния и ще сравним резултатите. Също така трансформацията в интервал [0,1] изглежда също е подходяща при дърветата. Може допълнително да я разгледаме за тях."
   ]
  },
  {
   "cell_type": "markdown",
   "id": "54ccb3e3",
   "metadata": {},
   "source": [
    "## Скалиране на данните\n",
    "\n",
    "За момента пробвахме линайна регресия и гора върху данните. Това са алгоритми, които не зависят от мащаба на отделните характеристики. За повечето от другите алгоритми, които ще пробваме, мащабът е от значение. Да тренираме `K Neighbors Regressor`, за да видим нуждата от скалиране."
   ]
  },
  {
   "cell_type": "code",
   "execution_count": 48,
   "id": "1c3a5342",
   "metadata": {},
   "outputs": [],
   "source": [
    "from sklearn.neighbors import KNeighborsRegressor\n",
    "\n",
    "kneighbours_regressor = KNeighborsRegressor(5)"
   ]
  },
  {
   "cell_type": "markdown",
   "id": "ba91525b",
   "metadata": {},
   "source": [
    "Да го тренираме върху трансформацията с единичната окръжност:"
   ]
  },
  {
   "cell_type": "code",
   "execution_count": 49,
   "id": "25b6d500",
   "metadata": {},
   "outputs": [
    {
     "name": "stdout",
     "output_type": "stream",
     "text": [
      "KNeighbors Regressor\n",
      "\n",
      "R-squared score:  0.3089112387396099\n",
      "RMSLE score:  -1.2251753732450512\n",
      "R-squared score with log:  0.23540537354604973\n",
      "RMSLE score with log:  -1.1512837560809408\n",
      "R-squared score with sqrt:  0.3004493930134794\n",
      "RMSLE score with sqrt:  -1.1615036113903336\n"
     ]
    }
   ],
   "source": [
    "print(\"KNeighbors Regressor\\n\")\n",
    "score_regressor(kneighbours_regressor, train_cycles)"
   ]
  },
  {
   "cell_type": "markdown",
   "id": "47425c95",
   "metadata": {},
   "source": [
    "Резултатите са много зле. Причината за това е, че характеристики като `temp`, `atemp` и `windspeed` имат много по-големи стойности от останалите характеристики и внасят твърде много шум в резултата.\n",
    "\n",
    "Да се опитаме да прекараме характеристиките през `Min-Max Scaler`:"
   ]
  },
  {
   "cell_type": "code",
   "execution_count": 50,
   "id": "eceb1b7c",
   "metadata": {},
   "outputs": [],
   "source": [
    "from sklearn.preprocessing import MinMaxScaler, StandardScaler\n",
    "\n",
    "train_01_scaled = MinMaxScaler().fit_transform(train_01)\n",
    "train_cycles_scaled = MinMaxScaler().fit_transform(train_cycles)\n",
    "train_binned_scaled = MinMaxScaler().fit_transform(train_binned)"
   ]
  },
  {
   "cell_type": "code",
   "execution_count": 51,
   "id": "e429ac98",
   "metadata": {},
   "outputs": [
    {
     "name": "stdout",
     "output_type": "stream",
     "text": [
      "KNeighbors Regressor\n",
      "\n",
      "R-squared score:  0.8731765254981337\n",
      "RMSLE score:  -0.48934229850706584\n",
      "R-squared score with log:  0.8622388111799655\n",
      "RMSLE score with log:  -0.4283699954102072\n",
      "R-squared score with sqrt:  0.87138341417782\n",
      "RMSLE score with sqrt:  -0.44635951087316994\n"
     ]
    }
   ],
   "source": [
    "print(\"KNeighbors Regressor\\n\")\n",
    "score_regressor(kneighbours_regressor, train_cycles_scaled)"
   ]
  },
  {
   "cell_type": "markdown",
   "id": "4b52cc8b",
   "metadata": {},
   "source": [
    "Вече имаме значително по-добри резултати."
   ]
  },
  {
   "cell_type": "markdown",
   "id": "d3c1b4b0",
   "metadata": {},
   "source": [
    "## Изпробване на различни алгоритми\n",
    "\n",
    "Тук вече ще погледнем по-подробно как се представят различни алгоритми и какви стойности от параметри за резуларизация дават добри стойности. Съответно ще използваме резултатите от това изследване, за да подберем подходящи параметри, които да подадем на Grid Search. Нека си създадем списъци `grid_01`, `grid_cycles` и `grid_binned`, в който ще натрупваме параметрите, които мислим да изпробваме. Във всеки grid ще добавяме параметри за тези алгоритми, които работят добре с това представяне. По този начин ще си спестим ненужни проверки за представяния, които не работят добре със съответния алгоритъм."
   ]
  },
  {
   "cell_type": "code",
   "execution_count": 52,
   "id": "0e65178d",
   "metadata": {},
   "outputs": [],
   "source": [
    "grid_01 = []\n",
    "grid_cycles = []\n",
    "grid_binned = []"
   ]
  },
  {
   "cell_type": "markdown",
   "id": "fd804a21",
   "metadata": {},
   "source": [
    "### Линейна регресия, Ridge и Lasso\n",
    "\n",
    "Вече направихме доста опити с линейна регресия. Видяхме, че представянето с групиране в интервали дава най-добри резултати, така че ще изпробваме него. Освен това ще правим опити със скалирана версия на данните. За линейната регресия това е без значение, но за `Ridge` и `Lasso` мащабът на данните е важен, защото това определя относителната големина на теглата, които участват в регуларизацията. Трябва за `Ridge` и `Lasso` да видим кой стойности на параметъра `alpha` има смисъл да изпробваме.\n",
    "\n",
    "Нека отново да пуснем линейната регресия като база за сравнение:"
   ]
  },
  {
   "cell_type": "code",
   "execution_count": 53,
   "id": "a2b6b20f",
   "metadata": {},
   "outputs": [
    {
     "name": "stdout",
     "output_type": "stream",
     "text": [
      "R-squared score:  0.6853097740928888\n",
      "RMSLE score:  -1.0902360848635582\n",
      "R-squared score with log:  0.7079270102364681\n",
      "RMSLE score with log:  -0.5933852924098119\n",
      "R-squared score with sqrt:  0.7306114829544913\n",
      "RMSLE score with sqrt:  -0.7412578206486512\n"
     ]
    }
   ],
   "source": [
    "score_regressor(linear_regressor, train_binned_scaled)"
   ]
  },
  {
   "cell_type": "markdown",
   "id": "dc79bb6c",
   "metadata": {},
   "source": [
    "Ще пробваме с `Ridge` и `Lasso`. За целта ще си направим помощна функция, която да оценява `R-squared` оценките при подадени алфи."
   ]
  },
  {
   "cell_type": "code",
   "execution_count": 54,
   "id": "b358dda7",
   "metadata": {},
   "outputs": [],
   "source": [
    "from sklearn.linear_model import Ridge, Lasso\n",
    "\n",
    "def test_ridge_with_alphas(alphas):\n",
    "    x_train, x_test, y_train, y_test = train_test_split(train_binned_scaled, \n",
    "                                                    target, \n",
    "                                                    test_size=0.25, \n",
    "                                                    random_state=0)\n",
    "\n",
    "    y_train_log = np.log(y_train)\n",
    "    y_test_log = np.log(y_test)\n",
    "    \n",
    "    y_train_sqrt = np.sqrt(y_train)\n",
    "    y_test_sqrt = np.sqrt(y_test)\n",
    "    \n",
    "    for a in alphas:\n",
    "        print(\"alpha = \" + str(a))\n",
    "        ridge = Ridge(alpha = a).fit(x_train, y_train)\n",
    "        print(\"R-squared score over test: \" + str(r2(ridge, x_test, y_test)))\n",
    "        ridge = Ridge(alpha = a).fit(x_train, y_train_log)\n",
    "        print(\"R-squared score over test with log: \" + str(r2_log(ridge, x_test, y_test_log)))\n",
    "        ridge = Ridge(alpha = a).fit(x_train, y_train_sqrt)\n",
    "        print(\"R-squared score over test with sqrt: \" + str(r2_sqrt(ridge, x_test, y_test_sqrt)) + \"\\n\")\n",
    "        \n",
    "def test_lasso_with_alphas(alphas):\n",
    "    x_train, x_test, y_train, y_test = train_test_split(train_binned_scaled, \n",
    "                                                    target, \n",
    "                                                    test_size=0.25, \n",
    "                                                    random_state=0)\n",
    "\n",
    "    y_train_log = np.log(y_train)\n",
    "    y_test_log = np.log(y_test)\n",
    "    \n",
    "    y_train_sqrt = np.sqrt(y_train)\n",
    "    y_test_sqrt = np.sqrt(y_test)\n",
    "    \n",
    "    for a in alphas:\n",
    "        print(\"alpha = \" + str(a))\n",
    "        lasso = Lasso(alpha = a).fit(x_train, y_train)\n",
    "        print(\"R-squared score over test: \" + str(r2(lasso, x_test, y_test)))\n",
    "        lasso = Lasso(alpha = a).fit(x_train, y_train_log)\n",
    "        print(\"R-squared score over test with log: \" + str(r2_log(lasso, x_test, y_test_log)))\n",
    "        lasso = Lasso(alpha = a).fit(x_train, y_train_sqrt)\n",
    "        print(\"R-squared score over test with sqrt: \" + str(r2_sqrt(lasso, x_test, y_test_sqrt)) + \"\\n\")"
   ]
  },
  {
   "cell_type": "code",
   "execution_count": 55,
   "id": "c4f4c74f",
   "metadata": {},
   "outputs": [
    {
     "name": "stdout",
     "output_type": "stream",
     "text": [
      "alpha = 1\n",
      "R-squared score over test: 0.6853792111689299\n",
      "R-squared score over test with log: 0.7078081056668466\n",
      "R-squared score over test with sqrt: 0.7301023998681954\n",
      "\n",
      "alpha = 10\n",
      "R-squared score over test: 0.6857147732474982\n",
      "R-squared score over test with log: 0.7057586565269915\n",
      "R-squared score over test with sqrt: 0.7269415218769426\n",
      "\n",
      "alpha = 50\n",
      "R-squared score over test: 0.6805921577686829\n",
      "R-squared score over test with log: 0.6788303988234586\n",
      "R-squared score over test with sqrt: 0.7080063748999761\n",
      "\n",
      "alpha = 100\n",
      "R-squared score over test: 0.6663746721906012\n",
      "R-squared score over test with log: 0.6297274302741058\n",
      "R-squared score over test with sqrt: 0.6798352271471877\n",
      "\n",
      "alpha = 300\n",
      "R-squared score over test: 0.5920834822481895\n",
      "R-squared score over test with log: 0.4436781511334792\n",
      "R-squared score over test with sqrt: 0.5716141975561979\n",
      "\n",
      "alpha = 1000\n",
      "R-squared score over test: 0.41550817285569897\n",
      "R-squared score over test with log: 0.1348904453673917\n",
      "R-squared score over test with sqrt: 0.35673168180113957\n",
      "\n"
     ]
    }
   ],
   "source": [
    "test_ridge_with_alphas([1, 10, 50, 100, 300, 1000])"
   ]
  },
  {
   "cell_type": "markdown",
   "id": "6c1b103b",
   "metadata": {},
   "source": [
    "Явно с `Ridge` няма да успеем да направим подобрение. Да погледнем и теглата на отделните характеристики при $ alpha = 10 $:"
   ]
  },
  {
   "cell_type": "code",
   "execution_count": 56,
   "id": "fb6a8239",
   "metadata": {},
   "outputs": [
    {
     "data": {
      "image/png": "[encoded data removed]",
      "text/plain": [
       "<Figure size 1440x576 with 1 Axes>"
      ]
     },
     "metadata": {
      "needs_background": "light"
     },
     "output_type": "display_data"
    }
   ],
   "source": [
    "x_train, x_test, y_train, y_test = train_test_split(train_binned_scaled, \n",
    "                                                    target, \n",
    "                                                    test_size=0.25, \n",
    "                                                    random_state=0)\n",
    "\n",
    "regressor = Ridge(alpha = 10).fit(x_train, y_train)\n",
    "\n",
    "plt.figure(figsize=(20,8))\n",
    "barplot = sns.barplot(x=train_binned.columns, y=regressor.coef_, orient='vertical')\n",
    "plt.setp(barplot.get_xticklabels(), rotation=90); plt.grid(True);"
   ]
  },
  {
   "cell_type": "markdown",
   "id": "84e4abff",
   "metadata": {},
   "source": [
    "Изглежда сутринта и следобяд има голямо търсене. Това е очаквано, понеже тогава хората отиват и се връщат от работа. Също така през нощта има малко търсене, което също е очаквано. Интересно е, че годината има положително тегло. Явно велосипедите са станали по-популярни през 2012 година в сравнение с 2011. За сметка на това месеците и сезоните нямат особено голям принос. Други забележими характеристики са температурата, скоростта на вятъра и влажността. Явно по-топлото време окуражава хората да карат велосипеди, докато вятъра и влажността ги разубеждават.\n",
    "\n",
    "Да пробваме и с `Lasso`:"
   ]
  },
  {
   "cell_type": "code",
   "execution_count": 57,
   "id": "e0caba0e",
   "metadata": {},
   "outputs": [
    {
     "name": "stdout",
     "output_type": "stream",
     "text": [
      "alpha = 0.01\n",
      "R-squared score over test: 0.6853466335027839\n",
      "R-squared score over test with log: 0.6311419399489728\n",
      "R-squared score over test with sqrt: 0.7239172454505534\n",
      "\n",
      "alpha = 0.03\n",
      "R-squared score over test: 0.6855062453155274\n",
      "R-squared score over test with log: 0.3303919117496422\n",
      "R-squared score over test with sqrt: 0.7020001037301868\n",
      "\n",
      "alpha = 0.1\n",
      "R-squared score over test: 0.6859254246137929\n",
      "R-squared score over test with log: -0.2397197968400211\n",
      "R-squared score over test with sqrt: 0.5918981117035744\n",
      "\n",
      "alpha = 0.3\n",
      "R-squared score over test: 0.6858026336808067\n",
      "R-squared score over test with log: -0.30391842079846776\n",
      "R-squared score over test with sqrt: 0.1822998724747188\n",
      "\n",
      "alpha = 1\n",
      "R-squared score over test: 0.6712754152252036\n",
      "R-squared score over test with log: -0.30391842079846776\n",
      "R-squared score over test with sqrt: -0.07177859616920235\n",
      "\n",
      "alpha = 10\n",
      "R-squared score over test: 0.16396895854160254\n",
      "R-squared score over test with log: -0.30391842079846776\n",
      "R-squared score over test with sqrt: -0.07177859616920235\n",
      "\n"
     ]
    }
   ],
   "source": [
    "test_lasso_with_alphas([0.01, 0.03, 0.1, 0.3, 1, 10])"
   ]
  },
  {
   "cell_type": "markdown",
   "id": "e8cf96e3",
   "metadata": {},
   "source": [
    "Явно и `Lasso` не дава подобрение. Все пак ще ги вкараме в `grid_binned`, тъй като се обучават бързо и няма да доведат до ненужно забавяне:"
   ]
  },
  {
   "cell_type": "code",
   "execution_count": 58,
   "id": "c7bc467e",
   "metadata": {},
   "outputs": [],
   "source": [
    "linear_regression_parameters = {\n",
    "    'regressor': [LinearRegression()],\n",
    "    'preprocessing': [MinMaxScaler()],\n",
    "}\n",
    "\n",
    "ridge_parameters = {\n",
    "    'regressor': [Ridge()],\n",
    "    'preprocessing': [StandardScaler(), MinMaxScaler()],\n",
    "    'regressor__alpha': [0.5, 1, 3, 7, 10, 20, 60, 100],\n",
    "}\n",
    "\n",
    "lasso_parameters = {\n",
    "    'regressor': [Lasso()],\n",
    "    'preprocessing': [StandardScaler(), MinMaxScaler()],\n",
    "    'regressor__alpha': [0.001, 0.003, 0.006, 0.01, 0.2, 0.4, 0.7, 1, 5],\n",
    "}\n",
    "\n",
    "grid_binned.append(linear_regression_parameters)\n",
    "grid_binned.append(ridge_parameters)\n",
    "grid_binned.append(lasso_parameters)"
   ]
  },
  {
   "cell_type": "markdown",
   "id": "41919380",
   "metadata": {},
   "source": [
    "### Random Forest Regressor\n",
    "\n",
    "За гората също направихме тестове, докато обработвахме характеристиките. Видяхме, че цикличното представяне дава добри резултати. Нека използваме него. Ще кои стойности на параметрите за регуларизация има смисъл да изпробваме:"
   ]
  },
  {
   "cell_type": "code",
   "execution_count": 59,
   "id": "a7d51100",
   "metadata": {},
   "outputs": [],
   "source": [
    "def test_forest_with_parameters(maxDepths = [1000], minSamples = [2]):\n",
    "    x_train, x_test, y_train, y_test = train_test_split(train_cycles_scaled, \n",
    "                                                    target, \n",
    "                                                    test_size=0.25, \n",
    "                                                    random_state=0)\n",
    "\n",
    "    y_train_log = np.log(y_train)\n",
    "    y_test_log = np.log(y_test)\n",
    "    \n",
    "    y_train_sqrt = np.sqrt(y_train)\n",
    "    y_test_sqrt = np.sqrt(y_test)\n",
    "    \n",
    "    for d in maxDepths:\n",
    "        for s in minSamples: \n",
    "            print(\"Max depth = \" + str(d) + \", Min samples = \" + str(s))\n",
    "            forest = RandomForestRegressor(max_depth = d, min_samples_split = s).fit(x_train, y_train)\n",
    "            print(\"R-squared score over test: \" + str(r2(forest, x_test, y_test)))\n",
    "            forest = RandomForestRegressor(max_depth = d, min_samples_split = s).fit(x_train, y_train_log)\n",
    "            print(\"R-squared score over test with log: \" + str(r2_log(forest, x_test, y_test_log)))\n",
    "            forest = RandomForestRegressor(max_depth = d, min_samples_split = s).fit(x_train, y_train_sqrt)\n",
    "            print(\"R-squared score over test with sqrt: \" + str(r2_sqrt(forest, x_test, y_test_sqrt)) + \"\\n\")"
   ]
  },
  {
   "cell_type": "markdown",
   "id": "b10a879f",
   "metadata": {},
   "source": [
    "Понеже имаме 2 параметъра, възможните комбинации стават много на брой. Ще тестваме двата параметъра поотделно, за да видим в какви граници има смисъл да ги изменяме, а комбинирането им ще оставим на Grid Search."
   ]
  },
  {
   "cell_type": "code",
   "execution_count": 60,
   "id": "92abcb75",
   "metadata": {},
   "outputs": [
    {
     "name": "stdout",
     "output_type": "stream",
     "text": [
      "Max depth = 5, Min samples = 2\n",
      "R-squared score over test: 0.7368102879813541\n",
      "R-squared score over test with log: 0.6584361131899383\n",
      "R-squared score over test with sqrt: 0.711520728582199\n",
      "\n",
      "Max depth = 10, Min samples = 2\n",
      "R-squared score over test: 0.932193219919799\n",
      "R-squared score over test with log: 0.9077269227150979\n",
      "R-squared score over test with sqrt: 0.9202447974700363\n",
      "\n",
      "Max depth = 20, Min samples = 2\n",
      "R-squared score over test: 0.9427310899704834\n",
      "R-squared score over test with log: 0.9358977232097897\n",
      "R-squared score over test with sqrt: 0.9399039783791182\n",
      "\n",
      "Max depth = 50, Min samples = 2\n",
      "R-squared score over test: 0.9435801539285004\n",
      "R-squared score over test with log: 0.9351218566171766\n",
      "R-squared score over test with sqrt: 0.9400197360558981\n",
      "\n",
      "Max depth = 100, Min samples = 2\n",
      "R-squared score over test: 0.9439182642755557\n",
      "R-squared score over test with log: 0.9354668347138773\n",
      "R-squared score over test with sqrt: 0.939138508686089\n",
      "\n"
     ]
    }
   ],
   "source": [
    "test_forest_with_parameters(maxDepths = [5, 10, 20, 50, 100])"
   ]
  },
  {
   "cell_type": "markdown",
   "id": "a17a3098",
   "metadata": {},
   "source": [
    "Изглежда за гората по-голяма дълбочина е за предпочитане. Да пробваме и с ограничаване на възможността за разделяне:"
   ]
  },
  {
   "cell_type": "code",
   "execution_count": 61,
   "id": "2005cd10",
   "metadata": {},
   "outputs": [
    {
     "name": "stdout",
     "output_type": "stream",
     "text": [
      "Max depth = 1000, Min samples = 2\n",
      "R-squared score over test: 0.9426980743604284\n",
      "R-squared score over test with log: 0.9362285671810955\n",
      "R-squared score over test with sqrt: 0.9389091367945195\n",
      "\n",
      "Max depth = 1000, Min samples = 5\n",
      "R-squared score over test: 0.9424902484897226\n",
      "R-squared score over test with log: 0.9336346601340783\n",
      "R-squared score over test with sqrt: 0.9385369453465447\n",
      "\n",
      "Max depth = 1000, Min samples = 10\n",
      "R-squared score over test: 0.939512936634312\n",
      "R-squared score over test with log: 0.9303375923879745\n",
      "R-squared score over test with sqrt: 0.9351684503529062\n",
      "\n",
      "Max depth = 1000, Min samples = 20\n",
      "R-squared score over test: 0.9322854492633563\n",
      "R-squared score over test with log: 0.9242582572290764\n",
      "R-squared score over test with sqrt: 0.9286938919375184\n",
      "\n",
      "Max depth = 1000, Min samples = 50\n",
      "R-squared score over test: 0.908836639351559\n",
      "R-squared score over test with log: 0.9006799258653884\n",
      "R-squared score over test with sqrt: 0.9043134665032208\n",
      "\n",
      "Max depth = 1000, Min samples = 100\n",
      "R-squared score over test: 0.8664758439297162\n",
      "R-squared score over test with log: 0.8551420620639785\n",
      "R-squared score over test with sqrt: 0.8629652215169747\n",
      "\n"
     ]
    }
   ],
   "source": [
    "test_forest_with_parameters(minSamples = [2, 5, 10, 20, 50, 100])"
   ]
  },
  {
   "cell_type": "markdown",
   "id": "30c8ef89",
   "metadata": {},
   "source": [
    "Изглежда допълнителната регуларизация не дава особено подобрение. Все пак ще вкараме в `grid_01` и `grid_cycles` съответните параметри, които искаме да изпробваме:"
   ]
  },
  {
   "cell_type": "code",
   "execution_count": 62,
   "id": "e5e97eed",
   "metadata": {},
   "outputs": [],
   "source": [
    "random_forest_parameters = {\n",
    "    'regressor': [RandomForestRegressor(n_estimators=100)],\n",
    "    'preprocessing': [MinMaxScaler()],\n",
    "    'regressor__max_depth': [5, 10, 15, 20, 30, 40, 50, 70, 100],\n",
    "    'regressor__min_samples_split': [2, 4, 7, 10, 15, 20, 30, 40, 50, 70]\n",
    "}\n",
    "\n",
    "grid_01.append(random_forest_parameters)\n",
    "grid_cycles.append(random_forest_parameters)"
   ]
  },
  {
   "cell_type": "markdown",
   "id": "a2f89c2f",
   "metadata": {},
   "source": [
    "### K Neighbors Regressor\n",
    "\n",
    "Нека да пробваме и с K най-близки съседи. За него не сме правили много експерименти, поради което първо ще пробваме кое представяне на характеристиките дава най-добър резултат."
   ]
  },
  {
   "cell_type": "code",
   "execution_count": 63,
   "id": "a3b9ccb9",
   "metadata": {},
   "outputs": [],
   "source": [
    "kneighbors = KNeighborsRegressor(n_neighbors = 5)"
   ]
  },
  {
   "cell_type": "code",
   "execution_count": 64,
   "id": "604e19d2",
   "metadata": {},
   "outputs": [
    {
     "name": "stdout",
     "output_type": "stream",
     "text": [
      "R-squared score:  0.7563243599677248\n",
      "RMSLE score:  -0.6918247180282324\n",
      "R-squared score with log:  0.7364952027172824\n",
      "RMSLE score with log:  -0.6117910989938024\n",
      "R-squared score with sqrt:  0.7543806831825983\n",
      "RMSLE score with sqrt:  -0.6354261920916034\n"
     ]
    }
   ],
   "source": [
    "score_regressor(kneighbors, train_01_scaled)"
   ]
  },
  {
   "cell_type": "code",
   "execution_count": 65,
   "id": "e627f3f4",
   "metadata": {},
   "outputs": [
    {
     "name": "stdout",
     "output_type": "stream",
     "text": [
      "R-squared score:  0.8731765254981337\n",
      "RMSLE score:  -0.48934229850706584\n",
      "R-squared score with log:  0.8622388111799655\n",
      "RMSLE score with log:  -0.4283699954102072\n",
      "R-squared score with sqrt:  0.87138341417782\n",
      "RMSLE score with sqrt:  -0.44635951087316994\n"
     ]
    }
   ],
   "source": [
    "score_regressor(kneighbors, train_cycles_scaled)"
   ]
  },
  {
   "cell_type": "code",
   "execution_count": 66,
   "id": "ceb507c4",
   "metadata": {},
   "outputs": [
    {
     "name": "stdout",
     "output_type": "stream",
     "text": [
      "R-squared score:  0.8171431252363057\n",
      "RMSLE score:  -0.5888984054286638\n",
      "R-squared score with log:  0.8058699495743191\n",
      "RMSLE score with log:  -0.5339380012520124\n",
      "R-squared score with sqrt:  0.8169507818512065\n",
      "RMSLE score with sqrt:  -0.5505123547569587\n"
     ]
    }
   ],
   "source": [
    "score_regressor(kneighbors, train_binned_scaled)"
   ]
  },
  {
   "cell_type": "markdown",
   "id": "dd7a7a5e",
   "metadata": {},
   "source": [
    "Явно цикличното представяне е най-подходящо. Да пробваме как влияят различните параметри за резуларизация."
   ]
  },
  {
   "cell_type": "code",
   "execution_count": 67,
   "id": "9d6de69e",
   "metadata": {},
   "outputs": [],
   "source": [
    "def test_kneighbors_with_parameters(neighbors = [5], power = 2):\n",
    "    x_train, x_test, y_train, y_test = train_test_split(train_cycles_scaled, \n",
    "                                                    target, \n",
    "                                                    test_size=0.25, \n",
    "                                                    random_state=0)\n",
    "\n",
    "    y_train_log = np.log(y_train)\n",
    "    y_test_log = np.log(y_test)\n",
    "    \n",
    "    y_train_sqrt = np.sqrt(y_train)\n",
    "    y_test_sqrt = np.sqrt(y_test)\n",
    "    \n",
    "    for n in neighbors: \n",
    "        print(\"K neigbors = \" + str(n) + \", Power = \" + str(power))\n",
    "        kneighbors = KNeighborsRegressor(n_neighbors = n, p = power).fit(x_train, y_train)\n",
    "        print(\"R-squared score over test: \" + str(r2(kneighbors, x_test, y_test)))\n",
    "        kneighbors = KNeighborsRegressor(n_neighbors = n, p = power).fit(x_train, y_train_log)\n",
    "        print(\"R-squared score over test with log: \" + str(r2_log(kneighbors, x_test, y_test_log)))\n",
    "        kneighbors = KNeighborsRegressor(n_neighbors = n, p = power).fit(x_train, y_train_sqrt)\n",
    "        print(\"R-squared score over test with sqrt: \" + str(r2_sqrt(kneighbors, x_test, y_test_sqrt)) + \"\\n\")"
   ]
  },
  {
   "cell_type": "code",
   "execution_count": 68,
   "id": "273c067f",
   "metadata": {},
   "outputs": [
    {
     "name": "stdout",
     "output_type": "stream",
     "text": [
      "K neigbors = 1, Power = 2\n",
      "R-squared score over test: 0.7748652535080595\n",
      "R-squared score over test with log: 0.7748652535080595\n",
      "R-squared score over test with sqrt: 0.7748652535080595\n",
      "\n",
      "K neigbors = 3, Power = 2\n",
      "R-squared score over test: 0.8616497961062886\n",
      "R-squared score over test with log: 0.8562411286023712\n",
      "R-squared score over test with sqrt: 0.8613621114742682\n",
      "\n",
      "K neigbors = 5, Power = 2\n",
      "R-squared score over test: 0.8731765254981337\n",
      "R-squared score over test with log: 0.8622388111799655\n",
      "R-squared score over test with sqrt: 0.87138341417782\n",
      "\n",
      "K neigbors = 10, Power = 2\n",
      "R-squared score over test: 0.8597583841957174\n",
      "R-squared score over test with log: 0.8366259713215966\n",
      "R-squared score over test with sqrt: 0.854632946507187\n",
      "\n",
      "K neigbors = 15, Power = 2\n",
      "R-squared score over test: 0.8407841991988785\n",
      "R-squared score over test with log: 0.8083016268832928\n",
      "R-squared score over test with sqrt: 0.8332513736918613\n",
      "\n",
      "K neigbors = 20, Power = 2\n",
      "R-squared score over test: 0.8220465361345836\n",
      "R-squared score over test with log: 0.7780400504498327\n",
      "R-squared score over test with sqrt: 0.8116127905366012\n",
      "\n",
      "K neigbors = 30, Power = 2\n",
      "R-squared score over test: 0.7875884521950499\n",
      "R-squared score over test with log: 0.7255274997748087\n",
      "R-squared score over test with sqrt: 0.7722928976420895\n",
      "\n",
      "K neigbors = 50, Power = 2\n",
      "R-squared score over test: 0.7318128802743461\n",
      "R-squared score over test with log: 0.6409177856881794\n",
      "R-squared score over test with sqrt: 0.7098414698007125\n",
      "\n"
     ]
    }
   ],
   "source": [
    "test_kneighbors_with_parameters([1, 3, 5, 10, 15, 20, 30, 50])"
   ]
  },
  {
   "cell_type": "markdown",
   "id": "3ed58713",
   "metadata": {},
   "source": [
    "Да пробваме и с Манхатънско разстояние:"
   ]
  },
  {
   "cell_type": "code",
   "execution_count": 69,
   "id": "435ecce4",
   "metadata": {},
   "outputs": [
    {
     "name": "stdout",
     "output_type": "stream",
     "text": [
      "K neigbors = 1, Power = 1\n",
      "R-squared score over test: 0.7704592250572021\n",
      "R-squared score over test with log: 0.7704592250572021\n",
      "R-squared score over test with sqrt: 0.7704592250572021\n",
      "\n",
      "K neigbors = 3, Power = 1\n",
      "R-squared score over test: 0.8640043101437613\n",
      "R-squared score over test with log: 0.856697739775671\n",
      "R-squared score over test with sqrt: 0.8639634041745144\n",
      "\n",
      "K neigbors = 5, Power = 1\n",
      "R-squared score over test: 0.8701718679033518\n",
      "R-squared score over test with log: 0.8536755596326259\n",
      "R-squared score over test with sqrt: 0.8674726325809137\n",
      "\n",
      "K neigbors = 10, Power = 1\n",
      "R-squared score over test: 0.849210175266246\n",
      "R-squared score over test with log: 0.8114276153576624\n",
      "R-squared score over test with sqrt: 0.8405624902616156\n",
      "\n",
      "K neigbors = 15, Power = 1\n",
      "R-squared score over test: 0.8314917023084871\n",
      "R-squared score over test with log: 0.7771246005776503\n",
      "R-squared score over test with sqrt: 0.8185209734617962\n",
      "\n",
      "K neigbors = 20, Power = 1\n",
      "R-squared score over test: 0.8119943694959209\n",
      "R-squared score over test with log: 0.7426392870039628\n",
      "R-squared score over test with sqrt: 0.7949714923327498\n",
      "\n",
      "K neigbors = 30, Power = 1\n",
      "R-squared score over test: 0.7766775437472686\n",
      "R-squared score over test with log: 0.6839276542871999\n",
      "R-squared score over test with sqrt: 0.7535586149218838\n",
      "\n",
      "K neigbors = 50, Power = 1\n",
      "R-squared score over test: 0.7207425981809086\n",
      "R-squared score over test with log: 0.5954148661656204\n",
      "R-squared score over test with sqrt: 0.6893691792820444\n",
      "\n"
     ]
    }
   ],
   "source": [
    "test_kneighbors_with_parameters([1, 3, 5, 10, 15, 20, 30, 50], power = 1)"
   ]
  },
  {
   "cell_type": "markdown",
   "id": "88e881cb",
   "metadata": {},
   "source": [
    "K Neighbors изглежда се справя по-добре от линейните регресии, но няма да достигне точността на гората. Все пак дава добри резултати за толкова прост алгоритъм."
   ]
  },
  {
   "cell_type": "markdown",
   "id": "4b74b1db",
   "metadata": {},
   "source": [
    "Нека да вкараме параметрите в `grid_cycles`. Освен пробваните параметри ще се опитаме да променим и параметъра `weights`, с който можем да се ползва претеглен K Neigbors."
   ]
  },
  {
   "cell_type": "code",
   "execution_count": 70,
   "id": "45a863fb",
   "metadata": {},
   "outputs": [],
   "source": [
    "kneighbors_parameters = {\n",
    "    'regressor': [KNeighborsRegressor()],\n",
    "    'preprocessing': [StandardScaler(), MinMaxScaler()],\n",
    "    'regressor__n_neighbors': [1, 3, 5, 7, 10, 15, 20, 30, 50],\n",
    "    'regressor__weights': ['uniform', 'distance'],\n",
    "    'regressor__p': [1, 2]\n",
    "}\n",
    "\n",
    "grid_cycles.append(kneighbors_parameters)"
   ]
  },
  {
   "cell_type": "markdown",
   "id": "b6135764",
   "metadata": {},
   "source": [
    "### Support Vector Regressor\n",
    "\n",
    "Ще изпробваме как се справя SVR. Той има способността да намира нелинейни зависимости, което е подходящо за настоящата задача. Ще използваме `rbf` и `poly` като ядра. Първо ще видим кое представяне на характеристиките дава най-добри резултати за `rbf`:"
   ]
  },
  {
   "cell_type": "code",
   "execution_count": 71,
   "id": "761b043c",
   "metadata": {},
   "outputs": [],
   "source": [
    "from sklearn.svm import SVR\n",
    "\n",
    "svr_rbf = SVR(kernel='rbf')\n",
    "svr_poly_2 = SVR(kernel='poly', degree = 2)\n",
    "svr_poly_3 = SVR(kernel='poly', degree = 3)"
   ]
  },
  {
   "cell_type": "code",
   "execution_count": 72,
   "id": "895e1f0c",
   "metadata": {},
   "outputs": [
    {
     "name": "stdout",
     "output_type": "stream",
     "text": [
      "R-squared score:  0.27492659466706637\n",
      "RMSLE score:  -1.151414139857473\n",
      "R-squared score with log:  0.5542886972217087\n",
      "RMSLE score with log:  -0.8456349051305737\n",
      "R-squared score with sqrt:  0.4862680970750458\n",
      "RMSLE score with sqrt:  -0.9115079127707031\n"
     ]
    }
   ],
   "source": [
    "score_regressor(svr_rbf, train_01_scaled)"
   ]
  },
  {
   "cell_type": "code",
   "execution_count": 73,
   "id": "1976869b",
   "metadata": {},
   "outputs": [
    {
     "name": "stdout",
     "output_type": "stream",
     "text": [
      "R-squared score:  0.39921640609471465\n",
      "RMSLE score:  -0.9753862864914591\n",
      "R-squared score with log:  0.7468351869043051\n",
      "RMSLE score with log:  -0.5313483075135026\n",
      "R-squared score with sqrt:  0.6535450424014556\n",
      "RMSLE score with sqrt:  -0.6034543592922575\n"
     ]
    }
   ],
   "source": [
    "score_regressor(svr_rbf, train_cycles_scaled)"
   ]
  },
  {
   "cell_type": "code",
   "execution_count": 74,
   "id": "41e6578d",
   "metadata": {},
   "outputs": [
    {
     "name": "stdout",
     "output_type": "stream",
     "text": [
      "R-squared score:  0.29699248520999466\n",
      "RMSLE score:  -1.1798448214833348\n",
      "R-squared score with log:  0.9332873034084148\n",
      "RMSLE score with log:  -0.3309170530012457\n",
      "R-squared score with sqrt:  0.8826915237338767\n",
      "RMSLE score with sqrt:  -0.43440687356295377\n"
     ]
    }
   ],
   "source": [
    "score_regressor(svr_rbf, train_binned_scaled)"
   ]
  },
  {
   "cell_type": "markdown",
   "id": "0a7912bb",
   "metadata": {},
   "source": [
    "Подобно на линейната регресия, SVR дава най-добри резултати при групиране на времето в интервали. Да проверим дали това представяне е подходящо и за полиномиално ядро:"
   ]
  },
  {
   "cell_type": "code",
   "execution_count": 75,
   "id": "5f30e514",
   "metadata": {},
   "outputs": [
    {
     "name": "stdout",
     "output_type": "stream",
     "text": [
      "R-squared score:  0.43841304162826256\n",
      "RMSLE score:  -1.0378611423965447\n",
      "R-squared score with log:  0.9274768742945046\n",
      "RMSLE score with log:  -0.33490873922951064\n",
      "R-squared score with sqrt:  0.8935168747739316\n",
      "RMSLE score with sqrt:  -0.41854325408644977\n"
     ]
    }
   ],
   "source": [
    "score_regressor(svr_poly_2, train_binned_scaled)"
   ]
  },
  {
   "cell_type": "code",
   "execution_count": 76,
   "id": "bc9b47e3",
   "metadata": {},
   "outputs": [
    {
     "name": "stdout",
     "output_type": "stream",
     "text": [
      "R-squared score:  0.4450101624858629\n",
      "RMSLE score:  -1.0283811220933516\n",
      "R-squared score with log:  0.9291448930745022\n",
      "RMSLE score with log:  -0.3338990615409754\n",
      "R-squared score with sqrt:  0.9098307421286853\n",
      "RMSLE score with sqrt:  -0.3897397842342768\n"
     ]
    }
   ],
   "source": [
    "score_regressor(svr_poly_3, train_binned_scaled)"
   ]
  },
  {
   "cell_type": "markdown",
   "id": "3a2c2686",
   "metadata": {},
   "source": [
    "Пак получаваме добри резултати. Сега ще тестваме няколко параметъра за регуларизация върху `rbf` ядрото, за да видим какви стойности има смисъл да пробваме:"
   ]
  },
  {
   "cell_type": "code",
   "execution_count": 77,
   "id": "e9988e3e",
   "metadata": {},
   "outputs": [],
   "source": [
    "def test_svr_with_parameters(Cs = [1], gammas = ['scale']):\n",
    "    x_train, x_test, y_train, y_test = train_test_split(train_binned_scaled, \n",
    "                                                    target, \n",
    "                                                    test_size=0.25, \n",
    "                                                    random_state=0)\n",
    "\n",
    "    y_train_log = np.log(y_train)\n",
    "    y_test_log = np.log(y_test)\n",
    "    \n",
    "    y_train_sqrt = np.sqrt(y_train)\n",
    "    y_test_sqrt = np.sqrt(y_test)\n",
    "    \n",
    "    for c in Cs:\n",
    "        for gamma in gammas: \n",
    "            print(\"C = \" + str(c) + \", Gamma = \" + str(gamma))\n",
    "            svr = SVR(C = c, gamma = gamma).fit(x_train, y_train)\n",
    "            print(\"R-squared score over test: \" + str(r2(svr, x_test, y_test)))\n",
    "            svr = SVR(C = c, gamma = gamma).fit(x_train, y_train_log)\n",
    "            print(\"R-squared score over test with log: \" + str(r2_log(svr, x_test, y_test_log)))\n",
    "            svr = SVR(C = c, gamma = gamma).fit(x_train, y_train_sqrt)\n",
    "            print(\"R-squared score over test with sqrt: \" + str(r2_sqrt(svr, x_test, y_test_sqrt)) + \"\\n\")"
   ]
  },
  {
   "cell_type": "markdown",
   "id": "fb06a375",
   "metadata": {},
   "source": [
    "Първо да пробваме с промяна на параметъра `C`:"
   ]
  },
  {
   "cell_type": "code",
   "execution_count": 78,
   "id": "f50902af",
   "metadata": {},
   "outputs": [
    {
     "name": "stdout",
     "output_type": "stream",
     "text": [
      "C = 0.2, Gamma = scale\n",
      "R-squared score over test: 0.03767989401351912\n",
      "R-squared score over test with log: 0.9041127065976202\n",
      "R-squared score over test with sqrt: 0.6673562000225508\n",
      "\n",
      "C = 0.5, Gamma = scale\n",
      "R-squared score over test: 0.16540005610288477\n",
      "R-squared score over test with log: 0.9276830308577309\n",
      "R-squared score over test with sqrt: 0.8148836025555197\n",
      "\n",
      "C = 1, Gamma = scale\n",
      "R-squared score over test: 0.29699248520999466\n",
      "R-squared score over test with log: 0.9332873034084148\n",
      "R-squared score over test with sqrt: 0.8826915237338767\n",
      "\n",
      "C = 2, Gamma = scale\n",
      "R-squared score over test: 0.44167519978163117\n",
      "R-squared score over test with log: 0.9346962170147832\n",
      "R-squared score over test with sqrt: 0.9179370234539903\n",
      "\n",
      "C = 5, Gamma = scale\n",
      "R-squared score over test: 0.6195203407594978\n",
      "R-squared score over test with log: 0.9340553279400267\n",
      "R-squared score over test with sqrt: 0.9313167692195754\n",
      "\n",
      "C = 10, Gamma = scale\n",
      "R-squared score over test: 0.7312912271929827\n",
      "R-squared score over test with log: 0.9305764648038765\n",
      "R-squared score over test with sqrt: 0.933110177457709\n",
      "\n"
     ]
    }
   ],
   "source": [
    "test_svr_with_parameters(Cs = [0.2, 0.5, 1, 2, 5, 10])"
   ]
  },
  {
   "cell_type": "markdown",
   "id": "7cb2d692",
   "metadata": {},
   "source": [
    "Явно стойности около 1 дават добри резултати. Да пробваме и `gamma`:"
   ]
  },
  {
   "cell_type": "code",
   "execution_count": 79,
   "id": "ac715160",
   "metadata": {},
   "outputs": [
    {
     "name": "stdout",
     "output_type": "stream",
     "text": [
      "C = 1, Gamma = 0.02\n",
      "R-squared score over test: 0.09305905027482031\n",
      "R-squared score over test with log: 0.7777419846847672\n",
      "R-squared score over test with sqrt: 0.6588330563136487\n",
      "\n",
      "C = 1, Gamma = 0.05\n",
      "R-squared score over test: 0.20548137932828792\n",
      "R-squared score over test with log: 0.9003318000545587\n",
      "R-squared score over test with sqrt: 0.7469655698289874\n",
      "\n",
      "C = 1, Gamma = 0.1\n",
      "R-squared score over test: 0.2746273611641358\n",
      "R-squared score over test with log: 0.9293044925549014\n",
      "R-squared score over test with sqrt: 0.8250395952273804\n",
      "\n",
      "C = 1, Gamma = 0.2\n",
      "R-squared score over test: 0.29578879097725297\n",
      "R-squared score over test with log: 0.9332632288533584\n",
      "R-squared score over test with sqrt: 0.8857408466521242\n",
      "\n",
      "C = 1, Gamma = 0.5\n",
      "R-squared score over test: 0.16201847116507784\n",
      "R-squared score over test with log: 0.9192383758885521\n",
      "R-squared score over test with sqrt: 0.8793557662026051\n",
      "\n",
      "C = 1, Gamma = 1\n",
      "R-squared score over test: 0.007544614566786123\n",
      "R-squared score over test with log: 0.8781582926499233\n",
      "R-squared score over test with sqrt: 0.7479924543517087\n",
      "\n"
     ]
    }
   ],
   "source": [
    "test_svr_with_parameters(gammas = [0.02, 0.05, 0.1, 0.2, 0.5, 1])"
   ]
  },
  {
   "cell_type": "markdown",
   "id": "2c643a03",
   "metadata": {},
   "source": [
    "За `gamma` е добре стойностите да са по-малки от 1. Да вкараме SVR в `grid_binned`:"
   ]
  },
  {
   "cell_type": "code",
   "execution_count": 80,
   "id": "fcc782f5",
   "metadata": {},
   "outputs": [],
   "source": [
    "svr_parameters_rbf = {\n",
    "    'regressor': [SVR()],\n",
    "    'preprocessing': [MinMaxScaler(), StandardScaler()],\n",
    "    'regressor__max_iter': [5000],\n",
    "    'regressor__kernel': ['rbf'],\n",
    "    'regressor__C': [0.5, 1, 2, 5, 10],\n",
    "    'regressor__gamma': ['scale', 'auto', 0.05, 0.1, 0.25, 0.5, 1]\n",
    "}\n",
    "\n",
    "svr_parameters_poly = {\n",
    "    'regressor': [SVR()],\n",
    "    'preprocessing': [MinMaxScaler(), StandardScaler()],\n",
    "    'regressor__max_iter': [5000],\n",
    "    'regressor__kernel': ['poly'],\n",
    "    'regressor__degree': [2, 3, 4],\n",
    "    'regressor__C': [0.5, 1, 2, 5, 10],\n",
    "    'regressor__gamma': ['scale', 'auto', 0.05, 0.1, 0.25, 0.5, 1]\n",
    "}\n",
    "\n",
    "grid_binned.append(svr_parameters_rbf)\n",
    "grid_binned.append(svr_parameters_poly)"
   ]
  },
  {
   "cell_type": "markdown",
   "id": "66acd44f",
   "metadata": {},
   "source": [
    "### Multilayer Perceptron\n",
    "\n",
    "Накрая ще пробваме и с невронна мрежа. Първо да видим върху кое представяне на характеристиките се справя най-добре."
   ]
  },
  {
   "cell_type": "code",
   "execution_count": 81,
   "id": "5f9b215d",
   "metadata": {},
   "outputs": [],
   "source": [
    "from sklearn.neural_network import MLPRegressor\n",
    "\n",
    "mlp80_20 = MLPRegressor((80, 20), max_iter = 1000, activation='tanh')"
   ]
  },
  {
   "cell_type": "code",
   "execution_count": 82,
   "id": "ef7b920b",
   "metadata": {},
   "outputs": [
    {
     "name": "stderr",
     "output_type": "stream",
     "text": [
      "C:\\Users\\Boyko Borisov\\AppData\\Roaming\\Python\\Python36\\site-packages\\sklearn\\neural_network\\_multilayer_perceptron.py:617: ConvergenceWarning: Stochastic Optimizer: Maximum iterations (1000) reached and the optimization hasn't converged yet.\n",
      "  % self.max_iter, ConvergenceWarning)\n"
     ]
    },
    {
     "name": "stdout",
     "output_type": "stream",
     "text": [
      "R-squared score:  0.871414048223429\n",
      "RMSLE score:  -0.7475263339457654\n",
      "R-squared score with log:  0.9186201288705611\n",
      "RMSLE score with log:  -0.3272732050952478\n",
      "R-squared score with sqrt:  0.9348639132104853\n",
      "RMSLE score with sqrt:  -0.3690824313175789\n"
     ]
    }
   ],
   "source": [
    "score_regressor(mlp80_20, train_01_scaled)"
   ]
  },
  {
   "cell_type": "code",
   "execution_count": 83,
   "id": "9da0f5fb",
   "metadata": {},
   "outputs": [
    {
     "name": "stderr",
     "output_type": "stream",
     "text": [
      "C:\\Users\\Boyko Borisov\\AppData\\Roaming\\Python\\Python36\\site-packages\\sklearn\\neural_network\\_multilayer_perceptron.py:617: ConvergenceWarning: Stochastic Optimizer: Maximum iterations (1000) reached and the optimization hasn't converged yet.\n",
      "  % self.max_iter, ConvergenceWarning)\n"
     ]
    },
    {
     "name": "stdout",
     "output_type": "stream",
     "text": [
      "R-squared score:  0.9300436932243467\n",
      "RMSLE score:  -0.4905304039912706\n",
      "R-squared score with log:  0.9277864701742065\n",
      "RMSLE score with log:  -0.31927329751988504\n",
      "R-squared score with sqrt:  0.9411492031267689\n",
      "RMSLE score with sqrt:  -0.3237402400053501\n"
     ]
    }
   ],
   "source": [
    "score_regressor(mlp80_20, train_cycles_scaled)"
   ]
  },
  {
   "cell_type": "code",
   "execution_count": 84,
   "id": "77accb83",
   "metadata": {},
   "outputs": [
    {
     "name": "stderr",
     "output_type": "stream",
     "text": [
      "C:\\Users\\Boyko Borisov\\AppData\\Roaming\\Python\\Python36\\site-packages\\sklearn\\neural_network\\_multilayer_perceptron.py:617: ConvergenceWarning: Stochastic Optimizer: Maximum iterations (1000) reached and the optimization hasn't converged yet.\n",
      "  % self.max_iter, ConvergenceWarning)\n"
     ]
    },
    {
     "name": "stdout",
     "output_type": "stream",
     "text": [
      "R-squared score:  0.9151572489010042\n",
      "RMSLE score:  -0.5828248320087993\n",
      "R-squared score with log:  0.9293916470564773\n",
      "RMSLE score with log:  -0.3290790790409662\n",
      "R-squared score with sqrt:  0.9309172691153489\n",
      "RMSLE score with sqrt:  -0.35163862107577765\n"
     ]
    }
   ],
   "source": [
    "score_regressor(mlp80_20, train_binned_scaled)"
   ]
  },
  {
   "cell_type": "markdown",
   "id": "283e6b98",
   "metadata": {},
   "source": [
    "Изглежда сякаш и от трите представяния успява да извлече полезна информация."
   ]
  },
  {
   "cell_type": "markdown",
   "id": "64205bab",
   "metadata": {},
   "source": [
    "Да разгледаме какви параметри може да променим. Едно от нещата, което може да пробваме, е да променим размера на междинните слоеве. Да пробваме няколко варианта и да видим как се справя алгоритъма върху цикличното представяне:"
   ]
  },
  {
   "cell_type": "code",
   "execution_count": 85,
   "id": "dbab16a9",
   "metadata": {},
   "outputs": [],
   "source": [
    "mlp100 = MLPRegressor(100, max_iter = 500, activation='tanh')\n",
    "mlp80_20 = MLPRegressor((80, 20), max_iter = 500, activation='tanh')\n",
    "mlp80_40 = MLPRegressor((80, 40), max_iter = 500, activation='tanh')\n",
    "mlp200_20 = MLPRegressor((200, 20), max_iter = 500, activation='tanh')\n",
    "mlp200_40 = MLPRegressor((200, 40), max_iter = 500, activation='tanh')\n",
    "mlp200_40_20 = MLPRegressor((200, 40, 20), max_iter = 500, activation='tanh')"
   ]
  },
  {
   "cell_type": "code",
   "execution_count": 86,
   "id": "9e6e07ad",
   "metadata": {},
   "outputs": [
    {
     "name": "stderr",
     "output_type": "stream",
     "text": [
      "C:\\Users\\Boyko Borisov\\AppData\\Roaming\\Python\\Python36\\site-packages\\sklearn\\neural_network\\_multilayer_perceptron.py:617: ConvergenceWarning: Stochastic Optimizer: Maximum iterations (500) reached and the optimization hasn't converged yet.\n",
      "  % self.max_iter, ConvergenceWarning)\n"
     ]
    },
    {
     "name": "stdout",
     "output_type": "stream",
     "text": [
      "R-squared score:  0.9232521871866937\n",
      "RMSLE score:  -0.5618546037525836\n",
      "R-squared score with log:  0.8828650709773604\n",
      "RMSLE score with log:  -0.3531345564614608\n",
      "R-squared score with sqrt:  0.937239512318625\n",
      "RMSLE score with sqrt:  -0.3376873259887207\n"
     ]
    },
    {
     "name": "stderr",
     "output_type": "stream",
     "text": [
      "C:\\Users\\Boyko Borisov\\AppData\\Roaming\\Python\\Python36\\site-packages\\sklearn\\neural_network\\_multilayer_perceptron.py:617: ConvergenceWarning: Stochastic Optimizer: Maximum iterations (500) reached and the optimization hasn't converged yet.\n",
      "  % self.max_iter, ConvergenceWarning)\n"
     ]
    }
   ],
   "source": [
    "score_regressor(mlp100, train_cycles_scaled)"
   ]
  },
  {
   "cell_type": "code",
   "execution_count": 87,
   "id": "cc3abd9b",
   "metadata": {},
   "outputs": [
    {
     "name": "stderr",
     "output_type": "stream",
     "text": [
      "C:\\Users\\Boyko Borisov\\AppData\\Roaming\\Python\\Python36\\site-packages\\sklearn\\neural_network\\_multilayer_perceptron.py:617: ConvergenceWarning: Stochastic Optimizer: Maximum iterations (500) reached and the optimization hasn't converged yet.\n",
      "  % self.max_iter, ConvergenceWarning)\n"
     ]
    },
    {
     "name": "stdout",
     "output_type": "stream",
     "text": [
      "R-squared score:  0.7838557945467683\n",
      "RMSLE score:  -0.5493329828578322\n",
      "R-squared score with log:  0.9317609845583066\n",
      "RMSLE score with log:  -0.32292413636510037\n",
      "R-squared score with sqrt:  0.9435963695573233\n",
      "RMSLE score with sqrt:  -0.3190086519844446\n"
     ]
    },
    {
     "name": "stderr",
     "output_type": "stream",
     "text": [
      "C:\\Users\\Boyko Borisov\\AppData\\Roaming\\Python\\Python36\\site-packages\\sklearn\\neural_network\\_multilayer_perceptron.py:617: ConvergenceWarning: Stochastic Optimizer: Maximum iterations (500) reached and the optimization hasn't converged yet.\n",
      "  % self.max_iter, ConvergenceWarning)\n"
     ]
    }
   ],
   "source": [
    "score_regressor(mlp80_20, train_cycles_scaled)"
   ]
  },
  {
   "cell_type": "code",
   "execution_count": 88,
   "id": "07a661e6",
   "metadata": {},
   "outputs": [
    {
     "name": "stderr",
     "output_type": "stream",
     "text": [
      "C:\\Users\\Boyko Borisov\\AppData\\Roaming\\Python\\Python36\\site-packages\\sklearn\\neural_network\\_multilayer_perceptron.py:617: ConvergenceWarning: Stochastic Optimizer: Maximum iterations (500) reached and the optimization hasn't converged yet.\n",
      "  % self.max_iter, ConvergenceWarning)\n"
     ]
    },
    {
     "name": "stdout",
     "output_type": "stream",
     "text": [
      "R-squared score:  0.9262918385483676\n",
      "RMSLE score:  -0.45519110939996704\n",
      "R-squared score with log:  0.9106243424417682\n",
      "RMSLE score with log:  -0.33802663456843907\n",
      "R-squared score with sqrt:  0.941929737686101\n",
      "RMSLE score with sqrt:  -0.3215996254657382\n"
     ]
    }
   ],
   "source": [
    "score_regressor(mlp80_40, train_cycles_scaled)"
   ]
  },
  {
   "cell_type": "code",
   "execution_count": 89,
   "id": "d1061cf5",
   "metadata": {},
   "outputs": [
    {
     "name": "stderr",
     "output_type": "stream",
     "text": [
      "C:\\Users\\Boyko Borisov\\AppData\\Roaming\\Python\\Python36\\site-packages\\sklearn\\neural_network\\_multilayer_perceptron.py:617: ConvergenceWarning: Stochastic Optimizer: Maximum iterations (500) reached and the optimization hasn't converged yet.\n",
      "  % self.max_iter, ConvergenceWarning)\n"
     ]
    },
    {
     "name": "stdout",
     "output_type": "stream",
     "text": [
      "R-squared score:  0.7683116182066324\n",
      "RMSLE score:  -0.529571944932223\n",
      "R-squared score with log:  0.9226099525174553\n",
      "RMSLE score with log:  -0.32831006218817\n",
      "R-squared score with sqrt:  0.9400956291271251\n",
      "RMSLE score with sqrt:  -0.3312025742124515\n"
     ]
    }
   ],
   "source": [
    "score_regressor(mlp200_20, train_cycles_scaled)"
   ]
  },
  {
   "cell_type": "code",
   "execution_count": 90,
   "id": "160c55fb",
   "metadata": {},
   "outputs": [
    {
     "name": "stderr",
     "output_type": "stream",
     "text": [
      "C:\\Users\\Boyko Borisov\\AppData\\Roaming\\Python\\Python36\\site-packages\\sklearn\\neural_network\\_multilayer_perceptron.py:617: ConvergenceWarning: Stochastic Optimizer: Maximum iterations (500) reached and the optimization hasn't converged yet.\n",
      "  % self.max_iter, ConvergenceWarning)\n"
     ]
    },
    {
     "name": "stdout",
     "output_type": "stream",
     "text": [
      "R-squared score:  0.9225994351071231\n",
      "RMSLE score:  -0.5016297286987262\n",
      "R-squared score with log:  0.9251665216387509\n",
      "RMSLE score with log:  -0.3208582875282093\n",
      "R-squared score with sqrt:  0.9420364501821598\n",
      "RMSLE score with sqrt:  -0.32542619309985366\n"
     ]
    }
   ],
   "source": [
    "score_regressor(mlp200_40, train_cycles_scaled)"
   ]
  },
  {
   "cell_type": "code",
   "execution_count": 91,
   "id": "f965fcd9",
   "metadata": {},
   "outputs": [
    {
     "name": "stderr",
     "output_type": "stream",
     "text": [
      "C:\\Users\\Boyko Borisov\\AppData\\Roaming\\Python\\Python36\\site-packages\\sklearn\\neural_network\\_multilayer_perceptron.py:617: ConvergenceWarning: Stochastic Optimizer: Maximum iterations (500) reached and the optimization hasn't converged yet.\n",
      "  % self.max_iter, ConvergenceWarning)\n"
     ]
    },
    {
     "name": "stdout",
     "output_type": "stream",
     "text": [
      "R-squared score:  0.7081267759234438\n",
      "RMSLE score:  -0.44030895304313494\n",
      "R-squared score with log:  0.928247092577416\n",
      "RMSLE score with log:  -0.3199077000869825\n",
      "R-squared score with sqrt:  0.9373118491847517\n",
      "RMSLE score with sqrt:  -0.3440416666246358\n"
     ]
    }
   ],
   "source": [
    "score_regressor(mlp200_40_20, train_cycles_scaled)"
   ]
  },
  {
   "cell_type": "markdown",
   "id": "28660fdf",
   "metadata": {},
   "source": [
    "Виждаме, че всичките достигат до добри резултати. Изглежда обаче мрежата с параметри (80,40) и подобните на нея дават малко по-добри резултати. Съответно ще пробваме мрежи с близка до тази структура."
   ]
  },
  {
   "cell_type": "markdown",
   "id": "fc6784c1",
   "metadata": {},
   "source": [
    "Други параметри, които са интересни, са активационната функция `activation` и параметъра на регуларизация `alpha`. Ще вкараме вариации на тях в Grid Search, за да видим дали ще намерим добър резултат."
   ]
  },
  {
   "cell_type": "code",
   "execution_count": 92,
   "id": "2e0e53bc",
   "metadata": {},
   "outputs": [],
   "source": [
    "mlpRegressor_parameters = {\n",
    "    'regressor': [MLPRegressor()],\n",
    "    'preprocessing': [MinMaxScaler(), StandardScaler()],\n",
    "    'regressor__max_iter': [500],\n",
    "    'regressor__hidden_layer_sizes': [(80,40), (150,60), (150, 60, 30)],\n",
    "    'regressor__activation': ['logistic', 'tanh', 'relu'],\n",
    "    'regressor__alpha': [0.0001, 0.1] # Стойността по подразбиране е 0.0001\n",
    "}\n",
    "\n",
    "grid_01.append(mlpRegressor_parameters)\n",
    "grid_cycles.append(mlpRegressor_parameters)\n",
    "grid_binned.append(mlpRegressor_parameters)"
   ]
  },
  {
   "cell_type": "markdown",
   "id": "a5ba3c3a",
   "metadata": {},
   "source": [
    "## Намиране на най-добрия модел\n",
    "\n",
    "Сега е време да изпробваме намерените до този момент модели.\n",
    "\n",
    "Важно нещо, което може да забележим, е, че всичките модели се представят значително по-зле върху чистата целева стойност `target`, отколкото върху `target_log` и `target_sqrt` спрямо метриката RMSLE. Явно прекарването през логаритъм или корен квадратен сериозно помага в това отношение. Поради тази причина няма да разглеждаме чистата целева стойност, а само прекараната през логаритъм и корен квадратен.\n",
    "\n",
    "Освен това имаме обещаващи резултати върху всяко от трите представяния `train_01`, `train_cycles` и `train_binned`. Ще изпробваме и трите от тях.\n",
    "\n",
    "Сумарно имаме 3 представяния на характеристиките и 2 представяния на целевата стойност. Тоест имаме 6 комбинации, които трябва да пробваме.\n",
    "\n",
    "Като оценка на моделите ще използваме R-squared, която е стандартна, и RMSLE, тъй като това е оценката, която се иска в заданието в Kaggle. Самата оценка ще се смята чрез кросвалидация с размер 4. Ще използваме и `n_jobs = 4` за паралелизъм, понеже понеже на моя компютър има 4 ядра."
   ]
  },
  {
   "cell_type": "code",
   "execution_count": 93,
   "id": "cfcb9a18",
   "metadata": {},
   "outputs": [],
   "source": [
    "from sklearn.model_selection import GridSearchCV\n",
    "from sklearn.pipeline import Pipeline\n",
    "\n",
    "pipe = Pipeline([('preprocessing', MinMaxScaler()), ('regressor', LinearRegression())])"
   ]
  },
  {
   "cell_type": "markdown",
   "id": "375bfec7",
   "metadata": {},
   "source": [
    "Освен това трябва да разбъркане данните предварително. Причината за това е, че `GridSearchCV` използва `KFold` за разделяне на данните за крос валидация, който има параметър `shuffle=False`, за да може всички тестове да са върху едно и също разделение на данните. Ако не направим предварително разбъркване, ще получим хронологично разделение на данните на 4 групи, което не е подходящо за обучение на моделите."
   ]
  },
  {
   "cell_type": "code",
   "execution_count": 94,
   "id": "2202fcf2",
   "metadata": {},
   "outputs": [],
   "source": [
    "from sklearn.utils import shuffle\n",
    "\n",
    "train_01_shuffled, train_cycles_shuffled, train_binned_shuffled, target_log_shuffled, target_sqrt_shuffled = shuffle(\n",
    "    train_01, train_cycles, train_binned, target_log, target_sqrt, random_state = 0)"
   ]
  },
  {
   "cell_type": "markdown",
   "id": "92b3f567",
   "metadata": {},
   "source": [
    "Освен това ще искаме `Dataframe` да показва дълги низове."
   ]
  },
  {
   "cell_type": "code",
   "execution_count": 95,
   "id": "8008766d",
   "metadata": {},
   "outputs": [],
   "source": [
    "pd.options.display.max_colwidth = 500"
   ]
  },
  {
   "cell_type": "markdown",
   "id": "604ab21d",
   "metadata": {},
   "source": [
    "### Тестване на трансформирането в интервали [0,1]\n",
    "\n",
    "Тук използваме характеристиките `train_01_shuffled` и търсим върху параметрите `grid_01`."
   ]
  },
  {
   "cell_type": "markdown",
   "id": "cae31bca",
   "metadata": {},
   "source": [
    "#### Тестване с логаритмуване на целевата стойност\n",
    "\n",
    "Да пробваме първо с логаритмуване на целевата стойност. Опитваме се да предскажем целевата стойност `target_log_shuffled`, а оценките се  дават с функциите `rmsle_log` и `r2_log`.\n",
    "\n",
    "Търсенето отнема около 40 минути.\n",
    "\n",
    "След намиране на резултата добавяме 2 допълнителни колони за вида на характеристиките и на целевата стойност, след което запаметяваме резултатите във файл, за да може да ги преизползваме при нужда."
   ]
  },
  {
   "cell_type": "code",
   "execution_count": 109,
   "id": "af4b23d1",
   "metadata": {},
   "outputs": [],
   "source": [
    "search_01_log = GridSearchCV(estimator=pipe, param_grid=grid_01, refit=False, scoring={\"RMSLE\" : rmsle_log, \"R-squared\" : r2_log}, cv=4, n_jobs=4)\n",
    "search_01_log.fit(train_01_shuffled, target_log_shuffled)\n",
    "\n",
    "results_01_log = pd.DataFrame(search_01_log.cv_results_)\n",
    "results_01_log[\"features_transform\"] = \"[0,1]\"\n",
    "results_01_log[\"target_transform\"] = \"log\"\n",
    "\n",
    "results_01_log.to_csv(\"data/Search Results/01_log.csv\", index=False)"
   ]
  },
  {
   "cell_type": "markdown",
   "id": "3e915176",
   "metadata": {},
   "source": [
    "Да видим кои са 8-те най-добри намерени модел спрямо RMSLE оценката:"
   ]
  },
  {
   "cell_type": "code",
   "execution_count": 114,
   "id": "8dc43406",
   "metadata": {},
   "outputs": [
    {
     "data": {
      "text/html": [
       "<div>\n",
       "<style scoped>\n",
       "    .dataframe tbody tr th:only-of-type {\n",
       "        vertical-align: middle;\n",
       "    }\n",
       "\n",
       "    .dataframe tbody tr th {\n",
       "        vertical-align: top;\n",
       "    }\n",
       "\n",
       "    .dataframe thead th {\n",
       "        text-align: right;\n",
       "    }\n",
       "</style>\n",
       "<table border=\"1\" class=\"dataframe\">\n",
       "  <thead>\n",
       "    <tr style=\"text-align: right;\">\n",
       "      <th></th>\n",
       "      <th>mean_test_RMSLE</th>\n",
       "      <th>params</th>\n",
       "    </tr>\n",
       "  </thead>\n",
       "  <tbody>\n",
       "    <tr>\n",
       "      <th>115</th>\n",
       "      <td>-0.313533</td>\n",
       "      <td>{'preprocessing': StandardScaler(), 'regressor': MLPRegressor(), 'regressor__activation': 'tanh', 'regressor__alpha': 0.0001, 'regressor__hidden_layer_sizes': (150, 60), 'regressor__max_iter': 500}</td>\n",
       "    </tr>\n",
       "    <tr>\n",
       "      <th>109</th>\n",
       "      <td>-0.314640</td>\n",
       "      <td>{'preprocessing': StandardScaler(), 'regressor': MLPRegressor(), 'regressor__activation': 'logistic', 'regressor__alpha': 0.0001, 'regressor__hidden_layer_sizes': (150, 60), 'regressor__max_iter': 500}</td>\n",
       "    </tr>\n",
       "    <tr>\n",
       "      <th>110</th>\n",
       "      <td>-0.315304</td>\n",
       "      <td>{'preprocessing': StandardScaler(), 'regressor': MLPRegressor(), 'regressor__activation': 'logistic', 'regressor__alpha': 0.0001, 'regressor__hidden_layer_sizes': (150, 60, 30), 'regressor__max_iter': 500}</td>\n",
       "    </tr>\n",
       "    <tr>\n",
       "      <th>108</th>\n",
       "      <td>-0.316427</td>\n",
       "      <td>{'preprocessing': StandardScaler(), 'regressor': MLPRegressor(), 'regressor__activation': 'logistic', 'regressor__alpha': 0.0001, 'regressor__hidden_layer_sizes': (80, 40), 'regressor__max_iter': 500}</td>\n",
       "    </tr>\n",
       "    <tr>\n",
       "      <th>114</th>\n",
       "      <td>-0.316765</td>\n",
       "      <td>{'preprocessing': StandardScaler(), 'regressor': MLPRegressor(), 'regressor__activation': 'tanh', 'regressor__alpha': 0.0001, 'regressor__hidden_layer_sizes': (80, 40), 'regressor__max_iter': 500}</td>\n",
       "    </tr>\n",
       "    <tr>\n",
       "      <th>98</th>\n",
       "      <td>-0.316928</td>\n",
       "      <td>{'preprocessing': MinMaxScaler(), 'regressor': MLPRegressor(), 'regressor__activation': 'tanh', 'regressor__alpha': 0.0001, 'regressor__hidden_layer_sizes': (150, 60, 30), 'regressor__max_iter': 500}</td>\n",
       "    </tr>\n",
       "    <tr>\n",
       "      <th>117</th>\n",
       "      <td>-0.317090</td>\n",
       "      <td>{'preprocessing': StandardScaler(), 'regressor': MLPRegressor(), 'regressor__activation': 'tanh', 'regressor__alpha': 0.1, 'regressor__hidden_layer_sizes': (80, 40), 'regressor__max_iter': 500}</td>\n",
       "    </tr>\n",
       "    <tr>\n",
       "      <th>97</th>\n",
       "      <td>-0.317268</td>\n",
       "      <td>{'preprocessing': MinMaxScaler(), 'regressor': MLPRegressor(), 'regressor__activation': 'tanh', 'regressor__alpha': 0.0001, 'regressor__hidden_layer_sizes': (150, 60), 'regressor__max_iter': 500}</td>\n",
       "    </tr>\n",
       "  </tbody>\n",
       "</table>\n",
       "</div>"
      ],
      "text/plain": [
       "     mean_test_RMSLE  \\\n",
       "115        -0.313533   \n",
       "109        -0.314640   \n",
       "110        -0.315304   \n",
       "108        -0.316427   \n",
       "114        -0.316765   \n",
       "98         -0.316928   \n",
       "117        -0.317090   \n",
       "97         -0.317268   \n",
       "\n",
       "                                                                                                                                                                                                            params  \n",
       "115          {'preprocessing': StandardScaler(), 'regressor': MLPRegressor(), 'regressor__activation': 'tanh', 'regressor__alpha': 0.0001, 'regressor__hidden_layer_sizes': (150, 60), 'regressor__max_iter': 500}  \n",
       "109      {'preprocessing': StandardScaler(), 'regressor': MLPRegressor(), 'regressor__activation': 'logistic', 'regressor__alpha': 0.0001, 'regressor__hidden_layer_sizes': (150, 60), 'regressor__max_iter': 500}  \n",
       "110  {'preprocessing': StandardScaler(), 'regressor': MLPRegressor(), 'regressor__activation': 'logistic', 'regressor__alpha': 0.0001, 'regressor__hidden_layer_sizes': (150, 60, 30), 'regressor__max_iter': 500}  \n",
       "108       {'preprocessing': StandardScaler(), 'regressor': MLPRegressor(), 'regressor__activation': 'logistic', 'regressor__alpha': 0.0001, 'regressor__hidden_layer_sizes': (80, 40), 'regressor__max_iter': 500}  \n",
       "114           {'preprocessing': StandardScaler(), 'regressor': MLPRegressor(), 'regressor__activation': 'tanh', 'regressor__alpha': 0.0001, 'regressor__hidden_layer_sizes': (80, 40), 'regressor__max_iter': 500}  \n",
       "98         {'preprocessing': MinMaxScaler(), 'regressor': MLPRegressor(), 'regressor__activation': 'tanh', 'regressor__alpha': 0.0001, 'regressor__hidden_layer_sizes': (150, 60, 30), 'regressor__max_iter': 500}  \n",
       "117              {'preprocessing': StandardScaler(), 'regressor': MLPRegressor(), 'regressor__activation': 'tanh', 'regressor__alpha': 0.1, 'regressor__hidden_layer_sizes': (80, 40), 'regressor__max_iter': 500}  \n",
       "97             {'preprocessing': MinMaxScaler(), 'regressor': MLPRegressor(), 'regressor__activation': 'tanh', 'regressor__alpha': 0.0001, 'regressor__hidden_layer_sizes': (150, 60), 'regressor__max_iter': 500}  "
      ]
     },
     "execution_count": 114,
     "metadata": {},
     "output_type": "execute_result"
    }
   ],
   "source": [
    "results_01_log.sort_values(by=[\"mean_test_RMSLE\"], ascending=False)[[\"mean_test_RMSLE\", \"params\"]].head(8)"
   ]
  },
  {
   "cell_type": "markdown",
   "id": "14561095",
   "metadata": {},
   "source": [
    "Да погледнем как е разпределена оценката за различните видове класификатори:"
   ]
  },
  {
   "cell_type": "code",
   "execution_count": 115,
   "id": "846bb9b2",
   "metadata": {},
   "outputs": [
    {
     "data": {
      "text/plain": [
       "<seaborn.axisgrid.FacetGrid at 0x1aad443a080>"
      ]
     },
     "execution_count": 115,
     "metadata": {},
     "output_type": "execute_result"
    },
    {
     "data": {
      "image/png": "[encoded data removed]",
      "text/plain": [
       "<Figure size 524.875x360 with 1 Axes>"
      ]
     },
     "metadata": {
      "needs_background": "light"
     },
     "output_type": "display_data"
    }
   ],
   "source": [
    "sns.displot(results_01_log[[\"mean_test_RMSLE\", \"param_regressor\"]], x=\"mean_test_RMSLE\", hue=\"param_regressor\", kind=\"kde\", bw_adjust = 0.1, common_norm = False)"
   ]
  },
  {
   "cell_type": "markdown",
   "id": "07b729e2",
   "metadata": {},
   "source": [
    "Нека да проверим как стоят нещата и с оценката R-squared:"
   ]
  },
  {
   "cell_type": "code",
   "execution_count": 116,
   "id": "299d35e1",
   "metadata": {},
   "outputs": [
    {
     "data": {
      "text/html": [
       "<div>\n",
       "<style scoped>\n",
       "    .dataframe tbody tr th:only-of-type {\n",
       "        vertical-align: middle;\n",
       "    }\n",
       "\n",
       "    .dataframe tbody tr th {\n",
       "        vertical-align: top;\n",
       "    }\n",
       "\n",
       "    .dataframe thead th {\n",
       "        text-align: right;\n",
       "    }\n",
       "</style>\n",
       "<table border=\"1\" class=\"dataframe\">\n",
       "  <thead>\n",
       "    <tr style=\"text-align: right;\">\n",
       "      <th></th>\n",
       "      <th>mean_test_R-squared</th>\n",
       "      <th>params</th>\n",
       "    </tr>\n",
       "  </thead>\n",
       "  <tbody>\n",
       "    <tr>\n",
       "      <th>80</th>\n",
       "      <td>0.939526</td>\n",
       "      <td>{'preprocessing': MinMaxScaler(), 'regressor': RandomForestRegressor(), 'regressor__max_depth': 100, 'regressor__min_samples_split': 2}</td>\n",
       "    </tr>\n",
       "    <tr>\n",
       "      <th>61</th>\n",
       "      <td>0.939256</td>\n",
       "      <td>{'preprocessing': MinMaxScaler(), 'regressor': RandomForestRegressor(), 'regressor__max_depth': 50, 'regressor__min_samples_split': 4}</td>\n",
       "    </tr>\n",
       "    <tr>\n",
       "      <th>51</th>\n",
       "      <td>0.939251</td>\n",
       "      <td>{'preprocessing': MinMaxScaler(), 'regressor': RandomForestRegressor(), 'regressor__max_depth': 40, 'regressor__min_samples_split': 4}</td>\n",
       "    </tr>\n",
       "    <tr>\n",
       "      <th>50</th>\n",
       "      <td>0.939245</td>\n",
       "      <td>{'preprocessing': MinMaxScaler(), 'regressor': RandomForestRegressor(), 'regressor__max_depth': 40, 'regressor__min_samples_split': 2}</td>\n",
       "    </tr>\n",
       "    <tr>\n",
       "      <th>60</th>\n",
       "      <td>0.939182</td>\n",
       "      <td>{'preprocessing': MinMaxScaler(), 'regressor': RandomForestRegressor(), 'regressor__max_depth': 50, 'regressor__min_samples_split': 2}</td>\n",
       "    </tr>\n",
       "    <tr>\n",
       "      <th>70</th>\n",
       "      <td>0.939098</td>\n",
       "      <td>{'preprocessing': MinMaxScaler(), 'regressor': RandomForestRegressor(), 'regressor__max_depth': 70, 'regressor__min_samples_split': 2}</td>\n",
       "    </tr>\n",
       "    <tr>\n",
       "      <th>30</th>\n",
       "      <td>0.938959</td>\n",
       "      <td>{'preprocessing': MinMaxScaler(), 'regressor': RandomForestRegressor(), 'regressor__max_depth': 20, 'regressor__min_samples_split': 2}</td>\n",
       "    </tr>\n",
       "    <tr>\n",
       "      <th>40</th>\n",
       "      <td>0.938721</td>\n",
       "      <td>{'preprocessing': MinMaxScaler(), 'regressor': RandomForestRegressor(), 'regressor__max_depth': 30, 'regressor__min_samples_split': 2}</td>\n",
       "    </tr>\n",
       "  </tbody>\n",
       "</table>\n",
       "</div>"
      ],
      "text/plain": [
       "    mean_test_R-squared  \\\n",
       "80             0.939526   \n",
       "61             0.939256   \n",
       "51             0.939251   \n",
       "50             0.939245   \n",
       "60             0.939182   \n",
       "70             0.939098   \n",
       "30             0.938959   \n",
       "40             0.938721   \n",
       "\n",
       "                                                                                                                                     params  \n",
       "80  {'preprocessing': MinMaxScaler(), 'regressor': RandomForestRegressor(), 'regressor__max_depth': 100, 'regressor__min_samples_split': 2}  \n",
       "61   {'preprocessing': MinMaxScaler(), 'regressor': RandomForestRegressor(), 'regressor__max_depth': 50, 'regressor__min_samples_split': 4}  \n",
       "51   {'preprocessing': MinMaxScaler(), 'regressor': RandomForestRegressor(), 'regressor__max_depth': 40, 'regressor__min_samples_split': 4}  \n",
       "50   {'preprocessing': MinMaxScaler(), 'regressor': RandomForestRegressor(), 'regressor__max_depth': 40, 'regressor__min_samples_split': 2}  \n",
       "60   {'preprocessing': MinMaxScaler(), 'regressor': RandomForestRegressor(), 'regressor__max_depth': 50, 'regressor__min_samples_split': 2}  \n",
       "70   {'preprocessing': MinMaxScaler(), 'regressor': RandomForestRegressor(), 'regressor__max_depth': 70, 'regressor__min_samples_split': 2}  \n",
       "30   {'preprocessing': MinMaxScaler(), 'regressor': RandomForestRegressor(), 'regressor__max_depth': 20, 'regressor__min_samples_split': 2}  \n",
       "40   {'preprocessing': MinMaxScaler(), 'regressor': RandomForestRegressor(), 'regressor__max_depth': 30, 'regressor__min_samples_split': 2}  "
      ]
     },
     "execution_count": 116,
     "metadata": {},
     "output_type": "execute_result"
    }
   ],
   "source": [
    "results_01_log.sort_values(by=[\"mean_test_R-squared\"], ascending=False)[[\"mean_test_R-squared\", \"params\"]].head(8)"
   ]
  },
  {
   "cell_type": "code",
   "execution_count": 117,
   "id": "3532a118",
   "metadata": {},
   "outputs": [
    {
     "data": {
      "text/plain": [
       "<seaborn.axisgrid.FacetGrid at 0x1aad4332518>"
      ]
     },
     "execution_count": 117,
     "metadata": {},
     "output_type": "execute_result"
    },
    {
     "data": {
      "image/png": "[encoded data removed]",
      "text/plain": [
       "<Figure size 524.875x360 with 1 Axes>"
      ]
     },
     "metadata": {
      "needs_background": "light"
     },
     "output_type": "display_data"
    }
   ],
   "source": [
    "sns.displot(results_01_log[[\"mean_test_R-squared\", \"param_regressor\"]], x=\"mean_test_R-squared\", hue=\"param_regressor\", kind=\"kde\", bw_adjust = 0.1, common_norm = False)"
   ]
  },
  {
   "cell_type": "markdown",
   "id": "20df5b90",
   "metadata": {},
   "source": [
    "Изглежда, че както гората, така и невронната мрежа дават добри резултати и върху двете оценки. Все пак невронната мрежа има малка преднина за RMSLE, докато гората има доста малка преднина за R-squared."
   ]
  },
  {
   "cell_type": "markdown",
   "id": "b3e5d1e9",
   "metadata": {},
   "source": [
    "#### Тестване с коренуване на целевата стойност\n",
    "\n",
    "Да пробваме първо с логаритмуване на целевата стойност. Опитваме се да предскажем целевата стойност `target_sqrt_shuffled`, а оценките се  дават с функциите `rmsle_sqrt` и `r2_sqrt`.\n",
    "\n",
    "Търсенето отнема около 40 минути.\n",
    "\n",
    "След това правим същите операции както по-горе."
   ]
  },
  {
   "cell_type": "code",
   "execution_count": 96,
   "id": "568f08ed",
   "metadata": {},
   "outputs": [],
   "source": [
    "search_01_sqrt = GridSearchCV(estimator=pipe, param_grid=grid_01, refit=False, scoring={\"RMSLE\" : rmsle_sqrt, \"R-squared\" : r2_sqrt}, cv=4, n_jobs=4)\n",
    "search_01_sqrt.fit(train_01_shuffled, target_sqrt_shuffled)\n",
    "\n",
    "results_01_sqrt = pd.DataFrame(search_01_sqrt.cv_results_)\n",
    "results_01_sqrt[\"features_transform\"] = \"[0,1]\"\n",
    "results_01_sqrt[\"target_transform\"] = \"sqrt\"\n",
    "\n",
    "results_01_sqrt.to_csv(\"data/Search Results/01_sqrt.csv\", index=False)"
   ]
  },
  {
   "cell_type": "markdown",
   "id": "12ec84c5",
   "metadata": {},
   "source": [
    "Да видим кои са 8-те най-добри намерени модел спрямо RMSLE оценката:"
   ]
  },
  {
   "cell_type": "code",
   "execution_count": 97,
   "id": "8fce9264",
   "metadata": {},
   "outputs": [
    {
     "data": {
      "text/html": [
       "<div>\n",
       "<style scoped>\n",
       "    .dataframe tbody tr th:only-of-type {\n",
       "        vertical-align: middle;\n",
       "    }\n",
       "\n",
       "    .dataframe tbody tr th {\n",
       "        vertical-align: top;\n",
       "    }\n",
       "\n",
       "    .dataframe thead th {\n",
       "        text-align: right;\n",
       "    }\n",
       "</style>\n",
       "<table border=\"1\" class=\"dataframe\">\n",
       "  <thead>\n",
       "    <tr style=\"text-align: right;\">\n",
       "      <th></th>\n",
       "      <th>mean_test_RMSLE</th>\n",
       "      <th>params</th>\n",
       "    </tr>\n",
       "  </thead>\n",
       "  <tbody>\n",
       "    <tr>\n",
       "      <th>119</th>\n",
       "      <td>-0.310694</td>\n",
       "      <td>{'preprocessing': StandardScaler(), 'regressor': MLPRegressor(), 'regressor__activation': 'tanh', 'regressor__alpha': 0.1, 'regressor__hidden_layer_sizes': (150, 60, 30), 'regressor__max_iter': 500}</td>\n",
       "    </tr>\n",
       "    <tr>\n",
       "      <th>110</th>\n",
       "      <td>-0.312389</td>\n",
       "      <td>{'preprocessing': StandardScaler(), 'regressor': MLPRegressor(), 'regressor__activation': 'logistic', 'regressor__alpha': 0.0001, 'regressor__hidden_layer_sizes': (150, 60, 30), 'regressor__max_iter': 500}</td>\n",
       "    </tr>\n",
       "    <tr>\n",
       "      <th>101</th>\n",
       "      <td>-0.313416</td>\n",
       "      <td>{'preprocessing': MinMaxScaler(), 'regressor': MLPRegressor(), 'regressor__activation': 'tanh', 'regressor__alpha': 0.1, 'regressor__hidden_layer_sizes': (150, 60, 30), 'regressor__max_iter': 500}</td>\n",
       "    </tr>\n",
       "    <tr>\n",
       "      <th>113</th>\n",
       "      <td>-0.317583</td>\n",
       "      <td>{'preprocessing': StandardScaler(), 'regressor': MLPRegressor(), 'regressor__activation': 'logistic', 'regressor__alpha': 0.1, 'regressor__hidden_layer_sizes': (150, 60, 30), 'regressor__max_iter': 500}</td>\n",
       "    </tr>\n",
       "    <tr>\n",
       "      <th>98</th>\n",
       "      <td>-0.318740</td>\n",
       "      <td>{'preprocessing': MinMaxScaler(), 'regressor': MLPRegressor(), 'regressor__activation': 'tanh', 'regressor__alpha': 0.0001, 'regressor__hidden_layer_sizes': (150, 60, 30), 'regressor__max_iter': 500}</td>\n",
       "    </tr>\n",
       "    <tr>\n",
       "      <th>116</th>\n",
       "      <td>-0.319938</td>\n",
       "      <td>{'preprocessing': StandardScaler(), 'regressor': MLPRegressor(), 'regressor__activation': 'tanh', 'regressor__alpha': 0.0001, 'regressor__hidden_layer_sizes': (150, 60, 30), 'regressor__max_iter': 500}</td>\n",
       "    </tr>\n",
       "    <tr>\n",
       "      <th>109</th>\n",
       "      <td>-0.320074</td>\n",
       "      <td>{'preprocessing': StandardScaler(), 'regressor': MLPRegressor(), 'regressor__activation': 'logistic', 'regressor__alpha': 0.0001, 'regressor__hidden_layer_sizes': (150, 60), 'regressor__max_iter': 500}</td>\n",
       "    </tr>\n",
       "    <tr>\n",
       "      <th>117</th>\n",
       "      <td>-0.322535</td>\n",
       "      <td>{'preprocessing': StandardScaler(), 'regressor': MLPRegressor(), 'regressor__activation': 'tanh', 'regressor__alpha': 0.1, 'regressor__hidden_layer_sizes': (80, 40), 'regressor__max_iter': 500}</td>\n",
       "    </tr>\n",
       "  </tbody>\n",
       "</table>\n",
       "</div>"
      ],
      "text/plain": [
       "     mean_test_RMSLE  \\\n",
       "119        -0.310694   \n",
       "110        -0.312389   \n",
       "101        -0.313416   \n",
       "113        -0.317583   \n",
       "98         -0.318740   \n",
       "116        -0.319938   \n",
       "109        -0.320074   \n",
       "117        -0.322535   \n",
       "\n",
       "                                                                                                                                                                                                            params  \n",
       "119         {'preprocessing': StandardScaler(), 'regressor': MLPRegressor(), 'regressor__activation': 'tanh', 'regressor__alpha': 0.1, 'regressor__hidden_layer_sizes': (150, 60, 30), 'regressor__max_iter': 500}  \n",
       "110  {'preprocessing': StandardScaler(), 'regressor': MLPRegressor(), 'regressor__activation': 'logistic', 'regressor__alpha': 0.0001, 'regressor__hidden_layer_sizes': (150, 60, 30), 'regressor__max_iter': 500}  \n",
       "101           {'preprocessing': MinMaxScaler(), 'regressor': MLPRegressor(), 'regressor__activation': 'tanh', 'regressor__alpha': 0.1, 'regressor__hidden_layer_sizes': (150, 60, 30), 'regressor__max_iter': 500}  \n",
       "113     {'preprocessing': StandardScaler(), 'regressor': MLPRegressor(), 'regressor__activation': 'logistic', 'regressor__alpha': 0.1, 'regressor__hidden_layer_sizes': (150, 60, 30), 'regressor__max_iter': 500}  \n",
       "98         {'preprocessing': MinMaxScaler(), 'regressor': MLPRegressor(), 'regressor__activation': 'tanh', 'regressor__alpha': 0.0001, 'regressor__hidden_layer_sizes': (150, 60, 30), 'regressor__max_iter': 500}  \n",
       "116      {'preprocessing': StandardScaler(), 'regressor': MLPRegressor(), 'regressor__activation': 'tanh', 'regressor__alpha': 0.0001, 'regressor__hidden_layer_sizes': (150, 60, 30), 'regressor__max_iter': 500}  \n",
       "109      {'preprocessing': StandardScaler(), 'regressor': MLPRegressor(), 'regressor__activation': 'logistic', 'regressor__alpha': 0.0001, 'regressor__hidden_layer_sizes': (150, 60), 'regressor__max_iter': 500}  \n",
       "117              {'preprocessing': StandardScaler(), 'regressor': MLPRegressor(), 'regressor__activation': 'tanh', 'regressor__alpha': 0.1, 'regressor__hidden_layer_sizes': (80, 40), 'regressor__max_iter': 500}  "
      ]
     },
     "execution_count": 97,
     "metadata": {},
     "output_type": "execute_result"
    }
   ],
   "source": [
    "results_01_sqrt.sort_values(by=[\"mean_test_RMSLE\"], ascending=False)[[\"mean_test_RMSLE\", \"params\"]].head(8)"
   ]
  },
  {
   "cell_type": "code",
   "execution_count": 98,
   "id": "6685daf9",
   "metadata": {},
   "outputs": [
    {
     "data": {
      "text/plain": [
       "<seaborn.axisgrid.FacetGrid at 0x21f14fb37b8>"
      ]
     },
     "execution_count": 98,
     "metadata": {},
     "output_type": "execute_result"
    },
    {
     "data": {
      "image/png": "[encoded data removed]",
      "text/plain": [
       "<Figure size 524.875x360 with 1 Axes>"
      ]
     },
     "metadata": {
      "needs_background": "light"
     },
     "output_type": "display_data"
    }
   ],
   "source": [
    "sns.displot(results_01_sqrt[[\"mean_test_RMSLE\", \"param_regressor\"]], x=\"mean_test_RMSLE\", hue=\"param_regressor\", kind=\"kde\", bw_adjust = 0.1, common_norm = False)"
   ]
  },
  {
   "cell_type": "markdown",
   "id": "30a4b676",
   "metadata": {},
   "source": [
    "И за R-squared оценката:"
   ]
  },
  {
   "cell_type": "code",
   "execution_count": 99,
   "id": "0fbdab76",
   "metadata": {},
   "outputs": [
    {
     "data": {
      "text/html": [
       "<div>\n",
       "<style scoped>\n",
       "    .dataframe tbody tr th:only-of-type {\n",
       "        vertical-align: middle;\n",
       "    }\n",
       "\n",
       "    .dataframe tbody tr th {\n",
       "        vertical-align: top;\n",
       "    }\n",
       "\n",
       "    .dataframe thead th {\n",
       "        text-align: right;\n",
       "    }\n",
       "</style>\n",
       "<table border=\"1\" class=\"dataframe\">\n",
       "  <thead>\n",
       "    <tr style=\"text-align: right;\">\n",
       "      <th></th>\n",
       "      <th>mean_test_R-squared</th>\n",
       "      <th>params</th>\n",
       "    </tr>\n",
       "  </thead>\n",
       "  <tbody>\n",
       "    <tr>\n",
       "      <th>117</th>\n",
       "      <td>0.945590</td>\n",
       "      <td>{'preprocessing': StandardScaler(), 'regressor': MLPRegressor(), 'regressor__activation': 'tanh', 'regressor__alpha': 0.1, 'regressor__hidden_layer_sizes': (80, 40), 'regressor__max_iter': 500}</td>\n",
       "    </tr>\n",
       "    <tr>\n",
       "      <th>110</th>\n",
       "      <td>0.945050</td>\n",
       "      <td>{'preprocessing': StandardScaler(), 'regressor': MLPRegressor(), 'regressor__activation': 'logistic', 'regressor__alpha': 0.0001, 'regressor__hidden_layer_sizes': (150, 60, 30), 'regressor__max_iter': 500}</td>\n",
       "    </tr>\n",
       "    <tr>\n",
       "      <th>98</th>\n",
       "      <td>0.944977</td>\n",
       "      <td>{'preprocessing': MinMaxScaler(), 'regressor': MLPRegressor(), 'regressor__activation': 'tanh', 'regressor__alpha': 0.0001, 'regressor__hidden_layer_sizes': (150, 60, 30), 'regressor__max_iter': 500}</td>\n",
       "    </tr>\n",
       "    <tr>\n",
       "      <th>118</th>\n",
       "      <td>0.944946</td>\n",
       "      <td>{'preprocessing': StandardScaler(), 'regressor': MLPRegressor(), 'regressor__activation': 'tanh', 'regressor__alpha': 0.1, 'regressor__hidden_layer_sizes': (150, 60), 'regressor__max_iter': 500}</td>\n",
       "    </tr>\n",
       "    <tr>\n",
       "      <th>114</th>\n",
       "      <td>0.944823</td>\n",
       "      <td>{'preprocessing': StandardScaler(), 'regressor': MLPRegressor(), 'regressor__activation': 'tanh', 'regressor__alpha': 0.0001, 'regressor__hidden_layer_sizes': (80, 40), 'regressor__max_iter': 500}</td>\n",
       "    </tr>\n",
       "    <tr>\n",
       "      <th>100</th>\n",
       "      <td>0.944444</td>\n",
       "      <td>{'preprocessing': MinMaxScaler(), 'regressor': MLPRegressor(), 'regressor__activation': 'tanh', 'regressor__alpha': 0.1, 'regressor__hidden_layer_sizes': (150, 60), 'regressor__max_iter': 500}</td>\n",
       "    </tr>\n",
       "    <tr>\n",
       "      <th>99</th>\n",
       "      <td>0.943824</td>\n",
       "      <td>{'preprocessing': MinMaxScaler(), 'regressor': MLPRegressor(), 'regressor__activation': 'tanh', 'regressor__alpha': 0.1, 'regressor__hidden_layer_sizes': (80, 40), 'regressor__max_iter': 500}</td>\n",
       "    </tr>\n",
       "    <tr>\n",
       "      <th>97</th>\n",
       "      <td>0.943767</td>\n",
       "      <td>{'preprocessing': MinMaxScaler(), 'regressor': MLPRegressor(), 'regressor__activation': 'tanh', 'regressor__alpha': 0.0001, 'regressor__hidden_layer_sizes': (150, 60), 'regressor__max_iter': 500}</td>\n",
       "    </tr>\n",
       "  </tbody>\n",
       "</table>\n",
       "</div>"
      ],
      "text/plain": [
       "     mean_test_R-squared  \\\n",
       "117             0.945590   \n",
       "110             0.945050   \n",
       "98              0.944977   \n",
       "118             0.944946   \n",
       "114             0.944823   \n",
       "100             0.944444   \n",
       "99              0.943824   \n",
       "97              0.943767   \n",
       "\n",
       "                                                                                                                                                                                                            params  \n",
       "117              {'preprocessing': StandardScaler(), 'regressor': MLPRegressor(), 'regressor__activation': 'tanh', 'regressor__alpha': 0.1, 'regressor__hidden_layer_sizes': (80, 40), 'regressor__max_iter': 500}  \n",
       "110  {'preprocessing': StandardScaler(), 'regressor': MLPRegressor(), 'regressor__activation': 'logistic', 'regressor__alpha': 0.0001, 'regressor__hidden_layer_sizes': (150, 60, 30), 'regressor__max_iter': 500}  \n",
       "98         {'preprocessing': MinMaxScaler(), 'regressor': MLPRegressor(), 'regressor__activation': 'tanh', 'regressor__alpha': 0.0001, 'regressor__hidden_layer_sizes': (150, 60, 30), 'regressor__max_iter': 500}  \n",
       "118             {'preprocessing': StandardScaler(), 'regressor': MLPRegressor(), 'regressor__activation': 'tanh', 'regressor__alpha': 0.1, 'regressor__hidden_layer_sizes': (150, 60), 'regressor__max_iter': 500}  \n",
       "114           {'preprocessing': StandardScaler(), 'regressor': MLPRegressor(), 'regressor__activation': 'tanh', 'regressor__alpha': 0.0001, 'regressor__hidden_layer_sizes': (80, 40), 'regressor__max_iter': 500}  \n",
       "100               {'preprocessing': MinMaxScaler(), 'regressor': MLPRegressor(), 'regressor__activation': 'tanh', 'regressor__alpha': 0.1, 'regressor__hidden_layer_sizes': (150, 60), 'regressor__max_iter': 500}  \n",
       "99                 {'preprocessing': MinMaxScaler(), 'regressor': MLPRegressor(), 'regressor__activation': 'tanh', 'regressor__alpha': 0.1, 'regressor__hidden_layer_sizes': (80, 40), 'regressor__max_iter': 500}  \n",
       "97             {'preprocessing': MinMaxScaler(), 'regressor': MLPRegressor(), 'regressor__activation': 'tanh', 'regressor__alpha': 0.0001, 'regressor__hidden_layer_sizes': (150, 60), 'regressor__max_iter': 500}  "
      ]
     },
     "execution_count": 99,
     "metadata": {},
     "output_type": "execute_result"
    }
   ],
   "source": [
    "results_01_sqrt.sort_values(by=[\"mean_test_R-squared\"], ascending=False)[[\"mean_test_R-squared\", \"params\"]].head(8)"
   ]
  },
  {
   "cell_type": "code",
   "execution_count": 100,
   "id": "94bc2394",
   "metadata": {},
   "outputs": [
    {
     "data": {
      "text/plain": [
       "<seaborn.axisgrid.FacetGrid at 0x21f14f2e630>"
      ]
     },
     "execution_count": 100,
     "metadata": {},
     "output_type": "execute_result"
    },
    {
     "data": {
      "image/png": "[encoded data removed]",
      "text/plain": [
       "<Figure size 524.875x360 with 1 Axes>"
      ]
     },
     "metadata": {
      "needs_background": "light"
     },
     "output_type": "display_data"
    }
   ],
   "source": [
    "sns.displot(results_01_sqrt[[\"mean_test_R-squared\", \"param_regressor\"]], x=\"mean_test_R-squared\", hue=\"param_regressor\", kind=\"kde\", bw_adjust = 0.1, common_norm = False)"
   ]
  },
  {
   "cell_type": "markdown",
   "id": "f631e939",
   "metadata": {},
   "source": [
    "И двата модела дават добри резултати, но невронната мрежа има преднина и при двете оценки. При RMSLE изглежда преднината е по-значима, докато при R-squared е малка."
   ]
  },
  {
   "cell_type": "markdown",
   "id": "8f7901b2",
   "metadata": {},
   "source": [
    "### Тестване на трансформирането в единичната окръжност\n",
    "\n",
    "Тук използваме характеристиките `train_cycles_shuffled` и търсим върху параметрите `grid_cycles`."
   ]
  },
  {
   "cell_type": "markdown",
   "id": "8d6b1f71",
   "metadata": {},
   "source": [
    "#### Тестване с логаритмуване на целевата стойност\n",
    "\n",
    "Да пробваме първо с логаритмуване на целевата стойност. Опитваме се да предскажем целевата стойност `target_log_shuffled`, а оценките се  дават с функциите `rmsle_log` и `r2_log`.\n",
    "\n",
    "Търсенето отнема около 40 минути."
   ]
  },
  {
   "cell_type": "code",
   "execution_count": 123,
   "id": "cfa3bb63",
   "metadata": {},
   "outputs": [],
   "source": [
    "search_cycles_log = GridSearchCV(estimator=pipe, param_grid=grid_cycles, refit=False, scoring={\"RMSLE\" : rmsle_log, \"R-squared\" : r2_log}, cv=4, n_jobs=4)\n",
    "search_cycles_log.fit(train_cycles_shuffled, target_log_shuffled)\n",
    "\n",
    "results_cycles_log = pd.DataFrame(search_cycles_log.cv_results_)\n",
    "results_cycles_log[\"features_transform\"] = \"cycles\"\n",
    "results_cycles_log[\"target_transform\"] = \"log\"\n",
    "\n",
    "results_cycles_log.to_csv(\"data/Search Results/cycles_log.csv\", index=False)"
   ]
  },
  {
   "cell_type": "markdown",
   "id": "91b40b91",
   "metadata": {},
   "source": [
    "Да видим кои са 8-те най-добри намерени модел спрямо RMSLE оценката:"
   ]
  },
  {
   "cell_type": "code",
   "execution_count": 124,
   "id": "34d8d030",
   "metadata": {},
   "outputs": [
    {
     "data": {
      "text/html": [
       "<div>\n",
       "<style scoped>\n",
       "    .dataframe tbody tr th:only-of-type {\n",
       "        vertical-align: middle;\n",
       "    }\n",
       "\n",
       "    .dataframe tbody tr th {\n",
       "        vertical-align: top;\n",
       "    }\n",
       "\n",
       "    .dataframe thead th {\n",
       "        text-align: right;\n",
       "    }\n",
       "</style>\n",
       "<table border=\"1\" class=\"dataframe\">\n",
       "  <thead>\n",
       "    <tr style=\"text-align: right;\">\n",
       "      <th></th>\n",
       "      <th>mean_test_RMSLE</th>\n",
       "      <th>params</th>\n",
       "    </tr>\n",
       "  </thead>\n",
       "  <tbody>\n",
       "    <tr>\n",
       "      <th>180</th>\n",
       "      <td>-0.303893</td>\n",
       "      <td>{'preprocessing': StandardScaler(), 'regressor': MLPRegressor(), 'regressor__activation': 'logistic', 'regressor__alpha': 0.0001, 'regressor__hidden_layer_sizes': (80, 40), 'regressor__max_iter': 500}</td>\n",
       "    </tr>\n",
       "    <tr>\n",
       "      <th>181</th>\n",
       "      <td>-0.305071</td>\n",
       "      <td>{'preprocessing': StandardScaler(), 'regressor': MLPRegressor(), 'regressor__activation': 'logistic', 'regressor__alpha': 0.0001, 'regressor__hidden_layer_sizes': (150, 60), 'regressor__max_iter': 500}</td>\n",
       "    </tr>\n",
       "    <tr>\n",
       "      <th>191</th>\n",
       "      <td>-0.305478</td>\n",
       "      <td>{'preprocessing': StandardScaler(), 'regressor': MLPRegressor(), 'regressor__activation': 'tanh', 'regressor__alpha': 0.1, 'regressor__hidden_layer_sizes': (150, 60, 30), 'regressor__max_iter': 500}</td>\n",
       "    </tr>\n",
       "    <tr>\n",
       "      <th>189</th>\n",
       "      <td>-0.306055</td>\n",
       "      <td>{'preprocessing': StandardScaler(), 'regressor': MLPRegressor(), 'regressor__activation': 'tanh', 'regressor__alpha': 0.1, 'regressor__hidden_layer_sizes': (80, 40), 'regressor__max_iter': 500}</td>\n",
       "    </tr>\n",
       "    <tr>\n",
       "      <th>182</th>\n",
       "      <td>-0.307303</td>\n",
       "      <td>{'preprocessing': StandardScaler(), 'regressor': MLPRegressor(), 'regressor__activation': 'logistic', 'regressor__alpha': 0.0001, 'regressor__hidden_layer_sizes': (150, 60, 30), 'regressor__max_iter': 500}</td>\n",
       "    </tr>\n",
       "    <tr>\n",
       "      <th>186</th>\n",
       "      <td>-0.309057</td>\n",
       "      <td>{'preprocessing': StandardScaler(), 'regressor': MLPRegressor(), 'regressor__activation': 'tanh', 'regressor__alpha': 0.0001, 'regressor__hidden_layer_sizes': (80, 40), 'regressor__max_iter': 500}</td>\n",
       "    </tr>\n",
       "    <tr>\n",
       "      <th>170</th>\n",
       "      <td>-0.310195</td>\n",
       "      <td>{'preprocessing': MinMaxScaler(), 'regressor': MLPRegressor(), 'regressor__activation': 'tanh', 'regressor__alpha': 0.0001, 'regressor__hidden_layer_sizes': (150, 60, 30), 'regressor__max_iter': 500}</td>\n",
       "    </tr>\n",
       "    <tr>\n",
       "      <th>196</th>\n",
       "      <td>-0.310477</td>\n",
       "      <td>{'preprocessing': StandardScaler(), 'regressor': MLPRegressor(), 'regressor__activation': 'relu', 'regressor__alpha': 0.1, 'regressor__hidden_layer_sizes': (150, 60), 'regressor__max_iter': 500}</td>\n",
       "    </tr>\n",
       "  </tbody>\n",
       "</table>\n",
       "</div>"
      ],
      "text/plain": [
       "     mean_test_RMSLE  \\\n",
       "180        -0.303893   \n",
       "181        -0.305071   \n",
       "191        -0.305478   \n",
       "189        -0.306055   \n",
       "182        -0.307303   \n",
       "186        -0.309057   \n",
       "170        -0.310195   \n",
       "196        -0.310477   \n",
       "\n",
       "                                                                                                                                                                                                            params  \n",
       "180       {'preprocessing': StandardScaler(), 'regressor': MLPRegressor(), 'regressor__activation': 'logistic', 'regressor__alpha': 0.0001, 'regressor__hidden_layer_sizes': (80, 40), 'regressor__max_iter': 500}  \n",
       "181      {'preprocessing': StandardScaler(), 'regressor': MLPRegressor(), 'regressor__activation': 'logistic', 'regressor__alpha': 0.0001, 'regressor__hidden_layer_sizes': (150, 60), 'regressor__max_iter': 500}  \n",
       "191         {'preprocessing': StandardScaler(), 'regressor': MLPRegressor(), 'regressor__activation': 'tanh', 'regressor__alpha': 0.1, 'regressor__hidden_layer_sizes': (150, 60, 30), 'regressor__max_iter': 500}  \n",
       "189              {'preprocessing': StandardScaler(), 'regressor': MLPRegressor(), 'regressor__activation': 'tanh', 'regressor__alpha': 0.1, 'regressor__hidden_layer_sizes': (80, 40), 'regressor__max_iter': 500}  \n",
       "182  {'preprocessing': StandardScaler(), 'regressor': MLPRegressor(), 'regressor__activation': 'logistic', 'regressor__alpha': 0.0001, 'regressor__hidden_layer_sizes': (150, 60, 30), 'regressor__max_iter': 500}  \n",
       "186           {'preprocessing': StandardScaler(), 'regressor': MLPRegressor(), 'regressor__activation': 'tanh', 'regressor__alpha': 0.0001, 'regressor__hidden_layer_sizes': (80, 40), 'regressor__max_iter': 500}  \n",
       "170        {'preprocessing': MinMaxScaler(), 'regressor': MLPRegressor(), 'regressor__activation': 'tanh', 'regressor__alpha': 0.0001, 'regressor__hidden_layer_sizes': (150, 60, 30), 'regressor__max_iter': 500}  \n",
       "196             {'preprocessing': StandardScaler(), 'regressor': MLPRegressor(), 'regressor__activation': 'relu', 'regressor__alpha': 0.1, 'regressor__hidden_layer_sizes': (150, 60), 'regressor__max_iter': 500}  "
      ]
     },
     "execution_count": 124,
     "metadata": {},
     "output_type": "execute_result"
    }
   ],
   "source": [
    "results_cycles_log.sort_values(by=[\"mean_test_RMSLE\"], ascending=False)[[\"mean_test_RMSLE\", \"params\"]].head(8)"
   ]
  },
  {
   "cell_type": "code",
   "execution_count": 125,
   "id": "82be30df",
   "metadata": {},
   "outputs": [
    {
     "data": {
      "text/plain": [
       "<seaborn.axisgrid.FacetGrid at 0x1aad1d35a20>"
      ]
     },
     "execution_count": 125,
     "metadata": {},
     "output_type": "execute_result"
    },
    {
     "data": {
      "image/png": "[encoded data removed]",
      "text/plain": [
       "<Figure size 524.875x360 with 1 Axes>"
      ]
     },
     "metadata": {
      "needs_background": "light"
     },
     "output_type": "display_data"
    }
   ],
   "source": [
    "sns.displot(results_cycles_log[[\"mean_test_RMSLE\", \"param_regressor\"]], x=\"mean_test_RMSLE\", hue=\"param_regressor\", kind=\"kde\", bw_adjust = 0.1, common_norm = False)"
   ]
  },
  {
   "cell_type": "markdown",
   "id": "dd63e4e6",
   "metadata": {},
   "source": [
    "И за R-squared оценката:"
   ]
  },
  {
   "cell_type": "code",
   "execution_count": 126,
   "id": "cae3c373",
   "metadata": {},
   "outputs": [
    {
     "data": {
      "text/html": [
       "<div>\n",
       "<style scoped>\n",
       "    .dataframe tbody tr th:only-of-type {\n",
       "        vertical-align: middle;\n",
       "    }\n",
       "\n",
       "    .dataframe tbody tr th {\n",
       "        vertical-align: top;\n",
       "    }\n",
       "\n",
       "    .dataframe thead th {\n",
       "        text-align: right;\n",
       "    }\n",
       "</style>\n",
       "<table border=\"1\" class=\"dataframe\">\n",
       "  <thead>\n",
       "    <tr style=\"text-align: right;\">\n",
       "      <th></th>\n",
       "      <th>mean_test_R-squared</th>\n",
       "      <th>params</th>\n",
       "    </tr>\n",
       "  </thead>\n",
       "  <tbody>\n",
       "    <tr>\n",
       "      <th>191</th>\n",
       "      <td>0.941133</td>\n",
       "      <td>{'preprocessing': StandardScaler(), 'regressor': MLPRegressor(), 'regressor__activation': 'tanh', 'regressor__alpha': 0.1, 'regressor__hidden_layer_sizes': (150, 60, 30), 'regressor__max_iter': 500}</td>\n",
       "    </tr>\n",
       "    <tr>\n",
       "      <th>50</th>\n",
       "      <td>0.937693</td>\n",
       "      <td>{'preprocessing': MinMaxScaler(), 'regressor': RandomForestRegressor(), 'regressor__max_depth': 40, 'regressor__min_samples_split': 2}</td>\n",
       "    </tr>\n",
       "    <tr>\n",
       "      <th>170</th>\n",
       "      <td>0.937654</td>\n",
       "      <td>{'preprocessing': MinMaxScaler(), 'regressor': MLPRegressor(), 'regressor__activation': 'tanh', 'regressor__alpha': 0.0001, 'regressor__hidden_layer_sizes': (150, 60, 30), 'regressor__max_iter': 500}</td>\n",
       "    </tr>\n",
       "    <tr>\n",
       "      <th>181</th>\n",
       "      <td>0.937561</td>\n",
       "      <td>{'preprocessing': StandardScaler(), 'regressor': MLPRegressor(), 'regressor__activation': 'logistic', 'regressor__alpha': 0.0001, 'regressor__hidden_layer_sizes': (150, 60), 'regressor__max_iter': 500}</td>\n",
       "    </tr>\n",
       "    <tr>\n",
       "      <th>71</th>\n",
       "      <td>0.937520</td>\n",
       "      <td>{'preprocessing': MinMaxScaler(), 'regressor': RandomForestRegressor(), 'regressor__max_depth': 70, 'regressor__min_samples_split': 4}</td>\n",
       "    </tr>\n",
       "    <tr>\n",
       "      <th>70</th>\n",
       "      <td>0.937490</td>\n",
       "      <td>{'preprocessing': MinMaxScaler(), 'regressor': RandomForestRegressor(), 'regressor__max_depth': 70, 'regressor__min_samples_split': 2}</td>\n",
       "    </tr>\n",
       "    <tr>\n",
       "      <th>189</th>\n",
       "      <td>0.937431</td>\n",
       "      <td>{'preprocessing': StandardScaler(), 'regressor': MLPRegressor(), 'regressor__activation': 'tanh', 'regressor__alpha': 0.1, 'regressor__hidden_layer_sizes': (80, 40), 'regressor__max_iter': 500}</td>\n",
       "    </tr>\n",
       "    <tr>\n",
       "      <th>60</th>\n",
       "      <td>0.937378</td>\n",
       "      <td>{'preprocessing': MinMaxScaler(), 'regressor': RandomForestRegressor(), 'regressor__max_depth': 50, 'regressor__min_samples_split': 2}</td>\n",
       "    </tr>\n",
       "  </tbody>\n",
       "</table>\n",
       "</div>"
      ],
      "text/plain": [
       "     mean_test_R-squared  \\\n",
       "191             0.941133   \n",
       "50              0.937693   \n",
       "170             0.937654   \n",
       "181             0.937561   \n",
       "71              0.937520   \n",
       "70              0.937490   \n",
       "189             0.937431   \n",
       "60              0.937378   \n",
       "\n",
       "                                                                                                                                                                                                        params  \n",
       "191     {'preprocessing': StandardScaler(), 'regressor': MLPRegressor(), 'regressor__activation': 'tanh', 'regressor__alpha': 0.1, 'regressor__hidden_layer_sizes': (150, 60, 30), 'regressor__max_iter': 500}  \n",
       "50                                                                      {'preprocessing': MinMaxScaler(), 'regressor': RandomForestRegressor(), 'regressor__max_depth': 40, 'regressor__min_samples_split': 2}  \n",
       "170    {'preprocessing': MinMaxScaler(), 'regressor': MLPRegressor(), 'regressor__activation': 'tanh', 'regressor__alpha': 0.0001, 'regressor__hidden_layer_sizes': (150, 60, 30), 'regressor__max_iter': 500}  \n",
       "181  {'preprocessing': StandardScaler(), 'regressor': MLPRegressor(), 'regressor__activation': 'logistic', 'regressor__alpha': 0.0001, 'regressor__hidden_layer_sizes': (150, 60), 'regressor__max_iter': 500}  \n",
       "71                                                                      {'preprocessing': MinMaxScaler(), 'regressor': RandomForestRegressor(), 'regressor__max_depth': 70, 'regressor__min_samples_split': 4}  \n",
       "70                                                                      {'preprocessing': MinMaxScaler(), 'regressor': RandomForestRegressor(), 'regressor__max_depth': 70, 'regressor__min_samples_split': 2}  \n",
       "189          {'preprocessing': StandardScaler(), 'regressor': MLPRegressor(), 'regressor__activation': 'tanh', 'regressor__alpha': 0.1, 'regressor__hidden_layer_sizes': (80, 40), 'regressor__max_iter': 500}  \n",
       "60                                                                      {'preprocessing': MinMaxScaler(), 'regressor': RandomForestRegressor(), 'regressor__max_depth': 50, 'regressor__min_samples_split': 2}  "
      ]
     },
     "execution_count": 126,
     "metadata": {},
     "output_type": "execute_result"
    }
   ],
   "source": [
    "results_cycles_log.sort_values(by=[\"mean_test_R-squared\"], ascending=False)[[\"mean_test_R-squared\", \"params\"]].head(8)"
   ]
  },
  {
   "cell_type": "code",
   "execution_count": 127,
   "id": "9673aee9",
   "metadata": {},
   "outputs": [
    {
     "data": {
      "text/plain": [
       "<seaborn.axisgrid.FacetGrid at 0x1aad1f2dc50>"
      ]
     },
     "execution_count": 127,
     "metadata": {},
     "output_type": "execute_result"
    },
    {
     "data": {
      "image/png": "[encoded data removed]",
      "text/plain": [
       "<Figure size 524.875x360 with 1 Axes>"
      ]
     },
     "metadata": {
      "needs_background": "light"
     },
     "output_type": "display_data"
    }
   ],
   "source": [
    "sns.displot(results_cycles_log[[\"mean_test_R-squared\", \"param_regressor\"]], x=\"mean_test_R-squared\", hue=\"param_regressor\", kind=\"kde\", bw_adjust = 0.1, common_norm = False)"
   ]
  },
  {
   "cell_type": "markdown",
   "id": "3efc0ebb",
   "metadata": {},
   "source": [
    "Тук кривата за KNeighbors е доста разхвърляна и при двете оценки. Все пак изглежда, че при подходящ избор на параметри може да се постигнат не лоши оценки, но те пак не могат да се мерят с гората и невронната мрежа. \n",
    "\n",
    "Невронната мрежа има преднина пред гората при RMSLE оценката, но за R-squared изглежда двата модела дават подобни резултати."
   ]
  },
  {
   "cell_type": "markdown",
   "id": "27654970",
   "metadata": {},
   "source": [
    "#### Тестване с коренуване на целевата стойност\n",
    "\n",
    "Да пробваме първо с логаритмуване на целевата стойност. Опитваме се да предскажем целевата стойност `target_sqrt_shuffled`, а оценките се  дават с функциите `rmsle_sqrt` и `r2_sqrt`.\n",
    "\n",
    "Търсенето отнема около 40 минути."
   ]
  },
  {
   "cell_type": "code",
   "execution_count": 101,
   "id": "e4f41092",
   "metadata": {},
   "outputs": [],
   "source": [
    "search_cycles_sqrt = GridSearchCV(estimator=pipe, param_grid=grid_cycles, refit=False, scoring={\"RMSLE\" : rmsle_sqrt, \"R-squared\" : r2_sqrt}, cv=4, n_jobs=4)\n",
    "search_cycles_sqrt.fit(train_cycles_shuffled, target_sqrt_shuffled)\n",
    "\n",
    "results_cycles_sqrt = pd.DataFrame(search_cycles_sqrt.cv_results_)\n",
    "results_cycles_sqrt[\"features_transform\"] = \"cycles\"\n",
    "results_cycles_sqrt[\"target_transform\"] = \"sqrt\"\n",
    "\n",
    "results_cycles_sqrt.to_csv(\"data/Search Results/cycles_sqrt.csv\", index=False)"
   ]
  },
  {
   "cell_type": "markdown",
   "id": "e41bd04b",
   "metadata": {},
   "source": [
    "Да видим кои са 8-те най-добри намерени модел спрямо RMSLE оценката:"
   ]
  },
  {
   "cell_type": "code",
   "execution_count": 102,
   "id": "bdf1971e",
   "metadata": {},
   "outputs": [
    {
     "data": {
      "text/html": [
       "<div>\n",
       "<style scoped>\n",
       "    .dataframe tbody tr th:only-of-type {\n",
       "        vertical-align: middle;\n",
       "    }\n",
       "\n",
       "    .dataframe tbody tr th {\n",
       "        vertical-align: top;\n",
       "    }\n",
       "\n",
       "    .dataframe thead th {\n",
       "        text-align: right;\n",
       "    }\n",
       "</style>\n",
       "<table border=\"1\" class=\"dataframe\">\n",
       "  <thead>\n",
       "    <tr style=\"text-align: right;\">\n",
       "      <th></th>\n",
       "      <th>mean_test_RMSLE</th>\n",
       "      <th>params</th>\n",
       "    </tr>\n",
       "  </thead>\n",
       "  <tbody>\n",
       "    <tr>\n",
       "      <th>181</th>\n",
       "      <td>-0.307829</td>\n",
       "      <td>{'preprocessing': StandardScaler(), 'regressor': MLPRegressor(), 'regressor__activation': 'logistic', 'regressor__alpha': 0.0001, 'regressor__hidden_layer_sizes': (150, 60), 'regressor__max_iter': 500}</td>\n",
       "    </tr>\n",
       "    <tr>\n",
       "      <th>185</th>\n",
       "      <td>-0.310836</td>\n",
       "      <td>{'preprocessing': StandardScaler(), 'regressor': MLPRegressor(), 'regressor__activation': 'logistic', 'regressor__alpha': 0.1, 'regressor__hidden_layer_sizes': (150, 60, 30), 'regressor__max_iter': 500}</td>\n",
       "    </tr>\n",
       "    <tr>\n",
       "      <th>170</th>\n",
       "      <td>-0.310858</td>\n",
       "      <td>{'preprocessing': MinMaxScaler(), 'regressor': MLPRegressor(), 'regressor__activation': 'tanh', 'regressor__alpha': 0.0001, 'regressor__hidden_layer_sizes': (150, 60, 30), 'regressor__max_iter': 500}</td>\n",
       "    </tr>\n",
       "    <tr>\n",
       "      <th>183</th>\n",
       "      <td>-0.311088</td>\n",
       "      <td>{'preprocessing': StandardScaler(), 'regressor': MLPRegressor(), 'regressor__activation': 'logistic', 'regressor__alpha': 0.1, 'regressor__hidden_layer_sizes': (80, 40), 'regressor__max_iter': 500}</td>\n",
       "    </tr>\n",
       "    <tr>\n",
       "      <th>197</th>\n",
       "      <td>-0.311896</td>\n",
       "      <td>{'preprocessing': StandardScaler(), 'regressor': MLPRegressor(), 'regressor__activation': 'relu', 'regressor__alpha': 0.1, 'regressor__hidden_layer_sizes': (150, 60, 30), 'regressor__max_iter': 500}</td>\n",
       "    </tr>\n",
       "    <tr>\n",
       "      <th>182</th>\n",
       "      <td>-0.313036</td>\n",
       "      <td>{'preprocessing': StandardScaler(), 'regressor': MLPRegressor(), 'regressor__activation': 'logistic', 'regressor__alpha': 0.0001, 'regressor__hidden_layer_sizes': (150, 60, 30), 'regressor__max_iter': 500}</td>\n",
       "    </tr>\n",
       "    <tr>\n",
       "      <th>180</th>\n",
       "      <td>-0.313237</td>\n",
       "      <td>{'preprocessing': StandardScaler(), 'regressor': MLPRegressor(), 'regressor__activation': 'logistic', 'regressor__alpha': 0.0001, 'regressor__hidden_layer_sizes': (80, 40), 'regressor__max_iter': 500}</td>\n",
       "    </tr>\n",
       "    <tr>\n",
       "      <th>172</th>\n",
       "      <td>-0.314973</td>\n",
       "      <td>{'preprocessing': MinMaxScaler(), 'regressor': MLPRegressor(), 'regressor__activation': 'tanh', 'regressor__alpha': 0.1, 'regressor__hidden_layer_sizes': (150, 60), 'regressor__max_iter': 500}</td>\n",
       "    </tr>\n",
       "  </tbody>\n",
       "</table>\n",
       "</div>"
      ],
      "text/plain": [
       "     mean_test_RMSLE  \\\n",
       "181        -0.307829   \n",
       "185        -0.310836   \n",
       "170        -0.310858   \n",
       "183        -0.311088   \n",
       "197        -0.311896   \n",
       "182        -0.313036   \n",
       "180        -0.313237   \n",
       "172        -0.314973   \n",
       "\n",
       "                                                                                                                                                                                                            params  \n",
       "181      {'preprocessing': StandardScaler(), 'regressor': MLPRegressor(), 'regressor__activation': 'logistic', 'regressor__alpha': 0.0001, 'regressor__hidden_layer_sizes': (150, 60), 'regressor__max_iter': 500}  \n",
       "185     {'preprocessing': StandardScaler(), 'regressor': MLPRegressor(), 'regressor__activation': 'logistic', 'regressor__alpha': 0.1, 'regressor__hidden_layer_sizes': (150, 60, 30), 'regressor__max_iter': 500}  \n",
       "170        {'preprocessing': MinMaxScaler(), 'regressor': MLPRegressor(), 'regressor__activation': 'tanh', 'regressor__alpha': 0.0001, 'regressor__hidden_layer_sizes': (150, 60, 30), 'regressor__max_iter': 500}  \n",
       "183          {'preprocessing': StandardScaler(), 'regressor': MLPRegressor(), 'regressor__activation': 'logistic', 'regressor__alpha': 0.1, 'regressor__hidden_layer_sizes': (80, 40), 'regressor__max_iter': 500}  \n",
       "197         {'preprocessing': StandardScaler(), 'regressor': MLPRegressor(), 'regressor__activation': 'relu', 'regressor__alpha': 0.1, 'regressor__hidden_layer_sizes': (150, 60, 30), 'regressor__max_iter': 500}  \n",
       "182  {'preprocessing': StandardScaler(), 'regressor': MLPRegressor(), 'regressor__activation': 'logistic', 'regressor__alpha': 0.0001, 'regressor__hidden_layer_sizes': (150, 60, 30), 'regressor__max_iter': 500}  \n",
       "180       {'preprocessing': StandardScaler(), 'regressor': MLPRegressor(), 'regressor__activation': 'logistic', 'regressor__alpha': 0.0001, 'regressor__hidden_layer_sizes': (80, 40), 'regressor__max_iter': 500}  \n",
       "172               {'preprocessing': MinMaxScaler(), 'regressor': MLPRegressor(), 'regressor__activation': 'tanh', 'regressor__alpha': 0.1, 'regressor__hidden_layer_sizes': (150, 60), 'regressor__max_iter': 500}  "
      ]
     },
     "execution_count": 102,
     "metadata": {},
     "output_type": "execute_result"
    }
   ],
   "source": [
    "results_cycles_sqrt.sort_values(by=[\"mean_test_RMSLE\"], ascending=False)[[\"mean_test_RMSLE\", \"params\"]].head(8)"
   ]
  },
  {
   "cell_type": "code",
   "execution_count": 103,
   "id": "6a08428c",
   "metadata": {},
   "outputs": [
    {
     "data": {
      "text/plain": [
       "<seaborn.axisgrid.FacetGrid at 0x21f15416eb8>"
      ]
     },
     "execution_count": 103,
     "metadata": {},
     "output_type": "execute_result"
    },
    {
     "data": {
      "image/png": "[encoded data removed]",
      "text/plain": [
       "<Figure size 524.875x360 with 1 Axes>"
      ]
     },
     "metadata": {
      "needs_background": "light"
     },
     "output_type": "display_data"
    }
   ],
   "source": [
    "sns.displot(results_cycles_sqrt[[\"mean_test_RMSLE\", \"param_regressor\"]], x=\"mean_test_RMSLE\", hue=\"param_regressor\", kind=\"kde\", bw_adjust = 0.1, common_norm = False)"
   ]
  },
  {
   "cell_type": "markdown",
   "id": "3b502d5f",
   "metadata": {},
   "source": [
    "И за R-squared оценката:"
   ]
  },
  {
   "cell_type": "code",
   "execution_count": 104,
   "id": "b1eb4c30",
   "metadata": {},
   "outputs": [
    {
     "data": {
      "text/html": [
       "<div>\n",
       "<style scoped>\n",
       "    .dataframe tbody tr th:only-of-type {\n",
       "        vertical-align: middle;\n",
       "    }\n",
       "\n",
       "    .dataframe tbody tr th {\n",
       "        vertical-align: top;\n",
       "    }\n",
       "\n",
       "    .dataframe thead th {\n",
       "        text-align: right;\n",
       "    }\n",
       "</style>\n",
       "<table border=\"1\" class=\"dataframe\">\n",
       "  <thead>\n",
       "    <tr style=\"text-align: right;\">\n",
       "      <th></th>\n",
       "      <th>mean_test_R-squared</th>\n",
       "      <th>params</th>\n",
       "    </tr>\n",
       "  </thead>\n",
       "  <tbody>\n",
       "    <tr>\n",
       "      <th>184</th>\n",
       "      <td>0.949575</td>\n",
       "      <td>{'preprocessing': StandardScaler(), 'regressor': MLPRegressor(), 'regressor__activation': 'logistic', 'regressor__alpha': 0.1, 'regressor__hidden_layer_sizes': (150, 60), 'regressor__max_iter': 500}</td>\n",
       "    </tr>\n",
       "    <tr>\n",
       "      <th>196</th>\n",
       "      <td>0.949118</td>\n",
       "      <td>{'preprocessing': StandardScaler(), 'regressor': MLPRegressor(), 'regressor__activation': 'relu', 'regressor__alpha': 0.1, 'regressor__hidden_layer_sizes': (150, 60), 'regressor__max_iter': 500}</td>\n",
       "    </tr>\n",
       "    <tr>\n",
       "      <th>181</th>\n",
       "      <td>0.949062</td>\n",
       "      <td>{'preprocessing': StandardScaler(), 'regressor': MLPRegressor(), 'regressor__activation': 'logistic', 'regressor__alpha': 0.0001, 'regressor__hidden_layer_sizes': (150, 60), 'regressor__max_iter': 500}</td>\n",
       "    </tr>\n",
       "    <tr>\n",
       "      <th>197</th>\n",
       "      <td>0.948969</td>\n",
       "      <td>{'preprocessing': StandardScaler(), 'regressor': MLPRegressor(), 'regressor__activation': 'relu', 'regressor__alpha': 0.1, 'regressor__hidden_layer_sizes': (150, 60, 30), 'regressor__max_iter': 500}</td>\n",
       "    </tr>\n",
       "    <tr>\n",
       "      <th>185</th>\n",
       "      <td>0.948892</td>\n",
       "      <td>{'preprocessing': StandardScaler(), 'regressor': MLPRegressor(), 'regressor__activation': 'logistic', 'regressor__alpha': 0.1, 'regressor__hidden_layer_sizes': (150, 60, 30), 'regressor__max_iter': 500}</td>\n",
       "    </tr>\n",
       "    <tr>\n",
       "      <th>189</th>\n",
       "      <td>0.948673</td>\n",
       "      <td>{'preprocessing': StandardScaler(), 'regressor': MLPRegressor(), 'regressor__activation': 'tanh', 'regressor__alpha': 0.1, 'regressor__hidden_layer_sizes': (80, 40), 'regressor__max_iter': 500}</td>\n",
       "    </tr>\n",
       "    <tr>\n",
       "      <th>173</th>\n",
       "      <td>0.948509</td>\n",
       "      <td>{'preprocessing': MinMaxScaler(), 'regressor': MLPRegressor(), 'regressor__activation': 'tanh', 'regressor__alpha': 0.1, 'regressor__hidden_layer_sizes': (150, 60, 30), 'regressor__max_iter': 500}</td>\n",
       "    </tr>\n",
       "    <tr>\n",
       "      <th>183</th>\n",
       "      <td>0.948455</td>\n",
       "      <td>{'preprocessing': StandardScaler(), 'regressor': MLPRegressor(), 'regressor__activation': 'logistic', 'regressor__alpha': 0.1, 'regressor__hidden_layer_sizes': (80, 40), 'regressor__max_iter': 500}</td>\n",
       "    </tr>\n",
       "  </tbody>\n",
       "</table>\n",
       "</div>"
      ],
      "text/plain": [
       "     mean_test_R-squared  \\\n",
       "184             0.949575   \n",
       "196             0.949118   \n",
       "181             0.949062   \n",
       "197             0.948969   \n",
       "185             0.948892   \n",
       "189             0.948673   \n",
       "173             0.948509   \n",
       "183             0.948455   \n",
       "\n",
       "                                                                                                                                                                                                         params  \n",
       "184      {'preprocessing': StandardScaler(), 'regressor': MLPRegressor(), 'regressor__activation': 'logistic', 'regressor__alpha': 0.1, 'regressor__hidden_layer_sizes': (150, 60), 'regressor__max_iter': 500}  \n",
       "196          {'preprocessing': StandardScaler(), 'regressor': MLPRegressor(), 'regressor__activation': 'relu', 'regressor__alpha': 0.1, 'regressor__hidden_layer_sizes': (150, 60), 'regressor__max_iter': 500}  \n",
       "181   {'preprocessing': StandardScaler(), 'regressor': MLPRegressor(), 'regressor__activation': 'logistic', 'regressor__alpha': 0.0001, 'regressor__hidden_layer_sizes': (150, 60), 'regressor__max_iter': 500}  \n",
       "197      {'preprocessing': StandardScaler(), 'regressor': MLPRegressor(), 'regressor__activation': 'relu', 'regressor__alpha': 0.1, 'regressor__hidden_layer_sizes': (150, 60, 30), 'regressor__max_iter': 500}  \n",
       "185  {'preprocessing': StandardScaler(), 'regressor': MLPRegressor(), 'regressor__activation': 'logistic', 'regressor__alpha': 0.1, 'regressor__hidden_layer_sizes': (150, 60, 30), 'regressor__max_iter': 500}  \n",
       "189           {'preprocessing': StandardScaler(), 'regressor': MLPRegressor(), 'regressor__activation': 'tanh', 'regressor__alpha': 0.1, 'regressor__hidden_layer_sizes': (80, 40), 'regressor__max_iter': 500}  \n",
       "173        {'preprocessing': MinMaxScaler(), 'regressor': MLPRegressor(), 'regressor__activation': 'tanh', 'regressor__alpha': 0.1, 'regressor__hidden_layer_sizes': (150, 60, 30), 'regressor__max_iter': 500}  \n",
       "183       {'preprocessing': StandardScaler(), 'regressor': MLPRegressor(), 'regressor__activation': 'logistic', 'regressor__alpha': 0.1, 'regressor__hidden_layer_sizes': (80, 40), 'regressor__max_iter': 500}  "
      ]
     },
     "execution_count": 104,
     "metadata": {},
     "output_type": "execute_result"
    }
   ],
   "source": [
    "results_cycles_sqrt.sort_values(by=[\"mean_test_R-squared\"], ascending=False)[[\"mean_test_R-squared\", \"params\"]].head(8)"
   ]
  },
  {
   "cell_type": "code",
   "execution_count": 105,
   "id": "4716e453",
   "metadata": {},
   "outputs": [
    {
     "data": {
      "text/plain": [
       "<seaborn.axisgrid.FacetGrid at 0x21f14f5d358>"
      ]
     },
     "execution_count": 105,
     "metadata": {},
     "output_type": "execute_result"
    },
    {
     "data": {
      "image/png": "[encoded data removed]",
      "text/plain": [
       "<Figure size 524.875x360 with 1 Axes>"
      ]
     },
     "metadata": {
      "needs_background": "light"
     },
     "output_type": "display_data"
    }
   ],
   "source": [
    "sns.displot(results_cycles_sqrt[[\"mean_test_R-squared\", \"param_regressor\"]], x=\"mean_test_R-squared\", hue=\"param_regressor\", kind=\"kde\", bw_adjust = 0.1, common_norm = False)"
   ]
  },
  {
   "cell_type": "markdown",
   "id": "87a1549d",
   "metadata": {},
   "source": [
    "Отново KNeighbors има разхвърляна крива и резултатите са лоши. С нагласяване на параметрите може да се достигнат някакви прилични оценки.\n",
    "\n",
    "Освен това изглежда, че невронната мрежа има преднина пред гората и при двете оценки. При RMSLE преднината е по-изразена, но и при R-squared е видима."
   ]
  },
  {
   "cell_type": "markdown",
   "id": "f7895a35",
   "metadata": {},
   "source": [
    "### Тестване на групирането в интервали\n",
    "\n",
    "Тук използваме характеристиките `train_binned_shuffled` и търсим върху параметрите `grid_binned`."
   ]
  },
  {
   "cell_type": "markdown",
   "id": "c50fea07",
   "metadata": {},
   "source": [
    "#### Тестване с логаритмуване на целевата стойност\n",
    "\n",
    "Да пробваме първо с логаритмуване на целевата стойност. Опитваме се да предскажем целевата стойност `target_log_shuffled`, а оценките се  дават с функциите `rmsle_log` и `r2_log`.\n",
    "\n",
    "Търсенето отнема около 100 минути."
   ]
  },
  {
   "cell_type": "code",
   "execution_count": 96,
   "id": "27027156",
   "metadata": {},
   "outputs": [],
   "source": [
    "search_binned_log = GridSearchCV(estimator=pipe, param_grid=grid_binned, refit=False, scoring={\"RMSLE\" : rmsle_log, \"R-squared\" : r2_log}, cv=4, n_jobs=4)\n",
    "search_binned_log.fit(train_binned_shuffled, target_log_shuffled)\n",
    "\n",
    "results_binned_log = pd.DataFrame(search_binned_log.cv_results_)\n",
    "results_binned_log[\"features_transform\"] = \"binned\"\n",
    "results_binned_log[\"target_transform\"] = \"log\"\n",
    "\n",
    "results_binned_log.to_csv(\"data/Search Results/binned_log.csv\", index=False)"
   ]
  },
  {
   "cell_type": "code",
   "execution_count": 132,
   "id": "d42b66dd",
   "metadata": {},
   "outputs": [],
   "source": [
    "results_binned_log[\"param_regressor\"] = results_binned_log[\"param_regressor\"].astype(str)"
   ]
  },
  {
   "cell_type": "markdown",
   "id": "ba51d060",
   "metadata": {},
   "source": [
    "Да видим кои са 8-те най-добри намерени модел спрямо RMSLE оценката:"
   ]
  },
  {
   "cell_type": "code",
   "execution_count": 133,
   "id": "f575cfa7",
   "metadata": {},
   "outputs": [
    {
     "data": {
      "text/html": [
       "<div>\n",
       "<style scoped>\n",
       "    .dataframe tbody tr th:only-of-type {\n",
       "        vertical-align: middle;\n",
       "    }\n",
       "\n",
       "    .dataframe tbody tr th {\n",
       "        vertical-align: top;\n",
       "    }\n",
       "\n",
       "    .dataframe thead th {\n",
       "        text-align: right;\n",
       "    }\n",
       "</style>\n",
       "<table border=\"1\" class=\"dataframe\">\n",
       "  <thead>\n",
       "    <tr style=\"text-align: right;\">\n",
       "      <th></th>\n",
       "      <th>mean_test_RMSLE</th>\n",
       "      <th>params</th>\n",
       "    </tr>\n",
       "  </thead>\n",
       "  <tbody>\n",
       "    <tr>\n",
       "      <th>326</th>\n",
       "      <td>-0.312746</td>\n",
       "      <td>{'preprocessing': MinMaxScaler(), 'regressor': MLPRegressor(), 'regressor__activation': 'tanh', 'regressor__alpha': 0.1, 'regressor__hidden_layer_sizes': (150, 60, 30), 'regressor__max_iter': 500}</td>\n",
       "    </tr>\n",
       "    <tr>\n",
       "      <th>317</th>\n",
       "      <td>-0.315079</td>\n",
       "      <td>{'preprocessing': MinMaxScaler(), 'regressor': MLPRegressor(), 'regressor__activation': 'logistic', 'regressor__alpha': 0.0001, 'regressor__hidden_layer_sizes': (150, 60, 30), 'regressor__max_iter': 500}</td>\n",
       "    </tr>\n",
       "    <tr>\n",
       "      <th>325</th>\n",
       "      <td>-0.316572</td>\n",
       "      <td>{'preprocessing': MinMaxScaler(), 'regressor': MLPRegressor(), 'regressor__activation': 'tanh', 'regressor__alpha': 0.1, 'regressor__hidden_layer_sizes': (150, 60), 'regressor__max_iter': 500}</td>\n",
       "    </tr>\n",
       "    <tr>\n",
       "      <th>315</th>\n",
       "      <td>-0.317255</td>\n",
       "      <td>{'preprocessing': MinMaxScaler(), 'regressor': MLPRegressor(), 'regressor__activation': 'logistic', 'regressor__alpha': 0.0001, 'regressor__hidden_layer_sizes': (80, 40), 'regressor__max_iter': 500}</td>\n",
       "    </tr>\n",
       "    <tr>\n",
       "      <th>338</th>\n",
       "      <td>-0.317617</td>\n",
       "      <td>{'preprocessing': StandardScaler(), 'regressor': MLPRegressor(), 'regressor__activation': 'logistic', 'regressor__alpha': 0.1, 'regressor__hidden_layer_sizes': (150, 60, 30), 'regressor__max_iter': 500}</td>\n",
       "    </tr>\n",
       "    <tr>\n",
       "      <th>316</th>\n",
       "      <td>-0.317715</td>\n",
       "      <td>{'preprocessing': MinMaxScaler(), 'regressor': MLPRegressor(), 'regressor__activation': 'logistic', 'regressor__alpha': 0.0001, 'regressor__hidden_layer_sizes': (150, 60), 'regressor__max_iter': 500}</td>\n",
       "    </tr>\n",
       "    <tr>\n",
       "      <th>324</th>\n",
       "      <td>-0.318388</td>\n",
       "      <td>{'preprocessing': MinMaxScaler(), 'regressor': MLPRegressor(), 'regressor__activation': 'tanh', 'regressor__alpha': 0.1, 'regressor__hidden_layer_sizes': (80, 40), 'regressor__max_iter': 500}</td>\n",
       "    </tr>\n",
       "    <tr>\n",
       "      <th>49</th>\n",
       "      <td>-0.319061</td>\n",
       "      <td>{'preprocessing': MinMaxScaler(), 'regressor': SVR(), 'regressor__C': 2, 'regressor__gamma': 'scale', 'regressor__kernel': 'rbf', 'regressor__max_iter': 5000}</td>\n",
       "    </tr>\n",
       "  </tbody>\n",
       "</table>\n",
       "</div>"
      ],
      "text/plain": [
       "     mean_test_RMSLE  \\\n",
       "326        -0.312746   \n",
       "317        -0.315079   \n",
       "325        -0.316572   \n",
       "315        -0.317255   \n",
       "338        -0.317617   \n",
       "316        -0.317715   \n",
       "324        -0.318388   \n",
       "49         -0.319061   \n",
       "\n",
       "                                                                                                                                                                                                          params  \n",
       "326         {'preprocessing': MinMaxScaler(), 'regressor': MLPRegressor(), 'regressor__activation': 'tanh', 'regressor__alpha': 0.1, 'regressor__hidden_layer_sizes': (150, 60, 30), 'regressor__max_iter': 500}  \n",
       "317  {'preprocessing': MinMaxScaler(), 'regressor': MLPRegressor(), 'regressor__activation': 'logistic', 'regressor__alpha': 0.0001, 'regressor__hidden_layer_sizes': (150, 60, 30), 'regressor__max_iter': 500}  \n",
       "325             {'preprocessing': MinMaxScaler(), 'regressor': MLPRegressor(), 'regressor__activation': 'tanh', 'regressor__alpha': 0.1, 'regressor__hidden_layer_sizes': (150, 60), 'regressor__max_iter': 500}  \n",
       "315       {'preprocessing': MinMaxScaler(), 'regressor': MLPRegressor(), 'regressor__activation': 'logistic', 'regressor__alpha': 0.0001, 'regressor__hidden_layer_sizes': (80, 40), 'regressor__max_iter': 500}  \n",
       "338   {'preprocessing': StandardScaler(), 'regressor': MLPRegressor(), 'regressor__activation': 'logistic', 'regressor__alpha': 0.1, 'regressor__hidden_layer_sizes': (150, 60, 30), 'regressor__max_iter': 500}  \n",
       "316      {'preprocessing': MinMaxScaler(), 'regressor': MLPRegressor(), 'regressor__activation': 'logistic', 'regressor__alpha': 0.0001, 'regressor__hidden_layer_sizes': (150, 60), 'regressor__max_iter': 500}  \n",
       "324              {'preprocessing': MinMaxScaler(), 'regressor': MLPRegressor(), 'regressor__activation': 'tanh', 'regressor__alpha': 0.1, 'regressor__hidden_layer_sizes': (80, 40), 'regressor__max_iter': 500}  \n",
       "49                                                {'preprocessing': MinMaxScaler(), 'regressor': SVR(), 'regressor__C': 2, 'regressor__gamma': 'scale', 'regressor__kernel': 'rbf', 'regressor__max_iter': 5000}  "
      ]
     },
     "execution_count": 133,
     "metadata": {},
     "output_type": "execute_result"
    }
   ],
   "source": [
    "results_binned_log.sort_values(by=[\"mean_test_RMSLE\"], ascending=False)[[\"mean_test_RMSLE\", \"params\"]].head(8)"
   ]
  },
  {
   "cell_type": "code",
   "execution_count": 134,
   "id": "f43c902b",
   "metadata": {},
   "outputs": [
    {
     "data": {
      "text/plain": [
       "<seaborn.axisgrid.FacetGrid at 0x14b99281da0>"
      ]
     },
     "execution_count": 134,
     "metadata": {},
     "output_type": "execute_result"
    },
    {
     "data": {
      "image/png": "[encoded data removed]",
      "text/plain": [
       "<Figure size 489.5x360 with 1 Axes>"
      ]
     },
     "metadata": {
      "needs_background": "light"
     },
     "output_type": "display_data"
    }
   ],
   "source": [
    "sns.displot(results_binned_log[[\"mean_test_RMSLE\", \"param_regressor\"]][results_binned_log[\"mean_test_RMSLE\"] > -0.8], x=\"mean_test_RMSLE\", hue=\"param_regressor\", kind=\"kde\", bw_adjust = 0.3, common_norm = False, warn_singular=False)"
   ]
  },
  {
   "cell_type": "markdown",
   "id": "6879f6af",
   "metadata": {},
   "source": [
    "И за R-squared оценката:"
   ]
  },
  {
   "cell_type": "code",
   "execution_count": 135,
   "id": "edcacaf8",
   "metadata": {},
   "outputs": [
    {
     "data": {
      "text/html": [
       "<div>\n",
       "<style scoped>\n",
       "    .dataframe tbody tr th:only-of-type {\n",
       "        vertical-align: middle;\n",
       "    }\n",
       "\n",
       "    .dataframe tbody tr th {\n",
       "        vertical-align: top;\n",
       "    }\n",
       "\n",
       "    .dataframe thead th {\n",
       "        text-align: right;\n",
       "    }\n",
       "</style>\n",
       "<table border=\"1\" class=\"dataframe\">\n",
       "  <thead>\n",
       "    <tr style=\"text-align: right;\">\n",
       "      <th></th>\n",
       "      <th>mean_test_R-squared</th>\n",
       "      <th>params</th>\n",
       "    </tr>\n",
       "  </thead>\n",
       "  <tbody>\n",
       "    <tr>\n",
       "      <th>52</th>\n",
       "      <td>0.938865</td>\n",
       "      <td>{'preprocessing': MinMaxScaler(), 'regressor': SVR(), 'regressor__C': 2, 'regressor__gamma': 0.1, 'regressor__kernel': 'rbf', 'regressor__max_iter': 5000}</td>\n",
       "    </tr>\n",
       "    <tr>\n",
       "      <th>49</th>\n",
       "      <td>0.938840</td>\n",
       "      <td>{'preprocessing': MinMaxScaler(), 'regressor': SVR(), 'regressor__C': 2, 'regressor__gamma': 'scale', 'regressor__kernel': 'rbf', 'regressor__max_iter': 5000}</td>\n",
       "    </tr>\n",
       "    <tr>\n",
       "      <th>42</th>\n",
       "      <td>0.938532</td>\n",
       "      <td>{'preprocessing': MinMaxScaler(), 'regressor': SVR(), 'regressor__C': 1, 'regressor__gamma': 'scale', 'regressor__kernel': 'rbf', 'regressor__max_iter': 5000}</td>\n",
       "    </tr>\n",
       "    <tr>\n",
       "      <th>344</th>\n",
       "      <td>0.937662</td>\n",
       "      <td>{'preprocessing': StandardScaler(), 'regressor': MLPRegressor(), 'regressor__activation': 'tanh', 'regressor__alpha': 0.1, 'regressor__hidden_layer_sizes': (150, 60, 30), 'regressor__max_iter': 500}</td>\n",
       "    </tr>\n",
       "    <tr>\n",
       "      <th>326</th>\n",
       "      <td>0.937382</td>\n",
       "      <td>{'preprocessing': MinMaxScaler(), 'regressor': MLPRegressor(), 'regressor__activation': 'tanh', 'regressor__alpha': 0.1, 'regressor__hidden_layer_sizes': (150, 60, 30), 'regressor__max_iter': 500}</td>\n",
       "    </tr>\n",
       "    <tr>\n",
       "      <th>46</th>\n",
       "      <td>0.937329</td>\n",
       "      <td>{'preprocessing': MinMaxScaler(), 'regressor': SVR(), 'regressor__C': 1, 'regressor__gamma': 0.25, 'regressor__kernel': 'rbf', 'regressor__max_iter': 5000}</td>\n",
       "    </tr>\n",
       "    <tr>\n",
       "      <th>58</th>\n",
       "      <td>0.936754</td>\n",
       "      <td>{'preprocessing': MinMaxScaler(), 'regressor': SVR(), 'regressor__C': 5, 'regressor__gamma': 0.05, 'regressor__kernel': 'rbf', 'regressor__max_iter': 5000}</td>\n",
       "    </tr>\n",
       "    <tr>\n",
       "      <th>78</th>\n",
       "      <td>0.936692</td>\n",
       "      <td>{'preprocessing': StandardScaler(), 'regressor': SVR(), 'regressor__C': 1, 'regressor__gamma': 'auto', 'regressor__kernel': 'rbf', 'regressor__max_iter': 5000}</td>\n",
       "    </tr>\n",
       "  </tbody>\n",
       "</table>\n",
       "</div>"
      ],
      "text/plain": [
       "     mean_test_R-squared  \\\n",
       "52              0.938865   \n",
       "49              0.938840   \n",
       "42              0.938532   \n",
       "344             0.937662   \n",
       "326             0.937382   \n",
       "46              0.937329   \n",
       "58              0.936754   \n",
       "78              0.936692   \n",
       "\n",
       "                                                                                                                                                                                                     params  \n",
       "52                                               {'preprocessing': MinMaxScaler(), 'regressor': SVR(), 'regressor__C': 2, 'regressor__gamma': 0.1, 'regressor__kernel': 'rbf', 'regressor__max_iter': 5000}  \n",
       "49                                           {'preprocessing': MinMaxScaler(), 'regressor': SVR(), 'regressor__C': 2, 'regressor__gamma': 'scale', 'regressor__kernel': 'rbf', 'regressor__max_iter': 5000}  \n",
       "42                                           {'preprocessing': MinMaxScaler(), 'regressor': SVR(), 'regressor__C': 1, 'regressor__gamma': 'scale', 'regressor__kernel': 'rbf', 'regressor__max_iter': 5000}  \n",
       "344  {'preprocessing': StandardScaler(), 'regressor': MLPRegressor(), 'regressor__activation': 'tanh', 'regressor__alpha': 0.1, 'regressor__hidden_layer_sizes': (150, 60, 30), 'regressor__max_iter': 500}  \n",
       "326    {'preprocessing': MinMaxScaler(), 'regressor': MLPRegressor(), 'regressor__activation': 'tanh', 'regressor__alpha': 0.1, 'regressor__hidden_layer_sizes': (150, 60, 30), 'regressor__max_iter': 500}  \n",
       "46                                              {'preprocessing': MinMaxScaler(), 'regressor': SVR(), 'regressor__C': 1, 'regressor__gamma': 0.25, 'regressor__kernel': 'rbf', 'regressor__max_iter': 5000}  \n",
       "58                                              {'preprocessing': MinMaxScaler(), 'regressor': SVR(), 'regressor__C': 5, 'regressor__gamma': 0.05, 'regressor__kernel': 'rbf', 'regressor__max_iter': 5000}  \n",
       "78                                          {'preprocessing': StandardScaler(), 'regressor': SVR(), 'regressor__C': 1, 'regressor__gamma': 'auto', 'regressor__kernel': 'rbf', 'regressor__max_iter': 5000}  "
      ]
     },
     "execution_count": 135,
     "metadata": {},
     "output_type": "execute_result"
    }
   ],
   "source": [
    "results_binned_log.sort_values(by=[\"mean_test_R-squared\"], ascending=False)[[\"mean_test_R-squared\", \"params\"]].head(8)"
   ]
  },
  {
   "cell_type": "code",
   "execution_count": 136,
   "id": "edc3d9d7",
   "metadata": {},
   "outputs": [
    {
     "data": {
      "text/plain": [
       "<seaborn.axisgrid.FacetGrid at 0x14b99378a90>"
      ]
     },
     "execution_count": 136,
     "metadata": {},
     "output_type": "execute_result"
    },
    {
     "data": {
      "image/png": "[encoded data removed]",
      "text/plain": [
       "<Figure size 489.5x360 with 1 Axes>"
      ]
     },
     "metadata": {
      "needs_background": "light"
     },
     "output_type": "display_data"
    }
   ],
   "source": [
    "sns.displot(results_binned_log[[\"mean_test_R-squared\", \"param_regressor\"]][results_binned_log[\"mean_test_R-squared\"] > 0.2], x=\"mean_test_R-squared\", hue=\"param_regressor\", kind=\"kde\", bw_adjust = 0.2, common_norm = False, warn_singular=False)"
   ]
  },
  {
   "cell_type": "markdown",
   "id": "a630615f",
   "metadata": {},
   "source": [
    "Виждаме, че линейните регресии се представят доста зле и различните видове регуларизация не помагат.\n",
    "\n",
    "За сметка на това изглежда, че невронната мрежа и SVR се представят еднакво добре върху оценката R-squared, а невронната мрежа има малка преднина при оценката RMSLE. SVR обаче е по-чувстителен към параметрите на регуларизация и трябва по-внимателно да се нагласят, за да се получи добър резултат."
   ]
  },
  {
   "cell_type": "markdown",
   "id": "aa1da550",
   "metadata": {},
   "source": [
    "#### Тестване с коренуване на целевата стойност\n",
    "\n",
    "Да пробваме първо с логаритмуване на целевата стойност. Опитваме се да предскажем целевата стойност `target_sqrt_shuffled`, а оценките се  дават с функциите `rmsle_sqrt` и `r2_sqrt`.\n",
    "\n",
    "Търсенето отнема около 100 минути."
   ]
  },
  {
   "cell_type": "code",
   "execution_count": 101,
   "id": "0a1177e0",
   "metadata": {},
   "outputs": [],
   "source": [
    "search_binned_sqrt = GridSearchCV(estimator=pipe, param_grid=grid_binned, refit=False, scoring={\"RMSLE\" : rmsle_sqrt, \"R-squared\" : r2_sqrt}, cv=4, n_jobs=4)\n",
    "search_binned_sqrt.fit(train_binned_shuffled, target_sqrt_shuffled)\n",
    "\n",
    "results_binned_sqrt = pd.DataFrame(search_binned_sqrt.cv_results_)\n",
    "results_binned_sqrt[\"features_transform\"] = \"binned\"\n",
    "results_binned_sqrt[\"target_transform\"] = \"sqrt\"\n",
    "\n",
    "results_binned_sqrt.to_csv(\"data/Search Results/binned_sqrt.csv\", index=False)"
   ]
  },
  {
   "cell_type": "code",
   "execution_count": 137,
   "id": "56946f39",
   "metadata": {},
   "outputs": [],
   "source": [
    "results_binned_sqrt[\"param_regressor\"] = results_binned_sqrt[\"param_regressor\"].astype(str)"
   ]
  },
  {
   "cell_type": "markdown",
   "id": "358302b3",
   "metadata": {},
   "source": [
    "Да видим кои са 8-те най-добри намерени модел спрямо RMSLE оценката:"
   ]
  },
  {
   "cell_type": "code",
   "execution_count": 138,
   "id": "4b63b4e5",
   "metadata": {},
   "outputs": [
    {
     "data": {
      "text/html": [
       "<div>\n",
       "<style scoped>\n",
       "    .dataframe tbody tr th:only-of-type {\n",
       "        vertical-align: middle;\n",
       "    }\n",
       "\n",
       "    .dataframe tbody tr th {\n",
       "        vertical-align: top;\n",
       "    }\n",
       "\n",
       "    .dataframe thead th {\n",
       "        text-align: right;\n",
       "    }\n",
       "</style>\n",
       "<table border=\"1\" class=\"dataframe\">\n",
       "  <thead>\n",
       "    <tr style=\"text-align: right;\">\n",
       "      <th></th>\n",
       "      <th>mean_test_RMSLE</th>\n",
       "      <th>params</th>\n",
       "    </tr>\n",
       "  </thead>\n",
       "  <tbody>\n",
       "    <tr>\n",
       "      <th>316</th>\n",
       "      <td>-0.310126</td>\n",
       "      <td>{'preprocessing': MinMaxScaler(), 'regressor': MLPRegressor(), 'regressor__activation': 'logistic', 'regressor__alpha': 0.0001, 'regressor__hidden_layer_sizes': (150, 60), 'regressor__max_iter': 500}</td>\n",
       "    </tr>\n",
       "    <tr>\n",
       "      <th>315</th>\n",
       "      <td>-0.313444</td>\n",
       "      <td>{'preprocessing': MinMaxScaler(), 'regressor': MLPRegressor(), 'regressor__activation': 'logistic', 'regressor__alpha': 0.0001, 'regressor__hidden_layer_sizes': (80, 40), 'regressor__max_iter': 500}</td>\n",
       "    </tr>\n",
       "    <tr>\n",
       "      <th>317</th>\n",
       "      <td>-0.316576</td>\n",
       "      <td>{'preprocessing': MinMaxScaler(), 'regressor': MLPRegressor(), 'regressor__activation': 'logistic', 'regressor__alpha': 0.0001, 'regressor__hidden_layer_sizes': (150, 60, 30), 'regressor__max_iter': 500}</td>\n",
       "    </tr>\n",
       "    <tr>\n",
       "      <th>318</th>\n",
       "      <td>-0.323043</td>\n",
       "      <td>{'preprocessing': MinMaxScaler(), 'regressor': MLPRegressor(), 'regressor__activation': 'logistic', 'regressor__alpha': 0.1, 'regressor__hidden_layer_sizes': (80, 40), 'regressor__max_iter': 500}</td>\n",
       "    </tr>\n",
       "    <tr>\n",
       "      <th>324</th>\n",
       "      <td>-0.323880</td>\n",
       "      <td>{'preprocessing': MinMaxScaler(), 'regressor': MLPRegressor(), 'regressor__activation': 'tanh', 'regressor__alpha': 0.1, 'regressor__hidden_layer_sizes': (80, 40), 'regressor__max_iter': 500}</td>\n",
       "    </tr>\n",
       "    <tr>\n",
       "      <th>338</th>\n",
       "      <td>-0.326048</td>\n",
       "      <td>{'preprocessing': StandardScaler(), 'regressor': MLPRegressor(), 'regressor__activation': 'logistic', 'regressor__alpha': 0.1, 'regressor__hidden_layer_sizes': (150, 60, 30), 'regressor__max_iter': 500}</td>\n",
       "    </tr>\n",
       "    <tr>\n",
       "      <th>325</th>\n",
       "      <td>-0.326550</td>\n",
       "      <td>{'preprocessing': MinMaxScaler(), 'regressor': MLPRegressor(), 'regressor__activation': 'tanh', 'regressor__alpha': 0.1, 'regressor__hidden_layer_sizes': (150, 60), 'regressor__max_iter': 500}</td>\n",
       "    </tr>\n",
       "    <tr>\n",
       "      <th>319</th>\n",
       "      <td>-0.327687</td>\n",
       "      <td>{'preprocessing': MinMaxScaler(), 'regressor': MLPRegressor(), 'regressor__activation': 'logistic', 'regressor__alpha': 0.1, 'regressor__hidden_layer_sizes': (150, 60), 'regressor__max_iter': 500}</td>\n",
       "    </tr>\n",
       "  </tbody>\n",
       "</table>\n",
       "</div>"
      ],
      "text/plain": [
       "     mean_test_RMSLE  \\\n",
       "316        -0.310126   \n",
       "315        -0.313444   \n",
       "317        -0.316576   \n",
       "318        -0.323043   \n",
       "324        -0.323880   \n",
       "338        -0.326048   \n",
       "325        -0.326550   \n",
       "319        -0.327687   \n",
       "\n",
       "                                                                                                                                                                                                          params  \n",
       "316      {'preprocessing': MinMaxScaler(), 'regressor': MLPRegressor(), 'regressor__activation': 'logistic', 'regressor__alpha': 0.0001, 'regressor__hidden_layer_sizes': (150, 60), 'regressor__max_iter': 500}  \n",
       "315       {'preprocessing': MinMaxScaler(), 'regressor': MLPRegressor(), 'regressor__activation': 'logistic', 'regressor__alpha': 0.0001, 'regressor__hidden_layer_sizes': (80, 40), 'regressor__max_iter': 500}  \n",
       "317  {'preprocessing': MinMaxScaler(), 'regressor': MLPRegressor(), 'regressor__activation': 'logistic', 'regressor__alpha': 0.0001, 'regressor__hidden_layer_sizes': (150, 60, 30), 'regressor__max_iter': 500}  \n",
       "318          {'preprocessing': MinMaxScaler(), 'regressor': MLPRegressor(), 'regressor__activation': 'logistic', 'regressor__alpha': 0.1, 'regressor__hidden_layer_sizes': (80, 40), 'regressor__max_iter': 500}  \n",
       "324              {'preprocessing': MinMaxScaler(), 'regressor': MLPRegressor(), 'regressor__activation': 'tanh', 'regressor__alpha': 0.1, 'regressor__hidden_layer_sizes': (80, 40), 'regressor__max_iter': 500}  \n",
       "338   {'preprocessing': StandardScaler(), 'regressor': MLPRegressor(), 'regressor__activation': 'logistic', 'regressor__alpha': 0.1, 'regressor__hidden_layer_sizes': (150, 60, 30), 'regressor__max_iter': 500}  \n",
       "325             {'preprocessing': MinMaxScaler(), 'regressor': MLPRegressor(), 'regressor__activation': 'tanh', 'regressor__alpha': 0.1, 'regressor__hidden_layer_sizes': (150, 60), 'regressor__max_iter': 500}  \n",
       "319         {'preprocessing': MinMaxScaler(), 'regressor': MLPRegressor(), 'regressor__activation': 'logistic', 'regressor__alpha': 0.1, 'regressor__hidden_layer_sizes': (150, 60), 'regressor__max_iter': 500}  "
      ]
     },
     "execution_count": 138,
     "metadata": {},
     "output_type": "execute_result"
    }
   ],
   "source": [
    "results_binned_sqrt.sort_values(by=[\"mean_test_RMSLE\"], ascending=False)[[\"mean_test_RMSLE\", \"params\"]].head(8)"
   ]
  },
  {
   "cell_type": "code",
   "execution_count": 143,
   "id": "072bc9ae",
   "metadata": {},
   "outputs": [
    {
     "data": {
      "text/plain": [
       "<seaborn.axisgrid.FacetGrid at 0x14b89de3cf8>"
      ]
     },
     "execution_count": 143,
     "metadata": {},
     "output_type": "execute_result"
    },
    {
     "data": {
      "image/png": "[encoded data removed]",
      "text/plain": [
       "<Figure size 489.5x360 with 1 Axes>"
      ]
     },
     "metadata": {
      "needs_background": "light"
     },
     "output_type": "display_data"
    }
   ],
   "source": [
    "sns.displot(results_binned_sqrt[[\"mean_test_RMSLE\", \"param_regressor\"]][results_binned_sqrt[\"mean_test_RMSLE\"] > -0.8], x=\"mean_test_RMSLE\", hue=\"param_regressor\", kind=\"kde\", bw_adjust = 0.3, common_norm = False, warn_singular=False)"
   ]
  },
  {
   "cell_type": "markdown",
   "id": "133b4eee",
   "metadata": {},
   "source": [
    "И за R-squared оценката:"
   ]
  },
  {
   "cell_type": "code",
   "execution_count": 145,
   "id": "72f5b1e5",
   "metadata": {},
   "outputs": [
    {
     "data": {
      "text/html": [
       "<div>\n",
       "<style scoped>\n",
       "    .dataframe tbody tr th:only-of-type {\n",
       "        vertical-align: middle;\n",
       "    }\n",
       "\n",
       "    .dataframe tbody tr th {\n",
       "        vertical-align: top;\n",
       "    }\n",
       "\n",
       "    .dataframe thead th {\n",
       "        text-align: right;\n",
       "    }\n",
       "</style>\n",
       "<table border=\"1\" class=\"dataframe\">\n",
       "  <thead>\n",
       "    <tr style=\"text-align: right;\">\n",
       "      <th></th>\n",
       "      <th>mean_test_R-squared</th>\n",
       "      <th>params</th>\n",
       "    </tr>\n",
       "  </thead>\n",
       "  <tbody>\n",
       "    <tr>\n",
       "      <th>325</th>\n",
       "      <td>0.945303</td>\n",
       "      <td>{'preprocessing': MinMaxScaler(), 'regressor': MLPRegressor(), 'regressor__activation': 'tanh', 'regressor__alpha': 0.1, 'regressor__hidden_layer_sizes': (150, 60), 'regressor__max_iter': 500}</td>\n",
       "    </tr>\n",
       "    <tr>\n",
       "      <th>324</th>\n",
       "      <td>0.944349</td>\n",
       "      <td>{'preprocessing': MinMaxScaler(), 'regressor': MLPRegressor(), 'regressor__activation': 'tanh', 'regressor__alpha': 0.1, 'regressor__hidden_layer_sizes': (80, 40), 'regressor__max_iter': 500}</td>\n",
       "    </tr>\n",
       "    <tr>\n",
       "      <th>326</th>\n",
       "      <td>0.940440</td>\n",
       "      <td>{'preprocessing': MinMaxScaler(), 'regressor': MLPRegressor(), 'regressor__activation': 'tanh', 'regressor__alpha': 0.1, 'regressor__hidden_layer_sizes': (150, 60, 30), 'regressor__max_iter': 500}</td>\n",
       "    </tr>\n",
       "    <tr>\n",
       "      <th>316</th>\n",
       "      <td>0.940065</td>\n",
       "      <td>{'preprocessing': MinMaxScaler(), 'regressor': MLPRegressor(), 'regressor__activation': 'logistic', 'regressor__alpha': 0.0001, 'regressor__hidden_layer_sizes': (150, 60), 'regressor__max_iter': 500}</td>\n",
       "    </tr>\n",
       "    <tr>\n",
       "      <th>330</th>\n",
       "      <td>0.939476</td>\n",
       "      <td>{'preprocessing': MinMaxScaler(), 'regressor': MLPRegressor(), 'regressor__activation': 'relu', 'regressor__alpha': 0.1, 'regressor__hidden_layer_sizes': (80, 40), 'regressor__max_iter': 500}</td>\n",
       "    </tr>\n",
       "    <tr>\n",
       "      <th>315</th>\n",
       "      <td>0.939380</td>\n",
       "      <td>{'preprocessing': MinMaxScaler(), 'regressor': MLPRegressor(), 'regressor__activation': 'logistic', 'regressor__alpha': 0.0001, 'regressor__hidden_layer_sizes': (80, 40), 'regressor__max_iter': 500}</td>\n",
       "    </tr>\n",
       "    <tr>\n",
       "      <th>317</th>\n",
       "      <td>0.938553</td>\n",
       "      <td>{'preprocessing': MinMaxScaler(), 'regressor': MLPRegressor(), 'regressor__activation': 'logistic', 'regressor__alpha': 0.0001, 'regressor__hidden_layer_sizes': (150, 60, 30), 'regressor__max_iter': 500}</td>\n",
       "    </tr>\n",
       "    <tr>\n",
       "      <th>337</th>\n",
       "      <td>0.938523</td>\n",
       "      <td>{'preprocessing': StandardScaler(), 'regressor': MLPRegressor(), 'regressor__activation': 'logistic', 'regressor__alpha': 0.1, 'regressor__hidden_layer_sizes': (150, 60), 'regressor__max_iter': 500}</td>\n",
       "    </tr>\n",
       "  </tbody>\n",
       "</table>\n",
       "</div>"
      ],
      "text/plain": [
       "     mean_test_R-squared  \\\n",
       "325             0.945303   \n",
       "324             0.944349   \n",
       "326             0.940440   \n",
       "316             0.940065   \n",
       "330             0.939476   \n",
       "315             0.939380   \n",
       "317             0.938553   \n",
       "337             0.938523   \n",
       "\n",
       "                                                                                                                                                                                                          params  \n",
       "325             {'preprocessing': MinMaxScaler(), 'regressor': MLPRegressor(), 'regressor__activation': 'tanh', 'regressor__alpha': 0.1, 'regressor__hidden_layer_sizes': (150, 60), 'regressor__max_iter': 500}  \n",
       "324              {'preprocessing': MinMaxScaler(), 'regressor': MLPRegressor(), 'regressor__activation': 'tanh', 'regressor__alpha': 0.1, 'regressor__hidden_layer_sizes': (80, 40), 'regressor__max_iter': 500}  \n",
       "326         {'preprocessing': MinMaxScaler(), 'regressor': MLPRegressor(), 'regressor__activation': 'tanh', 'regressor__alpha': 0.1, 'regressor__hidden_layer_sizes': (150, 60, 30), 'regressor__max_iter': 500}  \n",
       "316      {'preprocessing': MinMaxScaler(), 'regressor': MLPRegressor(), 'regressor__activation': 'logistic', 'regressor__alpha': 0.0001, 'regressor__hidden_layer_sizes': (150, 60), 'regressor__max_iter': 500}  \n",
       "330              {'preprocessing': MinMaxScaler(), 'regressor': MLPRegressor(), 'regressor__activation': 'relu', 'regressor__alpha': 0.1, 'regressor__hidden_layer_sizes': (80, 40), 'regressor__max_iter': 500}  \n",
       "315       {'preprocessing': MinMaxScaler(), 'regressor': MLPRegressor(), 'regressor__activation': 'logistic', 'regressor__alpha': 0.0001, 'regressor__hidden_layer_sizes': (80, 40), 'regressor__max_iter': 500}  \n",
       "317  {'preprocessing': MinMaxScaler(), 'regressor': MLPRegressor(), 'regressor__activation': 'logistic', 'regressor__alpha': 0.0001, 'regressor__hidden_layer_sizes': (150, 60, 30), 'regressor__max_iter': 500}  \n",
       "337       {'preprocessing': StandardScaler(), 'regressor': MLPRegressor(), 'regressor__activation': 'logistic', 'regressor__alpha': 0.1, 'regressor__hidden_layer_sizes': (150, 60), 'regressor__max_iter': 500}  "
      ]
     },
     "execution_count": 145,
     "metadata": {},
     "output_type": "execute_result"
    }
   ],
   "source": [
    "results_binned_sqrt.sort_values(by=[\"mean_test_R-squared\"], ascending=False)[[\"mean_test_R-squared\", \"params\"]].head(8)"
   ]
  },
  {
   "cell_type": "code",
   "execution_count": 149,
   "id": "30b10465",
   "metadata": {},
   "outputs": [
    {
     "data": {
      "text/plain": [
       "<seaborn.axisgrid.FacetGrid at 0x14b99833390>"
      ]
     },
     "execution_count": 149,
     "metadata": {},
     "output_type": "execute_result"
    },
    {
     "data": {
      "image/png": "[encoded data removed]",
      "text/plain": [
       "<Figure size 489.5x360 with 1 Axes>"
      ]
     },
     "metadata": {
      "needs_background": "light"
     },
     "output_type": "display_data"
    }
   ],
   "source": [
    "sns.displot(results_binned_sqrt[[\"mean_test_R-squared\", \"param_regressor\"]][results_binned_sqrt[\"mean_test_R-squared\"] > 0.2], x=\"mean_test_R-squared\", hue=\"param_regressor\", kind=\"kde\", bw_adjust = 0.2, common_norm = False, warn_singular=False)"
   ]
  },
  {
   "cell_type": "markdown",
   "id": "3527c356",
   "metadata": {},
   "source": [
    "Виждаме, че отново линейната регресия се представя зле и регуларизацията не помага.\n",
    "\n",
    "Също така невронната мрежа има видимо предимство пред SVR по отношение на RMSLE оценката, но предимството е доста по-малко за R-squared оценката. Отново SVR е по-чувствителен към параметрите на регуларизация и трябва внимателно да се подберат за получаване на добър резултат."
   ]
  },
  {
   "cell_type": "markdown",
   "id": "3df7fb97",
   "metadata": {},
   "source": [
    "## Обобщение\n",
    "\n",
    "Остана само да направим обобщение на резултатите. Нека да обединим шесте таблици и да видим кои са най-добре представящите се модели и за кои трансформации на характеристиките и целевата функция се постигат."
   ]
  },
  {
   "cell_type": "code",
   "execution_count": 150,
   "id": "c71e6692",
   "metadata": {},
   "outputs": [],
   "source": [
    "brief_01_log = pd.read_csv('data/Search Results/01_log.csv')[[\"mean_test_RMSLE\", \"mean_test_R-squared\", \"params\", \"features_transform\", \"target_transform\"]]\n",
    "brief_01_sqrt = pd.read_csv('data/Search Results/01_sqrt.csv')[[\"mean_test_RMSLE\", \"mean_test_R-squared\", \"params\", \"features_transform\", \"target_transform\"]]\n",
    "brief_cycles_log = pd.read_csv('data/Search Results/cycles_log.csv')[[\"mean_test_RMSLE\", \"mean_test_R-squared\", \"params\", \"features_transform\", \"target_transform\"]]\n",
    "brief_cycles_sqrt = pd.read_csv('data/Search Results/cycles_sqrt.csv')[[\"mean_test_RMSLE\", \"mean_test_R-squared\", \"params\", \"features_transform\", \"target_transform\"]]\n",
    "brief_binned_log = pd.read_csv('data/Search Results/binned_log.csv')[[\"mean_test_RMSLE\", \"mean_test_R-squared\", \"params\", \"features_transform\", \"target_transform\"]]\n",
    "brief_binned_sqrt = pd.read_csv('data/Search Results/binned_sqrt.csv')[[\"mean_test_RMSLE\", \"mean_test_R-squared\", \"params\", \"features_transform\", \"target_transform\"]]\n",
    "\n",
    "brief_results = pd.concat([brief_01_log, brief_01_sqrt, brief_cycles_log, brief_cycles_sqrt, brief_binned_log, brief_binned_sqrt])"
   ]
  },
  {
   "cell_type": "markdown",
   "id": "d3ab3819",
   "metadata": {},
   "source": [
    "Сега да сравним резултатите за всяка от оценките RMSLE и R-squared."
   ]
  },
  {
   "cell_type": "markdown",
   "id": "0511b740",
   "metadata": {},
   "source": [
    "### RMSLE оценка\n",
    "\n",
    "Нека да погледнем кои са 16-та най-добри резултата спрямо RMSLE оценката:"
   ]
  },
  {
   "cell_type": "code",
   "execution_count": 151,
   "id": "6d1ad71e",
   "metadata": {},
   "outputs": [
    {
     "data": {
      "text/html": [
       "<div>\n",
       "<style scoped>\n",
       "    .dataframe tbody tr th:only-of-type {\n",
       "        vertical-align: middle;\n",
       "    }\n",
       "\n",
       "    .dataframe tbody tr th {\n",
       "        vertical-align: top;\n",
       "    }\n",
       "\n",
       "    .dataframe thead th {\n",
       "        text-align: right;\n",
       "    }\n",
       "</style>\n",
       "<table border=\"1\" class=\"dataframe\">\n",
       "  <thead>\n",
       "    <tr style=\"text-align: right;\">\n",
       "      <th></th>\n",
       "      <th>mean_test_RMSLE</th>\n",
       "      <th>params</th>\n",
       "      <th>features_transform</th>\n",
       "      <th>target_transform</th>\n",
       "    </tr>\n",
       "  </thead>\n",
       "  <tbody>\n",
       "    <tr>\n",
       "      <th>180</th>\n",
       "      <td>-0.303893</td>\n",
       "      <td>{'preprocessing': StandardScaler(), 'regressor': MLPRegressor(), 'regressor__activation': 'logistic', 'regressor__alpha': 0.0001, 'regressor__hidden_layer_sizes': (80, 40), 'regressor__max_iter': 500}</td>\n",
       "      <td>cycles</td>\n",
       "      <td>log</td>\n",
       "    </tr>\n",
       "    <tr>\n",
       "      <th>181</th>\n",
       "      <td>-0.305071</td>\n",
       "      <td>{'preprocessing': StandardScaler(), 'regressor': MLPRegressor(), 'regressor__activation': 'logistic', 'regressor__alpha': 0.0001, 'regressor__hidden_layer_sizes': (150, 60), 'regressor__max_iter': 500}</td>\n",
       "      <td>cycles</td>\n",
       "      <td>log</td>\n",
       "    </tr>\n",
       "    <tr>\n",
       "      <th>191</th>\n",
       "      <td>-0.305478</td>\n",
       "      <td>{'preprocessing': StandardScaler(), 'regressor': MLPRegressor(), 'regressor__activation': 'tanh', 'regressor__alpha': 0.1, 'regressor__hidden_layer_sizes': (150, 60, 30), 'regressor__max_iter': 500}</td>\n",
       "      <td>cycles</td>\n",
       "      <td>log</td>\n",
       "    </tr>\n",
       "    <tr>\n",
       "      <th>189</th>\n",
       "      <td>-0.306055</td>\n",
       "      <td>{'preprocessing': StandardScaler(), 'regressor': MLPRegressor(), 'regressor__activation': 'tanh', 'regressor__alpha': 0.1, 'regressor__hidden_layer_sizes': (80, 40), 'regressor__max_iter': 500}</td>\n",
       "      <td>cycles</td>\n",
       "      <td>log</td>\n",
       "    </tr>\n",
       "    <tr>\n",
       "      <th>182</th>\n",
       "      <td>-0.307303</td>\n",
       "      <td>{'preprocessing': StandardScaler(), 'regressor': MLPRegressor(), 'regressor__activation': 'logistic', 'regressor__alpha': 0.0001, 'regressor__hidden_layer_sizes': (150, 60, 30), 'regressor__max_iter': 500}</td>\n",
       "      <td>cycles</td>\n",
       "      <td>log</td>\n",
       "    </tr>\n",
       "    <tr>\n",
       "      <th>181</th>\n",
       "      <td>-0.307829</td>\n",
       "      <td>{'preprocessing': StandardScaler(), 'regressor': MLPRegressor(), 'regressor__activation': 'logistic', 'regressor__alpha': 0.0001, 'regressor__hidden_layer_sizes': (150, 60), 'regressor__max_iter': 500}</td>\n",
       "      <td>cycles</td>\n",
       "      <td>sqrt</td>\n",
       "    </tr>\n",
       "    <tr>\n",
       "      <th>186</th>\n",
       "      <td>-0.309057</td>\n",
       "      <td>{'preprocessing': StandardScaler(), 'regressor': MLPRegressor(), 'regressor__activation': 'tanh', 'regressor__alpha': 0.0001, 'regressor__hidden_layer_sizes': (80, 40), 'regressor__max_iter': 500}</td>\n",
       "      <td>cycles</td>\n",
       "      <td>log</td>\n",
       "    </tr>\n",
       "    <tr>\n",
       "      <th>316</th>\n",
       "      <td>-0.310126</td>\n",
       "      <td>{'preprocessing': MinMaxScaler(), 'regressor': MLPRegressor(), 'regressor__activation': 'logistic', 'regressor__alpha': 0.0001, 'regressor__hidden_layer_sizes': (150, 60), 'regressor__max_iter': 500}</td>\n",
       "      <td>binned</td>\n",
       "      <td>sqrt</td>\n",
       "    </tr>\n",
       "    <tr>\n",
       "      <th>170</th>\n",
       "      <td>-0.310195</td>\n",
       "      <td>{'preprocessing': MinMaxScaler(), 'regressor': MLPRegressor(), 'regressor__activation': 'tanh', 'regressor__alpha': 0.0001, 'regressor__hidden_layer_sizes': (150, 60, 30), 'regressor__max_iter': 500}</td>\n",
       "      <td>cycles</td>\n",
       "      <td>log</td>\n",
       "    </tr>\n",
       "    <tr>\n",
       "      <th>196</th>\n",
       "      <td>-0.310477</td>\n",
       "      <td>{'preprocessing': StandardScaler(), 'regressor': MLPRegressor(), 'regressor__activation': 'relu', 'regressor__alpha': 0.1, 'regressor__hidden_layer_sizes': (150, 60), 'regressor__max_iter': 500}</td>\n",
       "      <td>cycles</td>\n",
       "      <td>log</td>\n",
       "    </tr>\n",
       "    <tr>\n",
       "      <th>119</th>\n",
       "      <td>-0.310694</td>\n",
       "      <td>{'preprocessing': StandardScaler(), 'regressor': MLPRegressor(), 'regressor__activation': 'tanh', 'regressor__alpha': 0.1, 'regressor__hidden_layer_sizes': (150, 60, 30), 'regressor__max_iter': 500}</td>\n",
       "      <td>[0,1]</td>\n",
       "      <td>sqrt</td>\n",
       "    </tr>\n",
       "    <tr>\n",
       "      <th>185</th>\n",
       "      <td>-0.310836</td>\n",
       "      <td>{'preprocessing': StandardScaler(), 'regressor': MLPRegressor(), 'regressor__activation': 'logistic', 'regressor__alpha': 0.1, 'regressor__hidden_layer_sizes': (150, 60, 30), 'regressor__max_iter': 500}</td>\n",
       "      <td>cycles</td>\n",
       "      <td>sqrt</td>\n",
       "    </tr>\n",
       "    <tr>\n",
       "      <th>170</th>\n",
       "      <td>-0.310858</td>\n",
       "      <td>{'preprocessing': MinMaxScaler(), 'regressor': MLPRegressor(), 'regressor__activation': 'tanh', 'regressor__alpha': 0.0001, 'regressor__hidden_layer_sizes': (150, 60, 30), 'regressor__max_iter': 500}</td>\n",
       "      <td>cycles</td>\n",
       "      <td>sqrt</td>\n",
       "    </tr>\n",
       "    <tr>\n",
       "      <th>187</th>\n",
       "      <td>-0.310975</td>\n",
       "      <td>{'preprocessing': StandardScaler(), 'regressor': MLPRegressor(), 'regressor__activation': 'tanh', 'regressor__alpha': 0.0001, 'regressor__hidden_layer_sizes': (150, 60), 'regressor__max_iter': 500}</td>\n",
       "      <td>cycles</td>\n",
       "      <td>log</td>\n",
       "    </tr>\n",
       "    <tr>\n",
       "      <th>183</th>\n",
       "      <td>-0.311088</td>\n",
       "      <td>{'preprocessing': StandardScaler(), 'regressor': MLPRegressor(), 'regressor__activation': 'logistic', 'regressor__alpha': 0.1, 'regressor__hidden_layer_sizes': (80, 40), 'regressor__max_iter': 500}</td>\n",
       "      <td>cycles</td>\n",
       "      <td>sqrt</td>\n",
       "    </tr>\n",
       "    <tr>\n",
       "      <th>197</th>\n",
       "      <td>-0.311896</td>\n",
       "      <td>{'preprocessing': StandardScaler(), 'regressor': MLPRegressor(), 'regressor__activation': 'relu', 'regressor__alpha': 0.1, 'regressor__hidden_layer_sizes': (150, 60, 30), 'regressor__max_iter': 500}</td>\n",
       "      <td>cycles</td>\n",
       "      <td>sqrt</td>\n",
       "    </tr>\n",
       "  </tbody>\n",
       "</table>\n",
       "</div>"
      ],
      "text/plain": [
       "     mean_test_RMSLE  \\\n",
       "180        -0.303893   \n",
       "181        -0.305071   \n",
       "191        -0.305478   \n",
       "189        -0.306055   \n",
       "182        -0.307303   \n",
       "181        -0.307829   \n",
       "186        -0.309057   \n",
       "316        -0.310126   \n",
       "170        -0.310195   \n",
       "196        -0.310477   \n",
       "119        -0.310694   \n",
       "185        -0.310836   \n",
       "170        -0.310858   \n",
       "187        -0.310975   \n",
       "183        -0.311088   \n",
       "197        -0.311896   \n",
       "\n",
       "                                                                                                                                                                                                            params  \\\n",
       "180       {'preprocessing': StandardScaler(), 'regressor': MLPRegressor(), 'regressor__activation': 'logistic', 'regressor__alpha': 0.0001, 'regressor__hidden_layer_sizes': (80, 40), 'regressor__max_iter': 500}   \n",
       "181      {'preprocessing': StandardScaler(), 'regressor': MLPRegressor(), 'regressor__activation': 'logistic', 'regressor__alpha': 0.0001, 'regressor__hidden_layer_sizes': (150, 60), 'regressor__max_iter': 500}   \n",
       "191         {'preprocessing': StandardScaler(), 'regressor': MLPRegressor(), 'regressor__activation': 'tanh', 'regressor__alpha': 0.1, 'regressor__hidden_layer_sizes': (150, 60, 30), 'regressor__max_iter': 500}   \n",
       "189              {'preprocessing': StandardScaler(), 'regressor': MLPRegressor(), 'regressor__activation': 'tanh', 'regressor__alpha': 0.1, 'regressor__hidden_layer_sizes': (80, 40), 'regressor__max_iter': 500}   \n",
       "182  {'preprocessing': StandardScaler(), 'regressor': MLPRegressor(), 'regressor__activation': 'logistic', 'regressor__alpha': 0.0001, 'regressor__hidden_layer_sizes': (150, 60, 30), 'regressor__max_iter': 500}   \n",
       "181      {'preprocessing': StandardScaler(), 'regressor': MLPRegressor(), 'regressor__activation': 'logistic', 'regressor__alpha': 0.0001, 'regressor__hidden_layer_sizes': (150, 60), 'regressor__max_iter': 500}   \n",
       "186           {'preprocessing': StandardScaler(), 'regressor': MLPRegressor(), 'regressor__activation': 'tanh', 'regressor__alpha': 0.0001, 'regressor__hidden_layer_sizes': (80, 40), 'regressor__max_iter': 500}   \n",
       "316        {'preprocessing': MinMaxScaler(), 'regressor': MLPRegressor(), 'regressor__activation': 'logistic', 'regressor__alpha': 0.0001, 'regressor__hidden_layer_sizes': (150, 60), 'regressor__max_iter': 500}   \n",
       "170        {'preprocessing': MinMaxScaler(), 'regressor': MLPRegressor(), 'regressor__activation': 'tanh', 'regressor__alpha': 0.0001, 'regressor__hidden_layer_sizes': (150, 60, 30), 'regressor__max_iter': 500}   \n",
       "196             {'preprocessing': StandardScaler(), 'regressor': MLPRegressor(), 'regressor__activation': 'relu', 'regressor__alpha': 0.1, 'regressor__hidden_layer_sizes': (150, 60), 'regressor__max_iter': 500}   \n",
       "119         {'preprocessing': StandardScaler(), 'regressor': MLPRegressor(), 'regressor__activation': 'tanh', 'regressor__alpha': 0.1, 'regressor__hidden_layer_sizes': (150, 60, 30), 'regressor__max_iter': 500}   \n",
       "185     {'preprocessing': StandardScaler(), 'regressor': MLPRegressor(), 'regressor__activation': 'logistic', 'regressor__alpha': 0.1, 'regressor__hidden_layer_sizes': (150, 60, 30), 'regressor__max_iter': 500}   \n",
       "170        {'preprocessing': MinMaxScaler(), 'regressor': MLPRegressor(), 'regressor__activation': 'tanh', 'regressor__alpha': 0.0001, 'regressor__hidden_layer_sizes': (150, 60, 30), 'regressor__max_iter': 500}   \n",
       "187          {'preprocessing': StandardScaler(), 'regressor': MLPRegressor(), 'regressor__activation': 'tanh', 'regressor__alpha': 0.0001, 'regressor__hidden_layer_sizes': (150, 60), 'regressor__max_iter': 500}   \n",
       "183          {'preprocessing': StandardScaler(), 'regressor': MLPRegressor(), 'regressor__activation': 'logistic', 'regressor__alpha': 0.1, 'regressor__hidden_layer_sizes': (80, 40), 'regressor__max_iter': 500}   \n",
       "197         {'preprocessing': StandardScaler(), 'regressor': MLPRegressor(), 'regressor__activation': 'relu', 'regressor__alpha': 0.1, 'regressor__hidden_layer_sizes': (150, 60, 30), 'regressor__max_iter': 500}   \n",
       "\n",
       "    features_transform target_transform  \n",
       "180             cycles              log  \n",
       "181             cycles              log  \n",
       "191             cycles              log  \n",
       "189             cycles              log  \n",
       "182             cycles              log  \n",
       "181             cycles             sqrt  \n",
       "186             cycles              log  \n",
       "316             binned             sqrt  \n",
       "170             cycles              log  \n",
       "196             cycles              log  \n",
       "119              [0,1]             sqrt  \n",
       "185             cycles             sqrt  \n",
       "170             cycles             sqrt  \n",
       "187             cycles              log  \n",
       "183             cycles             sqrt  \n",
       "197             cycles             sqrt  "
      ]
     },
     "execution_count": 151,
     "metadata": {},
     "output_type": "execute_result"
    }
   ],
   "source": [
    "brief_results.drop(columns=[\"mean_test_R-squared\"]).sort_values(by=[\"mean_test_RMSLE\"], ascending=False).head(16)"
   ]
  },
  {
   "cell_type": "markdown",
   "id": "a4003e2a",
   "metadata": {},
   "source": [
    "Виждаме, че всичките резултати са невронни мрежи. Освен това оценките са много близки като стойности.\n",
    "\n",
    "По отношение на представянето на данните, цикличното представяне на характеристиките дава най-добри резултати, въпреки че и останалите представяния не са лоши за целите на задачата.\n",
    "\n",
    "Относно представянето на целевата стойност, както логаритмуването, така и коренуването имат представителство. Все пак логаритмуването се среща повече от половината път и дава малко по-добри резултати.\n",
    "\n",
    "За самите невронни мрежи най-често се среща активационните функции `tanh` и `logistic`, но и `relu` има представителство.\n",
    "\n",
    "За скалирането на данните `StandardScaler` дава най-добри резултати, но и `MinMaxScaler` има някакво представителство. Може да забележим, че единствения ред с характеристики `binned` използва `MinMaxScaler`, та сигурно двете добре се съгласуват.\n",
    "\n",
    "За размера на скритите слоеве няма ясна зависимост. И трите пробвани размера изглежда са достатъчно изразителни, за да научат закономерностите в данните. \n",
    "\n",
    "Също и параметъра на регуларизация `alpha` изглежда не е повлиял особено."
   ]
  },
  {
   "cell_type": "markdown",
   "id": "d6d9c5e7",
   "metadata": {},
   "source": [
    "### R-squared оценка\n",
    "\n",
    "Да видим каква е ситуацията и с 16-те най-добри модела спрямо R-squared оценката:"
   ]
  },
  {
   "cell_type": "code",
   "execution_count": 152,
   "id": "88391554",
   "metadata": {},
   "outputs": [
    {
     "data": {
      "text/html": [
       "<div>\n",
       "<style scoped>\n",
       "    .dataframe tbody tr th:only-of-type {\n",
       "        vertical-align: middle;\n",
       "    }\n",
       "\n",
       "    .dataframe tbody tr th {\n",
       "        vertical-align: top;\n",
       "    }\n",
       "\n",
       "    .dataframe thead th {\n",
       "        text-align: right;\n",
       "    }\n",
       "</style>\n",
       "<table border=\"1\" class=\"dataframe\">\n",
       "  <thead>\n",
       "    <tr style=\"text-align: right;\">\n",
       "      <th></th>\n",
       "      <th>mean_test_R-squared</th>\n",
       "      <th>params</th>\n",
       "      <th>features_transform</th>\n",
       "      <th>target_transform</th>\n",
       "    </tr>\n",
       "  </thead>\n",
       "  <tbody>\n",
       "    <tr>\n",
       "      <th>184</th>\n",
       "      <td>0.949575</td>\n",
       "      <td>{'preprocessing': StandardScaler(), 'regressor': MLPRegressor(), 'regressor__activation': 'logistic', 'regressor__alpha': 0.1, 'regressor__hidden_layer_sizes': (150, 60), 'regressor__max_iter': 500}</td>\n",
       "      <td>cycles</td>\n",
       "      <td>sqrt</td>\n",
       "    </tr>\n",
       "    <tr>\n",
       "      <th>196</th>\n",
       "      <td>0.949118</td>\n",
       "      <td>{'preprocessing': StandardScaler(), 'regressor': MLPRegressor(), 'regressor__activation': 'relu', 'regressor__alpha': 0.1, 'regressor__hidden_layer_sizes': (150, 60), 'regressor__max_iter': 500}</td>\n",
       "      <td>cycles</td>\n",
       "      <td>sqrt</td>\n",
       "    </tr>\n",
       "    <tr>\n",
       "      <th>181</th>\n",
       "      <td>0.949062</td>\n",
       "      <td>{'preprocessing': StandardScaler(), 'regressor': MLPRegressor(), 'regressor__activation': 'logistic', 'regressor__alpha': 0.0001, 'regressor__hidden_layer_sizes': (150, 60), 'regressor__max_iter': 500}</td>\n",
       "      <td>cycles</td>\n",
       "      <td>sqrt</td>\n",
       "    </tr>\n",
       "    <tr>\n",
       "      <th>197</th>\n",
       "      <td>0.948969</td>\n",
       "      <td>{'preprocessing': StandardScaler(), 'regressor': MLPRegressor(), 'regressor__activation': 'relu', 'regressor__alpha': 0.1, 'regressor__hidden_layer_sizes': (150, 60, 30), 'regressor__max_iter': 500}</td>\n",
       "      <td>cycles</td>\n",
       "      <td>sqrt</td>\n",
       "    </tr>\n",
       "    <tr>\n",
       "      <th>185</th>\n",
       "      <td>0.948892</td>\n",
       "      <td>{'preprocessing': StandardScaler(), 'regressor': MLPRegressor(), 'regressor__activation': 'logistic', 'regressor__alpha': 0.1, 'regressor__hidden_layer_sizes': (150, 60, 30), 'regressor__max_iter': 500}</td>\n",
       "      <td>cycles</td>\n",
       "      <td>sqrt</td>\n",
       "    </tr>\n",
       "    <tr>\n",
       "      <th>189</th>\n",
       "      <td>0.948673</td>\n",
       "      <td>{'preprocessing': StandardScaler(), 'regressor': MLPRegressor(), 'regressor__activation': 'tanh', 'regressor__alpha': 0.1, 'regressor__hidden_layer_sizes': (80, 40), 'regressor__max_iter': 500}</td>\n",
       "      <td>cycles</td>\n",
       "      <td>sqrt</td>\n",
       "    </tr>\n",
       "    <tr>\n",
       "      <th>173</th>\n",
       "      <td>0.948509</td>\n",
       "      <td>{'preprocessing': MinMaxScaler(), 'regressor': MLPRegressor(), 'regressor__activation': 'tanh', 'regressor__alpha': 0.1, 'regressor__hidden_layer_sizes': (150, 60, 30), 'regressor__max_iter': 500}</td>\n",
       "      <td>cycles</td>\n",
       "      <td>sqrt</td>\n",
       "    </tr>\n",
       "    <tr>\n",
       "      <th>183</th>\n",
       "      <td>0.948455</td>\n",
       "      <td>{'preprocessing': StandardScaler(), 'regressor': MLPRegressor(), 'regressor__activation': 'logistic', 'regressor__alpha': 0.1, 'regressor__hidden_layer_sizes': (80, 40), 'regressor__max_iter': 500}</td>\n",
       "      <td>cycles</td>\n",
       "      <td>sqrt</td>\n",
       "    </tr>\n",
       "    <tr>\n",
       "      <th>193</th>\n",
       "      <td>0.948451</td>\n",
       "      <td>{'preprocessing': StandardScaler(), 'regressor': MLPRegressor(), 'regressor__activation': 'relu', 'regressor__alpha': 0.0001, 'regressor__hidden_layer_sizes': (150, 60), 'regressor__max_iter': 500}</td>\n",
       "      <td>cycles</td>\n",
       "      <td>sqrt</td>\n",
       "    </tr>\n",
       "    <tr>\n",
       "      <th>180</th>\n",
       "      <td>0.948263</td>\n",
       "      <td>{'preprocessing': StandardScaler(), 'regressor': MLPRegressor(), 'regressor__activation': 'logistic', 'regressor__alpha': 0.0001, 'regressor__hidden_layer_sizes': (80, 40), 'regressor__max_iter': 500}</td>\n",
       "      <td>cycles</td>\n",
       "      <td>sqrt</td>\n",
       "    </tr>\n",
       "    <tr>\n",
       "      <th>190</th>\n",
       "      <td>0.948252</td>\n",
       "      <td>{'preprocessing': StandardScaler(), 'regressor': MLPRegressor(), 'regressor__activation': 'tanh', 'regressor__alpha': 0.1, 'regressor__hidden_layer_sizes': (150, 60), 'regressor__max_iter': 500}</td>\n",
       "      <td>cycles</td>\n",
       "      <td>sqrt</td>\n",
       "    </tr>\n",
       "    <tr>\n",
       "      <th>171</th>\n",
       "      <td>0.947598</td>\n",
       "      <td>{'preprocessing': MinMaxScaler(), 'regressor': MLPRegressor(), 'regressor__activation': 'tanh', 'regressor__alpha': 0.1, 'regressor__hidden_layer_sizes': (80, 40), 'regressor__max_iter': 500}</td>\n",
       "      <td>cycles</td>\n",
       "      <td>sqrt</td>\n",
       "    </tr>\n",
       "    <tr>\n",
       "      <th>172</th>\n",
       "      <td>0.947583</td>\n",
       "      <td>{'preprocessing': MinMaxScaler(), 'regressor': MLPRegressor(), 'regressor__activation': 'tanh', 'regressor__alpha': 0.1, 'regressor__hidden_layer_sizes': (150, 60), 'regressor__max_iter': 500}</td>\n",
       "      <td>cycles</td>\n",
       "      <td>sqrt</td>\n",
       "    </tr>\n",
       "    <tr>\n",
       "      <th>192</th>\n",
       "      <td>0.947153</td>\n",
       "      <td>{'preprocessing': StandardScaler(), 'regressor': MLPRegressor(), 'regressor__activation': 'relu', 'regressor__alpha': 0.0001, 'regressor__hidden_layer_sizes': (80, 40), 'regressor__max_iter': 500}</td>\n",
       "      <td>cycles</td>\n",
       "      <td>sqrt</td>\n",
       "    </tr>\n",
       "    <tr>\n",
       "      <th>186</th>\n",
       "      <td>0.946446</td>\n",
       "      <td>{'preprocessing': StandardScaler(), 'regressor': MLPRegressor(), 'regressor__activation': 'tanh', 'regressor__alpha': 0.0001, 'regressor__hidden_layer_sizes': (80, 40), 'regressor__max_iter': 500}</td>\n",
       "      <td>cycles</td>\n",
       "      <td>sqrt</td>\n",
       "    </tr>\n",
       "    <tr>\n",
       "      <th>170</th>\n",
       "      <td>0.946363</td>\n",
       "      <td>{'preprocessing': MinMaxScaler(), 'regressor': MLPRegressor(), 'regressor__activation': 'tanh', 'regressor__alpha': 0.0001, 'regressor__hidden_layer_sizes': (150, 60, 30), 'regressor__max_iter': 500}</td>\n",
       "      <td>cycles</td>\n",
       "      <td>sqrt</td>\n",
       "    </tr>\n",
       "  </tbody>\n",
       "</table>\n",
       "</div>"
      ],
      "text/plain": [
       "     mean_test_R-squared  \\\n",
       "184             0.949575   \n",
       "196             0.949118   \n",
       "181             0.949062   \n",
       "197             0.948969   \n",
       "185             0.948892   \n",
       "189             0.948673   \n",
       "173             0.948509   \n",
       "183             0.948455   \n",
       "193             0.948451   \n",
       "180             0.948263   \n",
       "190             0.948252   \n",
       "171             0.947598   \n",
       "172             0.947583   \n",
       "192             0.947153   \n",
       "186             0.946446   \n",
       "170             0.946363   \n",
       "\n",
       "                                                                                                                                                                                                         params  \\\n",
       "184      {'preprocessing': StandardScaler(), 'regressor': MLPRegressor(), 'regressor__activation': 'logistic', 'regressor__alpha': 0.1, 'regressor__hidden_layer_sizes': (150, 60), 'regressor__max_iter': 500}   \n",
       "196          {'preprocessing': StandardScaler(), 'regressor': MLPRegressor(), 'regressor__activation': 'relu', 'regressor__alpha': 0.1, 'regressor__hidden_layer_sizes': (150, 60), 'regressor__max_iter': 500}   \n",
       "181   {'preprocessing': StandardScaler(), 'regressor': MLPRegressor(), 'regressor__activation': 'logistic', 'regressor__alpha': 0.0001, 'regressor__hidden_layer_sizes': (150, 60), 'regressor__max_iter': 500}   \n",
       "197      {'preprocessing': StandardScaler(), 'regressor': MLPRegressor(), 'regressor__activation': 'relu', 'regressor__alpha': 0.1, 'regressor__hidden_layer_sizes': (150, 60, 30), 'regressor__max_iter': 500}   \n",
       "185  {'preprocessing': StandardScaler(), 'regressor': MLPRegressor(), 'regressor__activation': 'logistic', 'regressor__alpha': 0.1, 'regressor__hidden_layer_sizes': (150, 60, 30), 'regressor__max_iter': 500}   \n",
       "189           {'preprocessing': StandardScaler(), 'regressor': MLPRegressor(), 'regressor__activation': 'tanh', 'regressor__alpha': 0.1, 'regressor__hidden_layer_sizes': (80, 40), 'regressor__max_iter': 500}   \n",
       "173        {'preprocessing': MinMaxScaler(), 'regressor': MLPRegressor(), 'regressor__activation': 'tanh', 'regressor__alpha': 0.1, 'regressor__hidden_layer_sizes': (150, 60, 30), 'regressor__max_iter': 500}   \n",
       "183       {'preprocessing': StandardScaler(), 'regressor': MLPRegressor(), 'regressor__activation': 'logistic', 'regressor__alpha': 0.1, 'regressor__hidden_layer_sizes': (80, 40), 'regressor__max_iter': 500}   \n",
       "193       {'preprocessing': StandardScaler(), 'regressor': MLPRegressor(), 'regressor__activation': 'relu', 'regressor__alpha': 0.0001, 'regressor__hidden_layer_sizes': (150, 60), 'regressor__max_iter': 500}   \n",
       "180    {'preprocessing': StandardScaler(), 'regressor': MLPRegressor(), 'regressor__activation': 'logistic', 'regressor__alpha': 0.0001, 'regressor__hidden_layer_sizes': (80, 40), 'regressor__max_iter': 500}   \n",
       "190          {'preprocessing': StandardScaler(), 'regressor': MLPRegressor(), 'regressor__activation': 'tanh', 'regressor__alpha': 0.1, 'regressor__hidden_layer_sizes': (150, 60), 'regressor__max_iter': 500}   \n",
       "171             {'preprocessing': MinMaxScaler(), 'regressor': MLPRegressor(), 'regressor__activation': 'tanh', 'regressor__alpha': 0.1, 'regressor__hidden_layer_sizes': (80, 40), 'regressor__max_iter': 500}   \n",
       "172            {'preprocessing': MinMaxScaler(), 'regressor': MLPRegressor(), 'regressor__activation': 'tanh', 'regressor__alpha': 0.1, 'regressor__hidden_layer_sizes': (150, 60), 'regressor__max_iter': 500}   \n",
       "192        {'preprocessing': StandardScaler(), 'regressor': MLPRegressor(), 'regressor__activation': 'relu', 'regressor__alpha': 0.0001, 'regressor__hidden_layer_sizes': (80, 40), 'regressor__max_iter': 500}   \n",
       "186        {'preprocessing': StandardScaler(), 'regressor': MLPRegressor(), 'regressor__activation': 'tanh', 'regressor__alpha': 0.0001, 'regressor__hidden_layer_sizes': (80, 40), 'regressor__max_iter': 500}   \n",
       "170     {'preprocessing': MinMaxScaler(), 'regressor': MLPRegressor(), 'regressor__activation': 'tanh', 'regressor__alpha': 0.0001, 'regressor__hidden_layer_sizes': (150, 60, 30), 'regressor__max_iter': 500}   \n",
       "\n",
       "    features_transform target_transform  \n",
       "184             cycles             sqrt  \n",
       "196             cycles             sqrt  \n",
       "181             cycles             sqrt  \n",
       "197             cycles             sqrt  \n",
       "185             cycles             sqrt  \n",
       "189             cycles             sqrt  \n",
       "173             cycles             sqrt  \n",
       "183             cycles             sqrt  \n",
       "193             cycles             sqrt  \n",
       "180             cycles             sqrt  \n",
       "190             cycles             sqrt  \n",
       "171             cycles             sqrt  \n",
       "172             cycles             sqrt  \n",
       "192             cycles             sqrt  \n",
       "186             cycles             sqrt  \n",
       "170             cycles             sqrt  "
      ]
     },
     "execution_count": 152,
     "metadata": {},
     "output_type": "execute_result"
    }
   ],
   "source": [
    "brief_results.drop(columns=[\"mean_test_RMSLE\"]).sort_values(by=[\"mean_test_R-squared\"], ascending=False).head(16)"
   ]
  },
  {
   "cell_type": "markdown",
   "id": "7dbec9b2",
   "metadata": {},
   "source": [
    "Отново имаме само невронни мрежи сред най-добрите резултати. Също така пак резултатите са много близки помежду си.\n",
    "\n",
    "Изглежда най-добрите представяния на характеристиките и целевата стойност са съответно цикличното представяне и коренуването.\n",
    "\n",
    "За активационната функция, и трите вида са представени. Различните активационни функции дават само минимални разлики помежду си.\n",
    "\n",
    "Отново изглежда, че `StandardScaler` дава по-добри резултати, но и `MinMaxScaler` има някакво представителство.\n",
    "\n",
    "За размера на скритите слоеве и стойността на `alpha` отново няма ясна зависимост. Всичките варианти дават съпоставимо добри резултати."
   ]
  }
 ],
 "metadata": {
  "celltoolbar": "Slideshow",
  "kernelspec": {
   "display_name": "Python 3",
   "language": "python",
   "name": "python3"
  },
  "language_info": {
   "codemirror_mode": {
    "name": "ipython",
    "version": 3
   },
   "file_extension": ".py",
   "mimetype": "text/x-python",
   "name": "python",
   "nbconvert_exporter": "python",
   "pygments_lexer": "ipython3",
   "version": "3.6.13"
  }
 },
 "nbformat": 4,
 "nbformat_minor": 5
}
